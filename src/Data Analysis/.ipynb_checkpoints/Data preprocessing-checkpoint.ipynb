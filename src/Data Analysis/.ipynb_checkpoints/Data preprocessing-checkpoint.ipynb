{
 "cells": [
  {
   "cell_type": "code",
   "execution_count": 285,
   "metadata": {
    "ExecuteTime": {
     "end_time": "2020-07-05T00:59:22.394919Z",
     "start_time": "2020-07-05T00:59:22.391882Z"
    },
    "pycharm": {
     "is_executing": false
    }
   },
   "outputs": [],
   "source": [
    "import numpy as np\n",
    "import pandas as pd\n",
    "import MySQLdb"
   ]
  },
  {
   "cell_type": "code",
   "execution_count": 286,
   "metadata": {
    "ExecuteTime": {
     "end_time": "2020-07-05T00:59:22.836694Z",
     "start_time": "2020-07-05T00:59:22.832704Z"
    },
    "pycharm": {
     "name": "#%% \n"
    }
   },
   "outputs": [],
   "source": [
    "# too big too load in python\n",
    "# LeaveTime_DB = pd.read_csv(\"D:/datasets/Dublin_bus/data/rt_leavetimes_DB_2018.txt\", sep=';')\n",
    "# Trips_DB = pd.read_csv(\"D:/datasets/Dublin_bus/data/rt_trips_DB_2018.txt\")\n",
    "# Vehicles_DB = pd.read_csv(\"D:/datasets/Dublin_bus/data/rt_vehicles_DB_2018.txt\")"
   ]
  },
  {
   "cell_type": "markdown",
   "metadata": {},
   "source": [
    "# Import data and connect to database"
   ]
  },
  {
   "cell_type": "code",
   "execution_count": 287,
   "metadata": {
    "ExecuteTime": {
     "end_time": "2020-07-05T00:59:23.412016Z",
     "start_time": "2020-07-05T00:59:23.382585Z"
    },
    "pycharm": {
     "is_executing": false,
     "name": "#%%\n"
    }
   },
   "outputs": [],
   "source": [
    "# Connect to mysql\n",
    "cxn = MySQLdb.connect(user='user', password='nUT8+~nYRS/9-i$')\n",
    "cur = cxn.cursor()"
   ]
  },
  {
   "cell_type": "code",
   "execution_count": 288,
   "metadata": {
    "ExecuteTime": {
     "end_time": "2020-07-05T00:59:24.236212Z",
     "start_time": "2020-07-05T00:59:24.232222Z"
    },
    "pycharm": {
     "name": "#%%\n"
    }
   },
   "outputs": [],
   "source": [
    "def GetData(cur, query):\n",
    "    # cur.execute('select * from busduck.leavetimes_01 LIMIT 0,10;')\n",
    "    cur.execute(query)\n",
    "    rows = cur.fetchall()\n",
    "    return    pd.DataFrame(rows, columns=[i[0] for i in cur.description])"
   ]
  },
  {
   "cell_type": "code",
   "execution_count": 208,
   "metadata": {
    "ExecuteTime": {
     "end_time": "2020-07-04T09:40:57.867412Z",
     "start_time": "2020-07-04T09:40:57.698836Z"
    }
   },
   "outputs": [],
   "source": [
    "weather_DF = pd.read_csv(\"D:/datasets/Dublin_bus/2018_daily.csv\")"
   ]
  },
  {
   "cell_type": "code",
   "execution_count": 209,
   "metadata": {
    "ExecuteTime": {
     "end_time": "2020-07-04T09:40:57.940191Z",
     "start_time": "2020-07-04T09:40:57.931215Z"
    }
   },
   "outputs": [
    {
     "data": {
      "text/html": [
       "<div>\n",
       "<style scoped>\n",
       "    .dataframe tbody tr th:only-of-type {\n",
       "        vertical-align: middle;\n",
       "    }\n",
       "\n",
       "    .dataframe tbody tr th {\n",
       "        vertical-align: top;\n",
       "    }\n",
       "\n",
       "    .dataframe thead th {\n",
       "        text-align: right;\n",
       "    }\n",
       "</style>\n",
       "<table border=\"1\" class=\"dataframe\">\n",
       "  <thead>\n",
       "    <tr style=\"text-align: right;\">\n",
       "      <th></th>\n",
       "      <th>date</th>\n",
       "      <th>time</th>\n",
       "      <th>temp</th>\n",
       "      <th>humid</th>\n",
       "      <th>windspeed</th>\n",
       "      <th>condition</th>\n",
       "    </tr>\n",
       "  </thead>\n",
       "  <tbody>\n",
       "    <tr>\n",
       "      <th>17142</th>\n",
       "      <td>2018/12/31</td>\n",
       "      <td>9:30 PM</td>\n",
       "      <td>48</td>\n",
       "      <td>82</td>\n",
       "      <td>15</td>\n",
       "      <td>Mostly Cloudy</td>\n",
       "    </tr>\n",
       "    <tr>\n",
       "      <th>17143</th>\n",
       "      <td>2018/12/31</td>\n",
       "      <td>10:00 PM</td>\n",
       "      <td>48</td>\n",
       "      <td>82</td>\n",
       "      <td>12</td>\n",
       "      <td>Mostly Cloudy</td>\n",
       "    </tr>\n",
       "    <tr>\n",
       "      <th>17144</th>\n",
       "      <td>2018/12/31</td>\n",
       "      <td>10:30 PM</td>\n",
       "      <td>50</td>\n",
       "      <td>76</td>\n",
       "      <td>13</td>\n",
       "      <td>Mostly Cloudy</td>\n",
       "    </tr>\n",
       "    <tr>\n",
       "      <th>17145</th>\n",
       "      <td>2018/12/31</td>\n",
       "      <td>11:00 PM</td>\n",
       "      <td>48</td>\n",
       "      <td>82</td>\n",
       "      <td>13</td>\n",
       "      <td>Mostly Cloudy</td>\n",
       "    </tr>\n",
       "    <tr>\n",
       "      <th>17146</th>\n",
       "      <td>2018/12/31</td>\n",
       "      <td>11:30 PM</td>\n",
       "      <td>48</td>\n",
       "      <td>82</td>\n",
       "      <td>13</td>\n",
       "      <td>Mostly Cloudy</td>\n",
       "    </tr>\n",
       "  </tbody>\n",
       "</table>\n",
       "</div>"
      ],
      "text/plain": [
       "             date      time  temp  humid  windspeed      condition\n",
       "17142  2018/12/31   9:30 PM    48     82         15  Mostly Cloudy\n",
       "17143  2018/12/31  10:00 PM    48     82         12  Mostly Cloudy\n",
       "17144  2018/12/31  10:30 PM    50     76         13  Mostly Cloudy\n",
       "17145  2018/12/31  11:00 PM    48     82         13  Mostly Cloudy\n",
       "17146  2018/12/31  11:30 PM    48     82         13  Mostly Cloudy"
      ]
     },
     "execution_count": 209,
     "metadata": {},
     "output_type": "execute_result"
    }
   ],
   "source": [
    "weather_DF.tail()"
   ]
  },
  {
   "cell_type": "markdown",
   "metadata": {},
   "source": [
    "## Convert column types"
   ]
  },
  {
   "cell_type": "code",
   "execution_count": 211,
   "metadata": {
    "ExecuteTime": {
     "end_time": "2020-07-04T09:40:58.749966Z",
     "start_time": "2020-07-04T09:40:58.744980Z"
    }
   },
   "outputs": [],
   "source": [
    "# convert to datetime\n",
    "def date_to_datetime(x):\n",
    "    \"\"\"convert seconds to timedelta\"\"\"\n",
    "    return datetime.datetime.strptime(x, \"%Y/%m/%d\")"
   ]
  },
  {
   "cell_type": "code",
   "execution_count": 212,
   "metadata": {
    "ExecuteTime": {
     "end_time": "2020-07-04T09:40:58.957115Z",
     "start_time": "2020-07-04T09:40:58.952127Z"
    }
   },
   "outputs": [],
   "source": [
    "# convert 24 hours formate\n",
    "def time12_to_time24(x):\n",
    "    \"\"\"convert seconds to timedelta\"\"\"\n",
    "    return datetime.datetime.strptime(x, \"%I:%M %p\").time()"
   ]
  },
  {
   "cell_type": "code",
   "execution_count": 213,
   "metadata": {
    "ExecuteTime": {
     "end_time": "2020-07-04T09:40:59.901152Z",
     "start_time": "2020-07-04T09:40:59.562041Z"
    }
   },
   "outputs": [],
   "source": [
    "weather_DF[\"date\"] = weather_DF[\"date\"].apply(date_to_datetime)\n",
    "weather_DF[\"time\"] = weather_DF[\"time\"].apply(time12_to_time24)"
   ]
  },
  {
   "cell_type": "code",
   "execution_count": 215,
   "metadata": {
    "ExecuteTime": {
     "end_time": "2020-07-04T09:41:05.641560Z",
     "start_time": "2020-07-04T09:41:05.633581Z"
    }
   },
   "outputs": [
    {
     "data": {
      "text/html": [
       "<div>\n",
       "<style scoped>\n",
       "    .dataframe tbody tr th:only-of-type {\n",
       "        vertical-align: middle;\n",
       "    }\n",
       "\n",
       "    .dataframe tbody tr th {\n",
       "        vertical-align: top;\n",
       "    }\n",
       "\n",
       "    .dataframe thead th {\n",
       "        text-align: right;\n",
       "    }\n",
       "</style>\n",
       "<table border=\"1\" class=\"dataframe\">\n",
       "  <thead>\n",
       "    <tr style=\"text-align: right;\">\n",
       "      <th></th>\n",
       "      <th>date</th>\n",
       "      <th>time</th>\n",
       "      <th>temp</th>\n",
       "      <th>humid</th>\n",
       "      <th>windspeed</th>\n",
       "      <th>condition</th>\n",
       "    </tr>\n",
       "  </thead>\n",
       "  <tbody>\n",
       "    <tr>\n",
       "      <th>0</th>\n",
       "      <td>2018-01-01</td>\n",
       "      <td>00:00:00</td>\n",
       "      <td>39</td>\n",
       "      <td>75</td>\n",
       "      <td>16</td>\n",
       "      <td>Partly Cloudy</td>\n",
       "    </tr>\n",
       "    <tr>\n",
       "      <th>1</th>\n",
       "      <td>2018-01-01</td>\n",
       "      <td>00:30:00</td>\n",
       "      <td>37</td>\n",
       "      <td>81</td>\n",
       "      <td>14</td>\n",
       "      <td>Partly Cloudy</td>\n",
       "    </tr>\n",
       "    <tr>\n",
       "      <th>2</th>\n",
       "      <td>2018-01-01</td>\n",
       "      <td>01:00:00</td>\n",
       "      <td>39</td>\n",
       "      <td>87</td>\n",
       "      <td>29</td>\n",
       "      <td>Light Rain Shower / Windy</td>\n",
       "    </tr>\n",
       "    <tr>\n",
       "      <th>3</th>\n",
       "      <td>2018-01-01</td>\n",
       "      <td>01:30:00</td>\n",
       "      <td>41</td>\n",
       "      <td>81</td>\n",
       "      <td>31</td>\n",
       "      <td>Mostly Cloudy / Windy</td>\n",
       "    </tr>\n",
       "    <tr>\n",
       "      <th>4</th>\n",
       "      <td>2018-01-01</td>\n",
       "      <td>02:00:00</td>\n",
       "      <td>39</td>\n",
       "      <td>87</td>\n",
       "      <td>26</td>\n",
       "      <td>Light Rain Shower / Windy</td>\n",
       "    </tr>\n",
       "  </tbody>\n",
       "</table>\n",
       "</div>"
      ],
      "text/plain": [
       "        date      time  temp  humid  windspeed                  condition\n",
       "0 2018-01-01  00:00:00    39     75         16              Partly Cloudy\n",
       "1 2018-01-01  00:30:00    37     81         14              Partly Cloudy\n",
       "2 2018-01-01  01:00:00    39     87         29  Light Rain Shower / Windy\n",
       "3 2018-01-01  01:30:00    41     81         31      Mostly Cloudy / Windy\n",
       "4 2018-01-01  02:00:00    39     87         26  Light Rain Shower / Windy"
      ]
     },
     "execution_count": 215,
     "metadata": {},
     "output_type": "execute_result"
    }
   ],
   "source": [
    "weather_DF.head()"
   ]
  },
  {
   "cell_type": "code",
   "execution_count": 289,
   "metadata": {
    "ExecuteTime": {
     "end_time": "2020-07-05T00:59:32.092373Z",
     "start_time": "2020-07-05T00:59:32.086390Z"
    }
   },
   "outputs": [
    {
     "data": {
      "text/plain": [
       "date         datetime64[ns]\n",
       "time                 object\n",
       "temp                  int64\n",
       "humid                 int64\n",
       "windspeed             int64\n",
       "condition            object\n",
       "dtype: object"
      ]
     },
     "execution_count": 289,
     "metadata": {},
     "output_type": "execute_result"
    }
   ],
   "source": [
    "weather_DF.dtypes"
   ]
  },
  {
   "cell_type": "markdown",
   "metadata": {},
   "source": [
    "# Select whole year data of line:17 direction:1"
   ]
  },
  {
   "cell_type": "code",
   "execution_count": 290,
   "metadata": {
    "ExecuteTime": {
     "end_time": "2020-07-05T01:04:24.481556Z",
     "start_time": "2020-07-05T00:59:34.702445Z"
    },
    "pycharm": {
     "name": "#%%\n"
    }
   },
   "outputs": [],
   "source": [
    "query = \"\"\"\n",
    "SELECT * FROM busduck.rt_leavetimes_db where TRIPID in \n",
    "(SELECT TRIPID FROM busduck.rt_trips_db where LINEID=\"17\" and DIRECTION = 1);\n",
    "\"\"\"\n",
    "DF = GetData(cur, query)"
   ]
  },
  {
   "cell_type": "code",
   "execution_count": 291,
   "metadata": {
    "ExecuteTime": {
     "end_time": "2020-07-05T01:04:24.714931Z",
     "start_time": "2020-07-05T01:04:24.693987Z"
    }
   },
   "outputs": [
    {
     "data": {
      "text/html": [
       "<div>\n",
       "<style scoped>\n",
       "    .dataframe tbody tr th:only-of-type {\n",
       "        vertical-align: middle;\n",
       "    }\n",
       "\n",
       "    .dataframe tbody tr th {\n",
       "        vertical-align: top;\n",
       "    }\n",
       "\n",
       "    .dataframe thead th {\n",
       "        text-align: right;\n",
       "    }\n",
       "</style>\n",
       "<table border=\"1\" class=\"dataframe\">\n",
       "  <thead>\n",
       "    <tr style=\"text-align: right;\">\n",
       "      <th></th>\n",
       "      <th>DATASOURCE</th>\n",
       "      <th>DAYOFSERVICE</th>\n",
       "      <th>TRIPID</th>\n",
       "      <th>PROGRNUMBER</th>\n",
       "      <th>STOPPOINTID</th>\n",
       "      <th>PLANNEDTIME_ARR</th>\n",
       "      <th>PLANNEDTIME_DEP</th>\n",
       "      <th>ACTUALTIME_ARR</th>\n",
       "      <th>ACTUALTIME_DEP</th>\n",
       "      <th>VEHICLEID</th>\n",
       "      <th>PASSENGERS</th>\n",
       "      <th>PASSENGERSIN</th>\n",
       "      <th>PASSENGERSOUT</th>\n",
       "      <th>DISTANCE</th>\n",
       "      <th>SUPPRESSED</th>\n",
       "      <th>JUSTIFICATIONID</th>\n",
       "      <th>LASTUPDATE</th>\n",
       "      <th>NOTE</th>\n",
       "    </tr>\n",
       "  </thead>\n",
       "  <tbody>\n",
       "    <tr>\n",
       "      <th>0</th>\n",
       "      <td>DB</td>\n",
       "      <td>2018-01-01</td>\n",
       "      <td>5968763</td>\n",
       "      <td>1</td>\n",
       "      <td>1380</td>\n",
       "      <td>50700</td>\n",
       "      <td>50700</td>\n",
       "      <td>50714</td>\n",
       "      <td>50714</td>\n",
       "      <td>2406881</td>\n",
       "      <td>0</td>\n",
       "      <td>0</td>\n",
       "      <td>0</td>\n",
       "      <td>0</td>\n",
       "      <td>0</td>\n",
       "      <td>0</td>\n",
       "      <td>2018-01-08 17:21:10</td>\n",
       "      <td></td>\n",
       "    </tr>\n",
       "    <tr>\n",
       "      <th>1</th>\n",
       "      <td>DB</td>\n",
       "      <td>2018-01-01</td>\n",
       "      <td>5968763</td>\n",
       "      <td>2</td>\n",
       "      <td>1381</td>\n",
       "      <td>50726</td>\n",
       "      <td>50726</td>\n",
       "      <td>50731</td>\n",
       "      <td>50731</td>\n",
       "      <td>2406881</td>\n",
       "      <td>0</td>\n",
       "      <td>0</td>\n",
       "      <td>0</td>\n",
       "      <td>0</td>\n",
       "      <td>0</td>\n",
       "      <td>0</td>\n",
       "      <td>2018-01-08 17:21:10</td>\n",
       "      <td></td>\n",
       "    </tr>\n",
       "    <tr>\n",
       "      <th>2</th>\n",
       "      <td>DB</td>\n",
       "      <td>2018-01-01</td>\n",
       "      <td>5968763</td>\n",
       "      <td>3</td>\n",
       "      <td>1406</td>\n",
       "      <td>50773</td>\n",
       "      <td>50773</td>\n",
       "      <td>50787</td>\n",
       "      <td>50817</td>\n",
       "      <td>2406881</td>\n",
       "      <td>0</td>\n",
       "      <td>0</td>\n",
       "      <td>0</td>\n",
       "      <td>0</td>\n",
       "      <td>0</td>\n",
       "      <td>0</td>\n",
       "      <td>2018-01-08 17:21:10</td>\n",
       "      <td></td>\n",
       "    </tr>\n",
       "    <tr>\n",
       "      <th>3</th>\n",
       "      <td>DB</td>\n",
       "      <td>2018-01-01</td>\n",
       "      <td>5968763</td>\n",
       "      <td>4</td>\n",
       "      <td>1407</td>\n",
       "      <td>50816</td>\n",
       "      <td>50816</td>\n",
       "      <td>50871</td>\n",
       "      <td>50871</td>\n",
       "      <td>2406881</td>\n",
       "      <td>0</td>\n",
       "      <td>0</td>\n",
       "      <td>0</td>\n",
       "      <td>0</td>\n",
       "      <td>0</td>\n",
       "      <td>0</td>\n",
       "      <td>2018-01-08 17:21:10</td>\n",
       "      <td></td>\n",
       "    </tr>\n",
       "    <tr>\n",
       "      <th>4</th>\n",
       "      <td>DB</td>\n",
       "      <td>2018-01-01</td>\n",
       "      <td>5968763</td>\n",
       "      <td>5</td>\n",
       "      <td>1409</td>\n",
       "      <td>50855</td>\n",
       "      <td>50855</td>\n",
       "      <td>50893</td>\n",
       "      <td>50893</td>\n",
       "      <td>2406881</td>\n",
       "      <td>0</td>\n",
       "      <td>0</td>\n",
       "      <td>0</td>\n",
       "      <td>0</td>\n",
       "      <td>0</td>\n",
       "      <td>0</td>\n",
       "      <td>2018-01-08 17:21:10</td>\n",
       "      <td></td>\n",
       "    </tr>\n",
       "  </tbody>\n",
       "</table>\n",
       "</div>"
      ],
      "text/plain": [
       "  DATASOURCE DAYOFSERVICE   TRIPID  PROGRNUMBER STOPPOINTID  PLANNEDTIME_ARR  \\\n",
       "0         DB   2018-01-01  5968763            1        1380            50700   \n",
       "1         DB   2018-01-01  5968763            2        1381            50726   \n",
       "2         DB   2018-01-01  5968763            3        1406            50773   \n",
       "3         DB   2018-01-01  5968763            4        1407            50816   \n",
       "4         DB   2018-01-01  5968763            5        1409            50855   \n",
       "\n",
       "   PLANNEDTIME_DEP  ACTUALTIME_ARR  ACTUALTIME_DEP VEHICLEID  PASSENGERS  \\\n",
       "0            50700           50714           50714   2406881           0   \n",
       "1            50726           50731           50731   2406881           0   \n",
       "2            50773           50787           50817   2406881           0   \n",
       "3            50816           50871           50871   2406881           0   \n",
       "4            50855           50893           50893   2406881           0   \n",
       "\n",
       "   PASSENGERSIN  PASSENGERSOUT  DISTANCE  SUPPRESSED  JUSTIFICATIONID  \\\n",
       "0             0              0         0           0                0   \n",
       "1             0              0         0           0                0   \n",
       "2             0              0         0           0                0   \n",
       "3             0              0         0           0                0   \n",
       "4             0              0         0           0                0   \n",
       "\n",
       "           LASTUPDATE NOTE  \n",
       "0 2018-01-08 17:21:10       \n",
       "1 2018-01-08 17:21:10       \n",
       "2 2018-01-08 17:21:10       \n",
       "3 2018-01-08 17:21:10       \n",
       "4 2018-01-08 17:21:10       "
      ]
     },
     "execution_count": 291,
     "metadata": {},
     "output_type": "execute_result"
    }
   ],
   "source": [
    "DF.head(5)"
   ]
  },
  {
   "cell_type": "code",
   "execution_count": 292,
   "metadata": {
    "ExecuteTime": {
     "end_time": "2020-07-05T01:04:24.937336Z",
     "start_time": "2020-07-05T01:04:24.918388Z"
    }
   },
   "outputs": [
    {
     "data": {
      "text/html": [
       "<div>\n",
       "<style scoped>\n",
       "    .dataframe tbody tr th:only-of-type {\n",
       "        vertical-align: middle;\n",
       "    }\n",
       "\n",
       "    .dataframe tbody tr th {\n",
       "        vertical-align: top;\n",
       "    }\n",
       "\n",
       "    .dataframe thead th {\n",
       "        text-align: right;\n",
       "    }\n",
       "</style>\n",
       "<table border=\"1\" class=\"dataframe\">\n",
       "  <thead>\n",
       "    <tr style=\"text-align: right;\">\n",
       "      <th></th>\n",
       "      <th>DATASOURCE</th>\n",
       "      <th>DAYOFSERVICE</th>\n",
       "      <th>TRIPID</th>\n",
       "      <th>PROGRNUMBER</th>\n",
       "      <th>STOPPOINTID</th>\n",
       "      <th>PLANNEDTIME_ARR</th>\n",
       "      <th>PLANNEDTIME_DEP</th>\n",
       "      <th>ACTUALTIME_ARR</th>\n",
       "      <th>ACTUALTIME_DEP</th>\n",
       "      <th>VEHICLEID</th>\n",
       "      <th>PASSENGERS</th>\n",
       "      <th>PASSENGERSIN</th>\n",
       "      <th>PASSENGERSOUT</th>\n",
       "      <th>DISTANCE</th>\n",
       "      <th>SUPPRESSED</th>\n",
       "      <th>JUSTIFICATIONID</th>\n",
       "      <th>LASTUPDATE</th>\n",
       "      <th>NOTE</th>\n",
       "    </tr>\n",
       "  </thead>\n",
       "  <tbody>\n",
       "    <tr>\n",
       "      <th>582002</th>\n",
       "      <td>DB</td>\n",
       "      <td>2018-12-31</td>\n",
       "      <td>8591872</td>\n",
       "      <td>65</td>\n",
       "      <td>467</td>\n",
       "      <td>65061</td>\n",
       "      <td>65061</td>\n",
       "      <td>65397</td>\n",
       "      <td>65397</td>\n",
       "      <td>2534852</td>\n",
       "      <td>0</td>\n",
       "      <td>0</td>\n",
       "      <td>0</td>\n",
       "      <td>0</td>\n",
       "      <td>0</td>\n",
       "      <td>0</td>\n",
       "      <td>2019-01-16 18:27:21</td>\n",
       "      <td></td>\n",
       "    </tr>\n",
       "    <tr>\n",
       "      <th>582003</th>\n",
       "      <td>DB</td>\n",
       "      <td>2018-12-31</td>\n",
       "      <td>8591872</td>\n",
       "      <td>66</td>\n",
       "      <td>468</td>\n",
       "      <td>65096</td>\n",
       "      <td>65096</td>\n",
       "      <td>65414</td>\n",
       "      <td>65414</td>\n",
       "      <td>2534852</td>\n",
       "      <td>0</td>\n",
       "      <td>0</td>\n",
       "      <td>0</td>\n",
       "      <td>0</td>\n",
       "      <td>0</td>\n",
       "      <td>0</td>\n",
       "      <td>2019-01-16 18:27:21</td>\n",
       "      <td></td>\n",
       "    </tr>\n",
       "    <tr>\n",
       "      <th>582004</th>\n",
       "      <td>DB</td>\n",
       "      <td>2018-12-31</td>\n",
       "      <td>8591872</td>\n",
       "      <td>67</td>\n",
       "      <td>3032</td>\n",
       "      <td>65134</td>\n",
       "      <td>65134</td>\n",
       "      <td>65521</td>\n",
       "      <td>65536</td>\n",
       "      <td>2534852</td>\n",
       "      <td>0</td>\n",
       "      <td>0</td>\n",
       "      <td>0</td>\n",
       "      <td>0</td>\n",
       "      <td>0</td>\n",
       "      <td>0</td>\n",
       "      <td>2019-01-16 18:27:21</td>\n",
       "      <td></td>\n",
       "    </tr>\n",
       "    <tr>\n",
       "      <th>582005</th>\n",
       "      <td>DB</td>\n",
       "      <td>2018-12-31</td>\n",
       "      <td>8591872</td>\n",
       "      <td>68</td>\n",
       "      <td>3033</td>\n",
       "      <td>65180</td>\n",
       "      <td>65180</td>\n",
       "      <td>65600</td>\n",
       "      <td>65600</td>\n",
       "      <td>2534852</td>\n",
       "      <td>0</td>\n",
       "      <td>0</td>\n",
       "      <td>0</td>\n",
       "      <td>0</td>\n",
       "      <td>0</td>\n",
       "      <td>0</td>\n",
       "      <td>2019-01-16 18:27:21</td>\n",
       "      <td></td>\n",
       "    </tr>\n",
       "    <tr>\n",
       "      <th>582006</th>\n",
       "      <td>DB</td>\n",
       "      <td>2018-12-31</td>\n",
       "      <td>8591872</td>\n",
       "      <td>69</td>\n",
       "      <td>3085</td>\n",
       "      <td>65227</td>\n",
       "      <td>65227</td>\n",
       "      <td>65623</td>\n",
       "      <td>65623</td>\n",
       "      <td>2534852</td>\n",
       "      <td>0</td>\n",
       "      <td>0</td>\n",
       "      <td>0</td>\n",
       "      <td>0</td>\n",
       "      <td>0</td>\n",
       "      <td>0</td>\n",
       "      <td>2019-01-16 18:27:21</td>\n",
       "      <td></td>\n",
       "    </tr>\n",
       "  </tbody>\n",
       "</table>\n",
       "</div>"
      ],
      "text/plain": [
       "       DATASOURCE DAYOFSERVICE   TRIPID  PROGRNUMBER STOPPOINTID  \\\n",
       "582002         DB   2018-12-31  8591872           65         467   \n",
       "582003         DB   2018-12-31  8591872           66         468   \n",
       "582004         DB   2018-12-31  8591872           67        3032   \n",
       "582005         DB   2018-12-31  8591872           68        3033   \n",
       "582006         DB   2018-12-31  8591872           69        3085   \n",
       "\n",
       "        PLANNEDTIME_ARR  PLANNEDTIME_DEP  ACTUALTIME_ARR  ACTUALTIME_DEP  \\\n",
       "582002            65061            65061           65397           65397   \n",
       "582003            65096            65096           65414           65414   \n",
       "582004            65134            65134           65521           65536   \n",
       "582005            65180            65180           65600           65600   \n",
       "582006            65227            65227           65623           65623   \n",
       "\n",
       "       VEHICLEID  PASSENGERS  PASSENGERSIN  PASSENGERSOUT  DISTANCE  \\\n",
       "582002   2534852           0             0              0         0   \n",
       "582003   2534852           0             0              0         0   \n",
       "582004   2534852           0             0              0         0   \n",
       "582005   2534852           0             0              0         0   \n",
       "582006   2534852           0             0              0         0   \n",
       "\n",
       "        SUPPRESSED  JUSTIFICATIONID          LASTUPDATE NOTE  \n",
       "582002           0                0 2019-01-16 18:27:21       \n",
       "582003           0                0 2019-01-16 18:27:21       \n",
       "582004           0                0 2019-01-16 18:27:21       \n",
       "582005           0                0 2019-01-16 18:27:21       \n",
       "582006           0                0 2019-01-16 18:27:21       "
      ]
     },
     "execution_count": 292,
     "metadata": {},
     "output_type": "execute_result"
    }
   ],
   "source": [
    "DF.tail(5)"
   ]
  },
  {
   "cell_type": "markdown",
   "metadata": {},
   "source": [
    "# Drop useless columns and duplicate rows and check null"
   ]
  },
  {
   "cell_type": "code",
   "execution_count": 293,
   "metadata": {
    "ExecuteTime": {
     "end_time": "2020-07-05T01:04:25.183677Z",
     "start_time": "2020-07-05T01:04:25.139795Z"
    }
   },
   "outputs": [],
   "source": [
    "unused_cols = [\"DATASOURCE\", \"VEHICLEID\", \"PASSENGERS\", \"PASSENGERSIN\", \"PASSENGERSOUT\",\n",
    "              \"DISTANCE\", \"JUSTIFICATIONID\",\"LASTUPDATE\",\"NOTE\", \"PLANNEDTIME_ARR\", \"PLANNEDTIME_DEP\"]\n",
    "DF_droped = DF.drop(unused_cols, axis=1)"
   ]
  },
  {
   "cell_type": "code",
   "execution_count": 294,
   "metadata": {
    "ExecuteTime": {
     "end_time": "2020-07-05T01:04:25.340885Z",
     "start_time": "2020-07-05T01:04:25.325939Z"
    }
   },
   "outputs": [
    {
     "data": {
      "text/html": [
       "<div>\n",
       "<style scoped>\n",
       "    .dataframe tbody tr th:only-of-type {\n",
       "        vertical-align: middle;\n",
       "    }\n",
       "\n",
       "    .dataframe tbody tr th {\n",
       "        vertical-align: top;\n",
       "    }\n",
       "\n",
       "    .dataframe thead th {\n",
       "        text-align: right;\n",
       "    }\n",
       "</style>\n",
       "<table border=\"1\" class=\"dataframe\">\n",
       "  <thead>\n",
       "    <tr style=\"text-align: right;\">\n",
       "      <th></th>\n",
       "      <th>DAYOFSERVICE</th>\n",
       "      <th>TRIPID</th>\n",
       "      <th>PROGRNUMBER</th>\n",
       "      <th>STOPPOINTID</th>\n",
       "      <th>ACTUALTIME_ARR</th>\n",
       "      <th>ACTUALTIME_DEP</th>\n",
       "      <th>SUPPRESSED</th>\n",
       "    </tr>\n",
       "  </thead>\n",
       "  <tbody>\n",
       "    <tr>\n",
       "      <th>0</th>\n",
       "      <td>2018-01-01</td>\n",
       "      <td>5968763</td>\n",
       "      <td>1</td>\n",
       "      <td>1380</td>\n",
       "      <td>50714</td>\n",
       "      <td>50714</td>\n",
       "      <td>0</td>\n",
       "    </tr>\n",
       "    <tr>\n",
       "      <th>1</th>\n",
       "      <td>2018-01-01</td>\n",
       "      <td>5968763</td>\n",
       "      <td>2</td>\n",
       "      <td>1381</td>\n",
       "      <td>50731</td>\n",
       "      <td>50731</td>\n",
       "      <td>0</td>\n",
       "    </tr>\n",
       "    <tr>\n",
       "      <th>2</th>\n",
       "      <td>2018-01-01</td>\n",
       "      <td>5968763</td>\n",
       "      <td>3</td>\n",
       "      <td>1406</td>\n",
       "      <td>50787</td>\n",
       "      <td>50817</td>\n",
       "      <td>0</td>\n",
       "    </tr>\n",
       "    <tr>\n",
       "      <th>3</th>\n",
       "      <td>2018-01-01</td>\n",
       "      <td>5968763</td>\n",
       "      <td>4</td>\n",
       "      <td>1407</td>\n",
       "      <td>50871</td>\n",
       "      <td>50871</td>\n",
       "      <td>0</td>\n",
       "    </tr>\n",
       "    <tr>\n",
       "      <th>4</th>\n",
       "      <td>2018-01-01</td>\n",
       "      <td>5968763</td>\n",
       "      <td>5</td>\n",
       "      <td>1409</td>\n",
       "      <td>50893</td>\n",
       "      <td>50893</td>\n",
       "      <td>0</td>\n",
       "    </tr>\n",
       "    <tr>\n",
       "      <th>...</th>\n",
       "      <td>...</td>\n",
       "      <td>...</td>\n",
       "      <td>...</td>\n",
       "      <td>...</td>\n",
       "      <td>...</td>\n",
       "      <td>...</td>\n",
       "      <td>...</td>\n",
       "    </tr>\n",
       "    <tr>\n",
       "      <th>582002</th>\n",
       "      <td>2018-12-31</td>\n",
       "      <td>8591872</td>\n",
       "      <td>65</td>\n",
       "      <td>467</td>\n",
       "      <td>65397</td>\n",
       "      <td>65397</td>\n",
       "      <td>0</td>\n",
       "    </tr>\n",
       "    <tr>\n",
       "      <th>582003</th>\n",
       "      <td>2018-12-31</td>\n",
       "      <td>8591872</td>\n",
       "      <td>66</td>\n",
       "      <td>468</td>\n",
       "      <td>65414</td>\n",
       "      <td>65414</td>\n",
       "      <td>0</td>\n",
       "    </tr>\n",
       "    <tr>\n",
       "      <th>582004</th>\n",
       "      <td>2018-12-31</td>\n",
       "      <td>8591872</td>\n",
       "      <td>67</td>\n",
       "      <td>3032</td>\n",
       "      <td>65521</td>\n",
       "      <td>65536</td>\n",
       "      <td>0</td>\n",
       "    </tr>\n",
       "    <tr>\n",
       "      <th>582005</th>\n",
       "      <td>2018-12-31</td>\n",
       "      <td>8591872</td>\n",
       "      <td>68</td>\n",
       "      <td>3033</td>\n",
       "      <td>65600</td>\n",
       "      <td>65600</td>\n",
       "      <td>0</td>\n",
       "    </tr>\n",
       "    <tr>\n",
       "      <th>582006</th>\n",
       "      <td>2018-12-31</td>\n",
       "      <td>8591872</td>\n",
       "      <td>69</td>\n",
       "      <td>3085</td>\n",
       "      <td>65623</td>\n",
       "      <td>65623</td>\n",
       "      <td>0</td>\n",
       "    </tr>\n",
       "  </tbody>\n",
       "</table>\n",
       "<p>582007 rows × 7 columns</p>\n",
       "</div>"
      ],
      "text/plain": [
       "       DAYOFSERVICE   TRIPID  PROGRNUMBER STOPPOINTID  ACTUALTIME_ARR  \\\n",
       "0        2018-01-01  5968763            1        1380           50714   \n",
       "1        2018-01-01  5968763            2        1381           50731   \n",
       "2        2018-01-01  5968763            3        1406           50787   \n",
       "3        2018-01-01  5968763            4        1407           50871   \n",
       "4        2018-01-01  5968763            5        1409           50893   \n",
       "...             ...      ...          ...         ...             ...   \n",
       "582002   2018-12-31  8591872           65         467           65397   \n",
       "582003   2018-12-31  8591872           66         468           65414   \n",
       "582004   2018-12-31  8591872           67        3032           65521   \n",
       "582005   2018-12-31  8591872           68        3033           65600   \n",
       "582006   2018-12-31  8591872           69        3085           65623   \n",
       "\n",
       "        ACTUALTIME_DEP  SUPPRESSED  \n",
       "0                50714           0  \n",
       "1                50731           0  \n",
       "2                50817           0  \n",
       "3                50871           0  \n",
       "4                50893           0  \n",
       "...                ...         ...  \n",
       "582002           65397           0  \n",
       "582003           65414           0  \n",
       "582004           65536           0  \n",
       "582005           65600           0  \n",
       "582006           65623           0  \n",
       "\n",
       "[582007 rows x 7 columns]"
      ]
     },
     "execution_count": 294,
     "metadata": {},
     "output_type": "execute_result"
    }
   ],
   "source": [
    "DF_droped"
   ]
  },
  {
   "cell_type": "code",
   "execution_count": 295,
   "metadata": {
    "ExecuteTime": {
     "end_time": "2020-07-05T01:04:25.788200Z",
     "start_time": "2020-07-05T01:04:25.480509Z"
    }
   },
   "outputs": [
    {
     "data": {
      "text/plain": [
       "0"
      ]
     },
     "execution_count": 295,
     "metadata": {},
     "output_type": "execute_result"
    }
   ],
   "source": [
    "sum(DF_droped.duplicated(keep=False))"
   ]
  },
  {
   "cell_type": "markdown",
   "metadata": {},
   "source": [
    "It shows no duplicate rows"
   ]
  },
  {
   "cell_type": "code",
   "execution_count": 296,
   "metadata": {
    "ExecuteTime": {
     "end_time": "2020-07-05T01:04:26.038530Z",
     "start_time": "2020-07-05T01:04:25.954755Z"
    }
   },
   "outputs": [
    {
     "data": {
      "text/plain": [
       "DAYOFSERVICE      0\n",
       "TRIPID            0\n",
       "PROGRNUMBER       0\n",
       "STOPPOINTID       0\n",
       "ACTUALTIME_ARR    0\n",
       "ACTUALTIME_DEP    0\n",
       "SUPPRESSED        0\n",
       "dtype: int64"
      ]
     },
     "execution_count": 296,
     "metadata": {},
     "output_type": "execute_result"
    }
   ],
   "source": [
    "DF_droped.isnull().sum()"
   ]
  },
  {
   "cell_type": "markdown",
   "metadata": {},
   "source": [
    "It shows no null values"
   ]
  },
  {
   "cell_type": "code",
   "execution_count": 297,
   "metadata": {
    "ExecuteTime": {
     "end_time": "2020-07-05T01:04:26.197106Z",
     "start_time": "2020-07-05T01:04:26.191122Z"
    }
   },
   "outputs": [
    {
     "data": {
      "text/plain": [
       "DAYOFSERVICE      datetime64[ns]\n",
       "TRIPID                    object\n",
       "PROGRNUMBER                int64\n",
       "STOPPOINTID               object\n",
       "ACTUALTIME_ARR             int64\n",
       "ACTUALTIME_DEP             int64\n",
       "SUPPRESSED                 int64\n",
       "dtype: object"
      ]
     },
     "execution_count": 297,
     "metadata": {},
     "output_type": "execute_result"
    }
   ],
   "source": [
    "DF_droped.dtypes"
   ]
  },
  {
   "cell_type": "markdown",
   "metadata": {},
   "source": [
    "# Create Customized Columns "
   ]
  },
  {
   "cell_type": "markdown",
   "metadata": {},
   "source": [
    "## Add 'ARR' and 'DEP' converted to time"
   ]
  },
  {
   "cell_type": "code",
   "execution_count": 298,
   "metadata": {
    "ExecuteTime": {
     "end_time": "2020-07-05T01:04:26.349699Z",
     "start_time": "2020-07-05T01:04:26.345710Z"
    }
   },
   "outputs": [],
   "source": [
    "import datetime"
   ]
  },
  {
   "cell_type": "code",
   "execution_count": 299,
   "metadata": {
    "ExecuteTime": {
     "end_time": "2020-07-05T01:04:26.499300Z",
     "start_time": "2020-07-05T01:04:26.496307Z"
    }
   },
   "outputs": [],
   "source": [
    "def seconds_to_timedelta(x):\n",
    "    \"\"\"convert seconds to timedelta\"\"\"\n",
    "    return datetime.timedelta(seconds=x)"
   ]
  },
  {
   "cell_type": "code",
   "execution_count": 300,
   "metadata": {
    "ExecuteTime": {
     "end_time": "2020-07-05T01:04:30.925500Z",
     "start_time": "2020-07-05T01:04:26.666850Z"
    }
   },
   "outputs": [],
   "source": [
    "DF_droped[\"ACTUALTIME_ARR_DATETIME\"] = DF_droped[\"DAYOFSERVICE\"] + DF_droped[\"ACTUALTIME_ARR\"].apply(seconds_to_timedelta)\n",
    "DF_droped[\"ACTUALTIME_DEP_DATETIME\"] = DF_droped[\"DAYOFSERVICE\"] + DF_droped[\"ACTUALTIME_DEP\"].apply(seconds_to_timedelta)"
   ]
  },
  {
   "cell_type": "code",
   "execution_count": 301,
   "metadata": {
    "ExecuteTime": {
     "end_time": "2020-07-05T01:04:31.129902Z",
     "start_time": "2020-07-05T01:04:31.080035Z"
    }
   },
   "outputs": [],
   "source": [
    "DF_droped[\"WEEK_DAY\"] = DF_droped[\"DAYOFSERVICE\"].dt.dayofweek"
   ]
  },
  {
   "cell_type": "code",
   "execution_count": 302,
   "metadata": {
    "ExecuteTime": {
     "end_time": "2020-07-05T01:04:31.317957Z",
     "start_time": "2020-07-05T01:04:31.305941Z"
    }
   },
   "outputs": [
    {
     "data": {
      "text/html": [
       "<div>\n",
       "<style scoped>\n",
       "    .dataframe tbody tr th:only-of-type {\n",
       "        vertical-align: middle;\n",
       "    }\n",
       "\n",
       "    .dataframe tbody tr th {\n",
       "        vertical-align: top;\n",
       "    }\n",
       "\n",
       "    .dataframe thead th {\n",
       "        text-align: right;\n",
       "    }\n",
       "</style>\n",
       "<table border=\"1\" class=\"dataframe\">\n",
       "  <thead>\n",
       "    <tr style=\"text-align: right;\">\n",
       "      <th></th>\n",
       "      <th>DAYOFSERVICE</th>\n",
       "      <th>TRIPID</th>\n",
       "      <th>PROGRNUMBER</th>\n",
       "      <th>STOPPOINTID</th>\n",
       "      <th>ACTUALTIME_ARR</th>\n",
       "      <th>ACTUALTIME_DEP</th>\n",
       "      <th>SUPPRESSED</th>\n",
       "      <th>ACTUALTIME_ARR_DATETIME</th>\n",
       "      <th>ACTUALTIME_DEP_DATETIME</th>\n",
       "      <th>WEEK_DAY</th>\n",
       "    </tr>\n",
       "  </thead>\n",
       "  <tbody>\n",
       "    <tr>\n",
       "      <th>582002</th>\n",
       "      <td>2018-12-31</td>\n",
       "      <td>8591872</td>\n",
       "      <td>65</td>\n",
       "      <td>467</td>\n",
       "      <td>65397</td>\n",
       "      <td>65397</td>\n",
       "      <td>0</td>\n",
       "      <td>2018-12-31 18:09:57</td>\n",
       "      <td>2018-12-31 18:09:57</td>\n",
       "      <td>0</td>\n",
       "    </tr>\n",
       "    <tr>\n",
       "      <th>582003</th>\n",
       "      <td>2018-12-31</td>\n",
       "      <td>8591872</td>\n",
       "      <td>66</td>\n",
       "      <td>468</td>\n",
       "      <td>65414</td>\n",
       "      <td>65414</td>\n",
       "      <td>0</td>\n",
       "      <td>2018-12-31 18:10:14</td>\n",
       "      <td>2018-12-31 18:10:14</td>\n",
       "      <td>0</td>\n",
       "    </tr>\n",
       "    <tr>\n",
       "      <th>582004</th>\n",
       "      <td>2018-12-31</td>\n",
       "      <td>8591872</td>\n",
       "      <td>67</td>\n",
       "      <td>3032</td>\n",
       "      <td>65521</td>\n",
       "      <td>65536</td>\n",
       "      <td>0</td>\n",
       "      <td>2018-12-31 18:12:01</td>\n",
       "      <td>2018-12-31 18:12:16</td>\n",
       "      <td>0</td>\n",
       "    </tr>\n",
       "    <tr>\n",
       "      <th>582005</th>\n",
       "      <td>2018-12-31</td>\n",
       "      <td>8591872</td>\n",
       "      <td>68</td>\n",
       "      <td>3033</td>\n",
       "      <td>65600</td>\n",
       "      <td>65600</td>\n",
       "      <td>0</td>\n",
       "      <td>2018-12-31 18:13:20</td>\n",
       "      <td>2018-12-31 18:13:20</td>\n",
       "      <td>0</td>\n",
       "    </tr>\n",
       "    <tr>\n",
       "      <th>582006</th>\n",
       "      <td>2018-12-31</td>\n",
       "      <td>8591872</td>\n",
       "      <td>69</td>\n",
       "      <td>3085</td>\n",
       "      <td>65623</td>\n",
       "      <td>65623</td>\n",
       "      <td>0</td>\n",
       "      <td>2018-12-31 18:13:43</td>\n",
       "      <td>2018-12-31 18:13:43</td>\n",
       "      <td>0</td>\n",
       "    </tr>\n",
       "  </tbody>\n",
       "</table>\n",
       "</div>"
      ],
      "text/plain": [
       "       DAYOFSERVICE   TRIPID  PROGRNUMBER STOPPOINTID  ACTUALTIME_ARR  \\\n",
       "582002   2018-12-31  8591872           65         467           65397   \n",
       "582003   2018-12-31  8591872           66         468           65414   \n",
       "582004   2018-12-31  8591872           67        3032           65521   \n",
       "582005   2018-12-31  8591872           68        3033           65600   \n",
       "582006   2018-12-31  8591872           69        3085           65623   \n",
       "\n",
       "        ACTUALTIME_DEP  SUPPRESSED ACTUALTIME_ARR_DATETIME  \\\n",
       "582002           65397           0     2018-12-31 18:09:57   \n",
       "582003           65414           0     2018-12-31 18:10:14   \n",
       "582004           65536           0     2018-12-31 18:12:01   \n",
       "582005           65600           0     2018-12-31 18:13:20   \n",
       "582006           65623           0     2018-12-31 18:13:43   \n",
       "\n",
       "       ACTUALTIME_DEP_DATETIME  WEEK_DAY  \n",
       "582002     2018-12-31 18:09:57         0  \n",
       "582003     2018-12-31 18:10:14         0  \n",
       "582004     2018-12-31 18:12:16         0  \n",
       "582005     2018-12-31 18:13:20         0  \n",
       "582006     2018-12-31 18:13:43         0  "
      ]
     },
     "execution_count": 302,
     "metadata": {},
     "output_type": "execute_result"
    }
   ],
   "source": [
    "# WEEKDAY from 0 to 6\n",
    "DF_droped.tail()"
   ]
  },
  {
   "cell_type": "markdown",
   "metadata": {},
   "source": [
    "## Devided into periods according to 'ACTUALTIME_ARR_DATETIME'"
   ]
  },
  {
   "cell_type": "markdown",
   "metadata": {},
   "source": [
    "if time in 2:00 ~ 2:30, the period would be 2:00 <br>\n",
    "if time in 2:30 ~ 3:00, the period would be 2:30"
   ]
  },
  {
   "cell_type": "code",
   "execution_count": 303,
   "metadata": {
    "ExecuteTime": {
     "end_time": "2020-07-05T01:04:31.467555Z",
     "start_time": "2020-07-05T01:04:31.463565Z"
    }
   },
   "outputs": [],
   "source": [
    "def time_to_periods(x):\n",
    "    \"\"\"convert time to periods defined\"\"\"\n",
    "    if x.minute < 30:\n",
    "        m = 0\n",
    "    else:\n",
    "        m = 30\n",
    "    return datetime.time(x.hour,m)"
   ]
  },
  {
   "cell_type": "code",
   "execution_count": 304,
   "metadata": {
    "ExecuteTime": {
     "end_time": "2020-07-05T01:04:31.624407Z",
     "start_time": "2020-07-05T01:04:31.617425Z"
    }
   },
   "outputs": [],
   "source": [
    "ts = pd.Series(1,index=DF_droped[\"ACTUALTIME_ARR_DATETIME\"])"
   ]
  },
  {
   "cell_type": "code",
   "execution_count": 305,
   "metadata": {
    "ExecuteTime": {
     "end_time": "2020-07-05T01:04:34.666029Z",
     "start_time": "2020-07-05T01:04:31.772519Z"
    }
   },
   "outputs": [],
   "source": [
    "DF_droped[\"PERIOD\"] = DF_droped[\"ACTUALTIME_ARR_DATETIME\"].apply(time_to_periods)"
   ]
  },
  {
   "cell_type": "code",
   "execution_count": 306,
   "metadata": {
    "ExecuteTime": {
     "end_time": "2020-07-05T01:04:34.841517Z",
     "start_time": "2020-07-05T01:04:34.835535Z"
    }
   },
   "outputs": [
    {
     "data": {
      "text/plain": [
       "Timestamp('2018-01-01 00:00:00')"
      ]
     },
     "execution_count": 306,
     "metadata": {},
     "output_type": "execute_result"
    }
   ],
   "source": [
    "DF_droped[\"DAYOFSERVICE\"][0]"
   ]
  },
  {
   "cell_type": "markdown",
   "metadata": {},
   "source": [
    "## Merge dataframes 'DF_droped\" and \"weather_DF\""
   ]
  },
  {
   "cell_type": "markdown",
   "metadata": {},
   "source": [
    "Use left outer join to merge them based on : left_on=['DAYOFSERVICE','PERIOD'],  right_on=['date','time']"
   ]
  },
  {
   "cell_type": "code",
   "execution_count": 307,
   "metadata": {
    "ExecuteTime": {
     "end_time": "2020-07-05T01:04:35.585082Z",
     "start_time": "2020-07-05T01:04:35.002089Z"
    }
   },
   "outputs": [],
   "source": [
    "DF_merged = pd.merge(DF_droped, weather_DF, left_on=['DAYOFSERVICE','PERIOD'], \\\n",
    "         right_on=['date','time'], how='left').drop(['date','time'], axis=1)"
   ]
  },
  {
   "cell_type": "code",
   "execution_count": 309,
   "metadata": {
    "ExecuteTime": {
     "end_time": "2020-07-05T01:04:44.083213Z",
     "start_time": "2020-07-05T01:04:44.068251Z"
    }
   },
   "outputs": [
    {
     "data": {
      "text/html": [
       "<div>\n",
       "<style scoped>\n",
       "    .dataframe tbody tr th:only-of-type {\n",
       "        vertical-align: middle;\n",
       "    }\n",
       "\n",
       "    .dataframe tbody tr th {\n",
       "        vertical-align: top;\n",
       "    }\n",
       "\n",
       "    .dataframe thead th {\n",
       "        text-align: right;\n",
       "    }\n",
       "</style>\n",
       "<table border=\"1\" class=\"dataframe\">\n",
       "  <thead>\n",
       "    <tr style=\"text-align: right;\">\n",
       "      <th></th>\n",
       "      <th>DAYOFSERVICE</th>\n",
       "      <th>TRIPID</th>\n",
       "      <th>PROGRNUMBER</th>\n",
       "      <th>STOPPOINTID</th>\n",
       "      <th>ACTUALTIME_ARR</th>\n",
       "      <th>ACTUALTIME_DEP</th>\n",
       "      <th>SUPPRESSED</th>\n",
       "      <th>ACTUALTIME_ARR_DATETIME</th>\n",
       "      <th>ACTUALTIME_DEP_DATETIME</th>\n",
       "      <th>WEEK_DAY</th>\n",
       "      <th>PERIOD</th>\n",
       "      <th>temp</th>\n",
       "      <th>humid</th>\n",
       "      <th>windspeed</th>\n",
       "      <th>condition</th>\n",
       "    </tr>\n",
       "  </thead>\n",
       "  <tbody>\n",
       "    <tr>\n",
       "      <th>0</th>\n",
       "      <td>2018-01-01</td>\n",
       "      <td>5968763</td>\n",
       "      <td>1</td>\n",
       "      <td>1380</td>\n",
       "      <td>50714</td>\n",
       "      <td>50714</td>\n",
       "      <td>0</td>\n",
       "      <td>2018-01-01 14:05:14</td>\n",
       "      <td>2018-01-01 14:05:14</td>\n",
       "      <td>0</td>\n",
       "      <td>14:00:00</td>\n",
       "      <td>45.0</td>\n",
       "      <td>81.0</td>\n",
       "      <td>29.0</td>\n",
       "      <td>Light Rain Shower / Windy</td>\n",
       "    </tr>\n",
       "    <tr>\n",
       "      <th>1</th>\n",
       "      <td>2018-01-01</td>\n",
       "      <td>5968763</td>\n",
       "      <td>2</td>\n",
       "      <td>1381</td>\n",
       "      <td>50731</td>\n",
       "      <td>50731</td>\n",
       "      <td>0</td>\n",
       "      <td>2018-01-01 14:05:31</td>\n",
       "      <td>2018-01-01 14:05:31</td>\n",
       "      <td>0</td>\n",
       "      <td>14:00:00</td>\n",
       "      <td>45.0</td>\n",
       "      <td>81.0</td>\n",
       "      <td>29.0</td>\n",
       "      <td>Light Rain Shower / Windy</td>\n",
       "    </tr>\n",
       "    <tr>\n",
       "      <th>2</th>\n",
       "      <td>2018-01-01</td>\n",
       "      <td>5968763</td>\n",
       "      <td>3</td>\n",
       "      <td>1406</td>\n",
       "      <td>50787</td>\n",
       "      <td>50817</td>\n",
       "      <td>0</td>\n",
       "      <td>2018-01-01 14:06:27</td>\n",
       "      <td>2018-01-01 14:06:57</td>\n",
       "      <td>0</td>\n",
       "      <td>14:00:00</td>\n",
       "      <td>45.0</td>\n",
       "      <td>81.0</td>\n",
       "      <td>29.0</td>\n",
       "      <td>Light Rain Shower / Windy</td>\n",
       "    </tr>\n",
       "    <tr>\n",
       "      <th>3</th>\n",
       "      <td>2018-01-01</td>\n",
       "      <td>5968763</td>\n",
       "      <td>4</td>\n",
       "      <td>1407</td>\n",
       "      <td>50871</td>\n",
       "      <td>50871</td>\n",
       "      <td>0</td>\n",
       "      <td>2018-01-01 14:07:51</td>\n",
       "      <td>2018-01-01 14:07:51</td>\n",
       "      <td>0</td>\n",
       "      <td>14:00:00</td>\n",
       "      <td>45.0</td>\n",
       "      <td>81.0</td>\n",
       "      <td>29.0</td>\n",
       "      <td>Light Rain Shower / Windy</td>\n",
       "    </tr>\n",
       "    <tr>\n",
       "      <th>4</th>\n",
       "      <td>2018-01-01</td>\n",
       "      <td>5968763</td>\n",
       "      <td>5</td>\n",
       "      <td>1409</td>\n",
       "      <td>50893</td>\n",
       "      <td>50893</td>\n",
       "      <td>0</td>\n",
       "      <td>2018-01-01 14:08:13</td>\n",
       "      <td>2018-01-01 14:08:13</td>\n",
       "      <td>0</td>\n",
       "      <td>14:00:00</td>\n",
       "      <td>45.0</td>\n",
       "      <td>81.0</td>\n",
       "      <td>29.0</td>\n",
       "      <td>Light Rain Shower / Windy</td>\n",
       "    </tr>\n",
       "  </tbody>\n",
       "</table>\n",
       "</div>"
      ],
      "text/plain": [
       "  DAYOFSERVICE   TRIPID  PROGRNUMBER STOPPOINTID  ACTUALTIME_ARR  \\\n",
       "0   2018-01-01  5968763            1        1380           50714   \n",
       "1   2018-01-01  5968763            2        1381           50731   \n",
       "2   2018-01-01  5968763            3        1406           50787   \n",
       "3   2018-01-01  5968763            4        1407           50871   \n",
       "4   2018-01-01  5968763            5        1409           50893   \n",
       "\n",
       "   ACTUALTIME_DEP  SUPPRESSED ACTUALTIME_ARR_DATETIME ACTUALTIME_DEP_DATETIME  \\\n",
       "0           50714           0     2018-01-01 14:05:14     2018-01-01 14:05:14   \n",
       "1           50731           0     2018-01-01 14:05:31     2018-01-01 14:05:31   \n",
       "2           50817           0     2018-01-01 14:06:27     2018-01-01 14:06:57   \n",
       "3           50871           0     2018-01-01 14:07:51     2018-01-01 14:07:51   \n",
       "4           50893           0     2018-01-01 14:08:13     2018-01-01 14:08:13   \n",
       "\n",
       "   WEEK_DAY    PERIOD  temp  humid  windspeed                  condition  \n",
       "0         0  14:00:00  45.0   81.0       29.0  Light Rain Shower / Windy  \n",
       "1         0  14:00:00  45.0   81.0       29.0  Light Rain Shower / Windy  \n",
       "2         0  14:00:00  45.0   81.0       29.0  Light Rain Shower / Windy  \n",
       "3         0  14:00:00  45.0   81.0       29.0  Light Rain Shower / Windy  \n",
       "4         0  14:00:00  45.0   81.0       29.0  Light Rain Shower / Windy  "
      ]
     },
     "execution_count": 309,
     "metadata": {},
     "output_type": "execute_result"
    }
   ],
   "source": [
    "DF_merged.head()"
   ]
  },
  {
   "cell_type": "markdown",
   "metadata": {},
   "source": [
    "## Add 'dwell time' and 'diff time'"
   ]
  },
  {
   "cell_type": "markdown",
   "metadata": {},
   "source": [
    "'dwell time' = \"ACTUALTIME_DEP\" - \"ACTUALTIME_ARR\"\n",
    "'Diff_time' = ACTUALTIME_ARR\" - ACTUALTIME_ARR\".laststop\n",
    "Groupby DAYOFSERVICE and TRIPID"
   ]
  },
  {
   "cell_type": "code",
   "execution_count": 357,
   "metadata": {
    "ExecuteTime": {
     "end_time": "2020-07-05T06:54:04.583741Z",
     "start_time": "2020-07-05T06:54:04.571783Z"
    }
   },
   "outputs": [],
   "source": [
    "DF_merged['DWELLTIME'] = DF_merged[\"ACTUALTIME_DEP\"] - DF_merged[\"ACTUALTIME_ARR\"]"
   ]
  },
  {
   "cell_type": "code",
   "execution_count": 343,
   "metadata": {
    "ExecuteTime": {
     "end_time": "2020-07-05T05:57:32.583579Z",
     "start_time": "2020-07-05T05:57:32.562900Z"
    },
    "scrolled": true
   },
   "outputs": [
    {
     "data": {
      "text/html": [
       "<div>\n",
       "<style scoped>\n",
       "    .dataframe tbody tr th:only-of-type {\n",
       "        vertical-align: middle;\n",
       "    }\n",
       "\n",
       "    .dataframe tbody tr th {\n",
       "        vertical-align: top;\n",
       "    }\n",
       "\n",
       "    .dataframe thead th {\n",
       "        text-align: right;\n",
       "    }\n",
       "</style>\n",
       "<table border=\"1\" class=\"dataframe\">\n",
       "  <thead>\n",
       "    <tr style=\"text-align: right;\">\n",
       "      <th></th>\n",
       "      <th>DAYOFSERVICE</th>\n",
       "      <th>TRIPID</th>\n",
       "      <th>PROGRNUMBER</th>\n",
       "      <th>STOPPOINTID</th>\n",
       "      <th>ACTUALTIME_ARR</th>\n",
       "      <th>ACTUALTIME_DEP</th>\n",
       "      <th>SUPPRESSED</th>\n",
       "      <th>ACTUALTIME_ARR_DATETIME</th>\n",
       "      <th>ACTUALTIME_DEP_DATETIME</th>\n",
       "      <th>WEEK_DAY</th>\n",
       "      <th>PERIOD</th>\n",
       "      <th>temp</th>\n",
       "      <th>humid</th>\n",
       "      <th>windspeed</th>\n",
       "      <th>condition</th>\n",
       "      <th>DWELLTIME</th>\n",
       "    </tr>\n",
       "  </thead>\n",
       "  <tbody>\n",
       "    <tr>\n",
       "      <th>0</th>\n",
       "      <td>2018-01-01</td>\n",
       "      <td>5968763</td>\n",
       "      <td>1</td>\n",
       "      <td>1380</td>\n",
       "      <td>50714</td>\n",
       "      <td>50714</td>\n",
       "      <td>0</td>\n",
       "      <td>2018-01-01 14:05:14</td>\n",
       "      <td>2018-01-01 14:05:14</td>\n",
       "      <td>0</td>\n",
       "      <td>14:00:00</td>\n",
       "      <td>45.0</td>\n",
       "      <td>81.0</td>\n",
       "      <td>29.0</td>\n",
       "      <td>Light Rain Shower / Windy</td>\n",
       "      <td>0</td>\n",
       "    </tr>\n",
       "    <tr>\n",
       "      <th>1</th>\n",
       "      <td>2018-01-01</td>\n",
       "      <td>5968763</td>\n",
       "      <td>2</td>\n",
       "      <td>1381</td>\n",
       "      <td>50731</td>\n",
       "      <td>50731</td>\n",
       "      <td>0</td>\n",
       "      <td>2018-01-01 14:05:31</td>\n",
       "      <td>2018-01-01 14:05:31</td>\n",
       "      <td>0</td>\n",
       "      <td>14:00:00</td>\n",
       "      <td>45.0</td>\n",
       "      <td>81.0</td>\n",
       "      <td>29.0</td>\n",
       "      <td>Light Rain Shower / Windy</td>\n",
       "      <td>0</td>\n",
       "    </tr>\n",
       "    <tr>\n",
       "      <th>2</th>\n",
       "      <td>2018-01-01</td>\n",
       "      <td>5968763</td>\n",
       "      <td>3</td>\n",
       "      <td>1406</td>\n",
       "      <td>50787</td>\n",
       "      <td>50817</td>\n",
       "      <td>0</td>\n",
       "      <td>2018-01-01 14:06:27</td>\n",
       "      <td>2018-01-01 14:06:57</td>\n",
       "      <td>0</td>\n",
       "      <td>14:00:00</td>\n",
       "      <td>45.0</td>\n",
       "      <td>81.0</td>\n",
       "      <td>29.0</td>\n",
       "      <td>Light Rain Shower / Windy</td>\n",
       "      <td>0</td>\n",
       "    </tr>\n",
       "    <tr>\n",
       "      <th>3</th>\n",
       "      <td>2018-01-01</td>\n",
       "      <td>5968763</td>\n",
       "      <td>4</td>\n",
       "      <td>1407</td>\n",
       "      <td>50871</td>\n",
       "      <td>50871</td>\n",
       "      <td>0</td>\n",
       "      <td>2018-01-01 14:07:51</td>\n",
       "      <td>2018-01-01 14:07:51</td>\n",
       "      <td>0</td>\n",
       "      <td>14:00:00</td>\n",
       "      <td>45.0</td>\n",
       "      <td>81.0</td>\n",
       "      <td>29.0</td>\n",
       "      <td>Light Rain Shower / Windy</td>\n",
       "      <td>0</td>\n",
       "    </tr>\n",
       "    <tr>\n",
       "      <th>4</th>\n",
       "      <td>2018-01-01</td>\n",
       "      <td>5968763</td>\n",
       "      <td>5</td>\n",
       "      <td>1409</td>\n",
       "      <td>50893</td>\n",
       "      <td>50893</td>\n",
       "      <td>0</td>\n",
       "      <td>2018-01-01 14:08:13</td>\n",
       "      <td>2018-01-01 14:08:13</td>\n",
       "      <td>0</td>\n",
       "      <td>14:00:00</td>\n",
       "      <td>45.0</td>\n",
       "      <td>81.0</td>\n",
       "      <td>29.0</td>\n",
       "      <td>Light Rain Shower / Windy</td>\n",
       "      <td>0</td>\n",
       "    </tr>\n",
       "  </tbody>\n",
       "</table>\n",
       "</div>"
      ],
      "text/plain": [
       "  DAYOFSERVICE   TRIPID  PROGRNUMBER STOPPOINTID  ACTUALTIME_ARR  \\\n",
       "0   2018-01-01  5968763            1        1380           50714   \n",
       "1   2018-01-01  5968763            2        1381           50731   \n",
       "2   2018-01-01  5968763            3        1406           50787   \n",
       "3   2018-01-01  5968763            4        1407           50871   \n",
       "4   2018-01-01  5968763            5        1409           50893   \n",
       "\n",
       "   ACTUALTIME_DEP  SUPPRESSED ACTUALTIME_ARR_DATETIME ACTUALTIME_DEP_DATETIME  \\\n",
       "0           50714           0     2018-01-01 14:05:14     2018-01-01 14:05:14   \n",
       "1           50731           0     2018-01-01 14:05:31     2018-01-01 14:05:31   \n",
       "2           50817           0     2018-01-01 14:06:27     2018-01-01 14:06:57   \n",
       "3           50871           0     2018-01-01 14:07:51     2018-01-01 14:07:51   \n",
       "4           50893           0     2018-01-01 14:08:13     2018-01-01 14:08:13   \n",
       "\n",
       "   WEEK_DAY    PERIOD  temp  humid  windspeed                  condition  \\\n",
       "0         0  14:00:00  45.0   81.0       29.0  Light Rain Shower / Windy   \n",
       "1         0  14:00:00  45.0   81.0       29.0  Light Rain Shower / Windy   \n",
       "2         0  14:00:00  45.0   81.0       29.0  Light Rain Shower / Windy   \n",
       "3         0  14:00:00  45.0   81.0       29.0  Light Rain Shower / Windy   \n",
       "4         0  14:00:00  45.0   81.0       29.0  Light Rain Shower / Windy   \n",
       "\n",
       "   DWELLTIME  \n",
       "0          0  \n",
       "1          0  \n",
       "2          0  \n",
       "3          0  \n",
       "4          0  "
      ]
     },
     "execution_count": 343,
     "metadata": {},
     "output_type": "execute_result"
    }
   ],
   "source": [
    "DF_merged.head()"
   ]
  },
  {
   "cell_type": "code",
   "execution_count": 386,
   "metadata": {
    "ExecuteTime": {
     "end_time": "2020-07-05T07:44:24.625413Z",
     "start_time": "2020-07-05T07:44:22.700667Z"
    }
   },
   "outputs": [],
   "source": [
    "DF_merged['DIFFTIME'] = DF_merged.groupby(['DAYOFSERVICE','TRIPID'])['ACTUALTIME_ARR'].apply(lambda x:x.diff(1))"
   ]
  },
  {
   "cell_type": "code",
   "execution_count": 393,
   "metadata": {
    "ExecuteTime": {
     "end_time": "2020-07-05T08:07:06.959577Z",
     "start_time": "2020-07-05T08:06:59.269509Z"
    },
    "pycharm": {
     "name": "#%%\n"
    }
   },
   "outputs": [],
   "source": [
    "DF_merged.to_csv(\"ABT.csv\")"
   ]
  },
  {
   "cell_type": "code",
   "execution_count": null,
   "metadata": {},
   "outputs": [],
   "source": []
  }
 ],
 "metadata": {
  "kernelspec": {
   "display_name": "H1_dataanalysis",
   "language": "python",
   "name": "h1_dataanalysis"
  },
  "language_info": {
   "codemirror_mode": {
    "name": "ipython",
    "version": 3
   },
   "file_extension": ".py",
   "mimetype": "text/x-python",
   "name": "python",
   "nbconvert_exporter": "python",
   "pygments_lexer": "ipython3",
   "version": "3.7.6"
  },
  "pycharm": {
   "stem_cell": {
    "cell_type": "raw",
    "metadata": {
     "collapsed": false
    },
    "source": []
   }
  },
  "toc": {
   "base_numbering": 1,
   "nav_menu": {},
   "number_sections": true,
   "sideBar": true,
   "skip_h1_title": false,
   "title_cell": "Table of Contents",
   "title_sidebar": "Contents",
   "toc_cell": false,
   "toc_position": {},
   "toc_section_display": true,
   "toc_window_display": false
  },
  "varInspector": {
   "cols": {
    "lenName": 16,
    "lenType": 16,
    "lenVar": 40
   },
   "kernels_config": {
    "python": {
     "delete_cmd_postfix": "",
     "delete_cmd_prefix": "del ",
     "library": "var_list.py",
     "varRefreshCmd": "print(var_dic_list())"
    },
    "r": {
     "delete_cmd_postfix": ") ",
     "delete_cmd_prefix": "rm(",
     "library": "var_list.r",
     "varRefreshCmd": "cat(var_dic_list()) "
    }
   },
   "types_to_exclude": [
    "module",
    "function",
    "builtin_function_or_method",
    "instance",
    "_Feature"
   ],
   "window_display": false
  }
 },
 "nbformat": 4,
 "nbformat_minor": 1
}
