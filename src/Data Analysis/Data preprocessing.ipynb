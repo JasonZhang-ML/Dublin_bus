{
 "cells": [
  {
   "cell_type": "code",
   "execution_count": 1,
   "metadata": {
    "ExecuteTime": {
     "end_time": "2020-07-05T15:32:31.215521Z",
     "start_time": "2020-07-05T15:32:30.794091Z"
    },
    "pycharm": {
     "is_executing": false
    }
   },
   "outputs": [],
   "source": [
    "import numpy as np\n",
    "import pandas as pd\n",
    "import MySQLdb\n",
    "import datetime"
   ]
  },
  {
   "cell_type": "code",
   "execution_count": 2,
   "metadata": {
    "ExecuteTime": {
     "end_time": "2020-07-05T15:32:31.221464Z",
     "start_time": "2020-07-05T15:32:31.217475Z"
    },
    "pycharm": {
     "name": "#%% \n"
    }
   },
   "outputs": [],
   "source": [
    "# too big too load in python\n",
    "# LeaveTime_DB = pd.read_csv(\"D:/datasets/Dublin_bus/data/rt_leavetimes_DB_2018.txt\", sep=';')\n",
    "# Trips_DB = pd.read_csv(\"D:/datasets/Dublin_bus/data/rt_trips_DB_2018.txt\")\n",
    "# Vehicles_DB = pd.read_csv(\"D:/datasets/Dublin_bus/data/rt_vehicles_DB_2018.txt\")"
   ]
  },
  {
   "cell_type": "markdown",
   "metadata": {},
   "source": [
    "# Import data and connect to database"
   ]
  },
  {
   "cell_type": "code",
   "execution_count": 3,
   "metadata": {
    "ExecuteTime": {
     "end_time": "2020-07-05T15:32:31.236467Z",
     "start_time": "2020-07-05T15:32:31.223459Z"
    },
    "pycharm": {
     "is_executing": false,
     "name": "#%%\n"
    }
   },
   "outputs": [],
   "source": [
    "# Connect to mysql\n",
    "cxn = MySQLdb.connect(user='user', password='nUT8+~nYRS/9-i$')\n",
    "cur = cxn.cursor()"
   ]
  },
  {
   "cell_type": "code",
   "execution_count": 4,
   "metadata": {
    "ExecuteTime": {
     "end_time": "2020-07-05T15:32:31.242409Z",
     "start_time": "2020-07-05T15:32:31.238418Z"
    },
    "pycharm": {
     "name": "#%%\n"
    }
   },
   "outputs": [],
   "source": [
    "def GetData(cur, query):\n",
    "    # cur.execute('select * from busduck.leavetimes_01 LIMIT 0,10;')\n",
    "    cur.execute(query)\n",
    "    rows = cur.fetchall()\n",
    "    return    pd.DataFrame(rows, columns=[i[0] for i in cur.description])"
   ]
  },
  {
   "cell_type": "code",
   "execution_count": 51,
   "metadata": {
    "ExecuteTime": {
     "end_time": "2020-07-05T15:43:25.701639Z",
     "start_time": "2020-07-05T15:43:25.683688Z"
    }
   },
   "outputs": [],
   "source": [
    "weather_DF = pd.read_csv(\"D:/datasets/Dublin_bus/2018_daily.csv\")"
   ]
  },
  {
   "cell_type": "code",
   "execution_count": 6,
   "metadata": {
    "ExecuteTime": {
     "end_time": "2020-07-05T15:32:31.282343Z",
     "start_time": "2020-07-05T15:32:31.265347Z"
    }
   },
   "outputs": [
    {
     "data": {
      "text/html": [
       "<div>\n",
       "<style scoped>\n",
       "    .dataframe tbody tr th:only-of-type {\n",
       "        vertical-align: middle;\n",
       "    }\n",
       "\n",
       "    .dataframe tbody tr th {\n",
       "        vertical-align: top;\n",
       "    }\n",
       "\n",
       "    .dataframe thead th {\n",
       "        text-align: right;\n",
       "    }\n",
       "</style>\n",
       "<table border=\"1\" class=\"dataframe\">\n",
       "  <thead>\n",
       "    <tr style=\"text-align: right;\">\n",
       "      <th></th>\n",
       "      <th>date</th>\n",
       "      <th>time</th>\n",
       "      <th>temp</th>\n",
       "      <th>humid</th>\n",
       "      <th>windspeed</th>\n",
       "      <th>condition</th>\n",
       "    </tr>\n",
       "  </thead>\n",
       "  <tbody>\n",
       "    <tr>\n",
       "      <th>17142</th>\n",
       "      <td>2018/12/31</td>\n",
       "      <td>9:30 PM</td>\n",
       "      <td>48</td>\n",
       "      <td>82</td>\n",
       "      <td>15</td>\n",
       "      <td>Mostly Cloudy</td>\n",
       "    </tr>\n",
       "    <tr>\n",
       "      <th>17143</th>\n",
       "      <td>2018/12/31</td>\n",
       "      <td>10:00 PM</td>\n",
       "      <td>48</td>\n",
       "      <td>82</td>\n",
       "      <td>12</td>\n",
       "      <td>Mostly Cloudy</td>\n",
       "    </tr>\n",
       "    <tr>\n",
       "      <th>17144</th>\n",
       "      <td>2018/12/31</td>\n",
       "      <td>10:30 PM</td>\n",
       "      <td>50</td>\n",
       "      <td>76</td>\n",
       "      <td>13</td>\n",
       "      <td>Mostly Cloudy</td>\n",
       "    </tr>\n",
       "    <tr>\n",
       "      <th>17145</th>\n",
       "      <td>2018/12/31</td>\n",
       "      <td>11:00 PM</td>\n",
       "      <td>48</td>\n",
       "      <td>82</td>\n",
       "      <td>13</td>\n",
       "      <td>Mostly Cloudy</td>\n",
       "    </tr>\n",
       "    <tr>\n",
       "      <th>17146</th>\n",
       "      <td>2018/12/31</td>\n",
       "      <td>11:30 PM</td>\n",
       "      <td>48</td>\n",
       "      <td>82</td>\n",
       "      <td>13</td>\n",
       "      <td>Mostly Cloudy</td>\n",
       "    </tr>\n",
       "  </tbody>\n",
       "</table>\n",
       "</div>"
      ],
      "text/plain": [
       "             date      time  temp  humid  windspeed      condition\n",
       "17142  2018/12/31   9:30 PM    48     82         15  Mostly Cloudy\n",
       "17143  2018/12/31  10:00 PM    48     82         12  Mostly Cloudy\n",
       "17144  2018/12/31  10:30 PM    50     76         13  Mostly Cloudy\n",
       "17145  2018/12/31  11:00 PM    48     82         13  Mostly Cloudy\n",
       "17146  2018/12/31  11:30 PM    48     82         13  Mostly Cloudy"
      ]
     },
     "execution_count": 6,
     "metadata": {},
     "output_type": "execute_result"
    }
   ],
   "source": [
    "weather_DF.tail()"
   ]
  },
  {
   "cell_type": "code",
   "execution_count": 7,
   "metadata": {
    "ExecuteTime": {
     "end_time": "2020-07-05T15:32:31.290279Z",
     "start_time": "2020-07-05T15:32:31.283298Z"
    }
   },
   "outputs": [
    {
     "data": {
      "text/plain": [
       "date         object\n",
       "time         object\n",
       "temp          int64\n",
       "humid         int64\n",
       "windspeed     int64\n",
       "condition    object\n",
       "dtype: object"
      ]
     },
     "execution_count": 7,
     "metadata": {},
     "output_type": "execute_result"
    }
   ],
   "source": [
    "weather_DF.dtypes"
   ]
  },
  {
   "cell_type": "markdown",
   "metadata": {},
   "source": [
    "The weather table should have 17520 rows. It means that the weather website fail to display some time points.<br>\n",
    "We should insert missing rows to the weather_DF"
   ]
  },
  {
   "cell_type": "markdown",
   "metadata": {},
   "source": [
    "## Interpolation"
   ]
  },
  {
   "cell_type": "code",
   "execution_count": 8,
   "metadata": {
    "ExecuteTime": {
     "end_time": "2020-07-05T15:32:31.297262Z",
     "start_time": "2020-07-05T15:32:31.293274Z"
    }
   },
   "outputs": [],
   "source": [
    "# convert 24 hours formate\n",
    "def time12_to_timedelta(x):\n",
    "    \"\"\"convert seconds to timedelta\"\"\"\n",
    "    t = datetime.datetime.strptime(x, \"%I:%M %p\")\n",
    "    return datetime.timedelta(hours=t.hour, minutes=t.minute, seconds=t.second)"
   ]
  },
  {
   "cell_type": "code",
   "execution_count": 9,
   "metadata": {
    "ExecuteTime": {
     "end_time": "2020-07-05T15:32:31.304242Z",
     "start_time": "2020-07-05T15:32:31.299257Z"
    }
   },
   "outputs": [],
   "source": [
    "# convert to datetime\n",
    "def date_to_datetime(x):\n",
    "    \"\"\"convert seconds to timedelta\"\"\"\n",
    "    return datetime.datetime.strptime(x, \"%Y/%m/%d\")"
   ]
  },
  {
   "cell_type": "code",
   "execution_count": 52,
   "metadata": {
    "ExecuteTime": {
     "end_time": "2020-07-05T15:43:30.373589Z",
     "start_time": "2020-07-05T15:43:29.954351Z"
    }
   },
   "outputs": [],
   "source": [
    "weather_index = weather_DF['date'].apply(date_to_datetime) + weather_DF['time'].apply(time12_to_timedelta)"
   ]
  },
  {
   "cell_type": "code",
   "execution_count": 55,
   "metadata": {
    "ExecuteTime": {
     "end_time": "2020-07-05T15:43:59.115606Z",
     "start_time": "2020-07-05T15:43:59.097654Z"
    },
    "scrolled": false
   },
   "outputs": [
    {
     "data": {
      "text/html": [
       "<div>\n",
       "<style scoped>\n",
       "    .dataframe tbody tr th:only-of-type {\n",
       "        vertical-align: middle;\n",
       "    }\n",
       "\n",
       "    .dataframe tbody tr th {\n",
       "        vertical-align: top;\n",
       "    }\n",
       "\n",
       "    .dataframe thead th {\n",
       "        text-align: right;\n",
       "    }\n",
       "</style>\n",
       "<table border=\"1\" class=\"dataframe\">\n",
       "  <thead>\n",
       "    <tr style=\"text-align: right;\">\n",
       "      <th></th>\n",
       "      <th>date</th>\n",
       "      <th>time</th>\n",
       "      <th>temp</th>\n",
       "      <th>humid</th>\n",
       "      <th>windspeed</th>\n",
       "      <th>condition</th>\n",
       "    </tr>\n",
       "  </thead>\n",
       "  <tbody>\n",
       "    <tr>\n",
       "      <th>0</th>\n",
       "      <td>2018/1/1</td>\n",
       "      <td>12:00 AM</td>\n",
       "      <td>39</td>\n",
       "      <td>75</td>\n",
       "      <td>16</td>\n",
       "      <td>Partly Cloudy</td>\n",
       "    </tr>\n",
       "    <tr>\n",
       "      <th>1</th>\n",
       "      <td>2018/1/1</td>\n",
       "      <td>12:30 AM</td>\n",
       "      <td>37</td>\n",
       "      <td>81</td>\n",
       "      <td>14</td>\n",
       "      <td>Partly Cloudy</td>\n",
       "    </tr>\n",
       "    <tr>\n",
       "      <th>2</th>\n",
       "      <td>2018/1/1</td>\n",
       "      <td>1:00 AM</td>\n",
       "      <td>39</td>\n",
       "      <td>87</td>\n",
       "      <td>29</td>\n",
       "      <td>Light Rain Shower / Windy</td>\n",
       "    </tr>\n",
       "    <tr>\n",
       "      <th>3</th>\n",
       "      <td>2018/1/1</td>\n",
       "      <td>1:30 AM</td>\n",
       "      <td>41</td>\n",
       "      <td>81</td>\n",
       "      <td>31</td>\n",
       "      <td>Mostly Cloudy / Windy</td>\n",
       "    </tr>\n",
       "    <tr>\n",
       "      <th>4</th>\n",
       "      <td>2018/1/1</td>\n",
       "      <td>2:00 AM</td>\n",
       "      <td>39</td>\n",
       "      <td>87</td>\n",
       "      <td>26</td>\n",
       "      <td>Light Rain Shower / Windy</td>\n",
       "    </tr>\n",
       "    <tr>\n",
       "      <th>...</th>\n",
       "      <td>...</td>\n",
       "      <td>...</td>\n",
       "      <td>...</td>\n",
       "      <td>...</td>\n",
       "      <td>...</td>\n",
       "      <td>...</td>\n",
       "    </tr>\n",
       "    <tr>\n",
       "      <th>17142</th>\n",
       "      <td>2018/12/31</td>\n",
       "      <td>9:30 PM</td>\n",
       "      <td>48</td>\n",
       "      <td>82</td>\n",
       "      <td>15</td>\n",
       "      <td>Mostly Cloudy</td>\n",
       "    </tr>\n",
       "    <tr>\n",
       "      <th>17143</th>\n",
       "      <td>2018/12/31</td>\n",
       "      <td>10:00 PM</td>\n",
       "      <td>48</td>\n",
       "      <td>82</td>\n",
       "      <td>12</td>\n",
       "      <td>Mostly Cloudy</td>\n",
       "    </tr>\n",
       "    <tr>\n",
       "      <th>17144</th>\n",
       "      <td>2018/12/31</td>\n",
       "      <td>10:30 PM</td>\n",
       "      <td>50</td>\n",
       "      <td>76</td>\n",
       "      <td>13</td>\n",
       "      <td>Mostly Cloudy</td>\n",
       "    </tr>\n",
       "    <tr>\n",
       "      <th>17145</th>\n",
       "      <td>2018/12/31</td>\n",
       "      <td>11:00 PM</td>\n",
       "      <td>48</td>\n",
       "      <td>82</td>\n",
       "      <td>13</td>\n",
       "      <td>Mostly Cloudy</td>\n",
       "    </tr>\n",
       "    <tr>\n",
       "      <th>17146</th>\n",
       "      <td>2018/12/31</td>\n",
       "      <td>11:30 PM</td>\n",
       "      <td>48</td>\n",
       "      <td>82</td>\n",
       "      <td>13</td>\n",
       "      <td>Mostly Cloudy</td>\n",
       "    </tr>\n",
       "  </tbody>\n",
       "</table>\n",
       "<p>17145 rows × 6 columns</p>\n",
       "</div>"
      ],
      "text/plain": [
       "             date      time  temp  humid  windspeed                  condition\n",
       "0        2018/1/1  12:00 AM    39     75         16              Partly Cloudy\n",
       "1        2018/1/1  12:30 AM    37     81         14              Partly Cloudy\n",
       "2        2018/1/1   1:00 AM    39     87         29  Light Rain Shower / Windy\n",
       "3        2018/1/1   1:30 AM    41     81         31      Mostly Cloudy / Windy\n",
       "4        2018/1/1   2:00 AM    39     87         26  Light Rain Shower / Windy\n",
       "...           ...       ...   ...    ...        ...                        ...\n",
       "17142  2018/12/31   9:30 PM    48     82         15              Mostly Cloudy\n",
       "17143  2018/12/31  10:00 PM    48     82         12              Mostly Cloudy\n",
       "17144  2018/12/31  10:30 PM    50     76         13              Mostly Cloudy\n",
       "17145  2018/12/31  11:00 PM    48     82         13              Mostly Cloudy\n",
       "17146  2018/12/31  11:30 PM    48     82         13              Mostly Cloudy\n",
       "\n",
       "[17145 rows x 6 columns]"
      ]
     },
     "execution_count": 55,
     "metadata": {},
     "output_type": "execute_result"
    }
   ],
   "source": [
    "weather_DF = weather_DF.loc[~weather_index.duplicated(keep='first')] # drop dupplicated\n",
    "weather_DF"
   ]
  },
  {
   "cell_type": "code",
   "execution_count": 56,
   "metadata": {
    "ExecuteTime": {
     "end_time": "2020-07-05T15:44:02.234045Z",
     "start_time": "2020-07-05T15:44:02.227064Z"
    }
   },
   "outputs": [
    {
     "data": {
      "text/plain": [
       "0       2018-01-01 00:00:00\n",
       "1       2018-01-01 00:30:00\n",
       "2       2018-01-01 01:00:00\n",
       "3       2018-01-01 01:30:00\n",
       "4       2018-01-01 02:00:00\n",
       "                ...        \n",
       "17142   2018-12-31 21:30:00\n",
       "17143   2018-12-31 22:00:00\n",
       "17144   2018-12-31 22:30:00\n",
       "17145   2018-12-31 23:00:00\n",
       "17146   2018-12-31 23:30:00\n",
       "Length: 17145, dtype: datetime64[ns]"
      ]
     },
     "execution_count": 56,
     "metadata": {},
     "output_type": "execute_result"
    }
   ],
   "source": [
    "weather_index = weather_index[~weather_index.duplicated(keep='first')]\n",
    "weather_index"
   ]
  },
  {
   "cell_type": "markdown",
   "metadata": {},
   "source": [
    "Drop some duplicated rows"
   ]
  },
  {
   "cell_type": "code",
   "execution_count": 58,
   "metadata": {
    "ExecuteTime": {
     "end_time": "2020-07-05T15:44:08.176392Z",
     "start_time": "2020-07-05T15:44:08.170366Z"
    }
   },
   "outputs": [
    {
     "data": {
      "text/plain": [
       "date              2018/1/5\n",
       "time               9:30 PM\n",
       "temp                    34\n",
       "humid                   93\n",
       "windspeed                8\n",
       "condition    Mostly Cloudy\n",
       "Name: 2018-01-05 21:30:00, dtype: object"
      ]
     },
     "execution_count": 58,
     "metadata": {},
     "output_type": "execute_result"
    }
   ],
   "source": [
    "weather_DF = weather_DF.set_index(weather_index)\n",
    "weather_DF"
   ]
  },
  {
   "cell_type": "markdown",
   "metadata": {},
   "source": [
    "Fill missing rows with back word"
   ]
  },
  {
   "cell_type": "code",
   "execution_count": 60,
   "metadata": {
    "ExecuteTime": {
     "end_time": "2020-07-05T15:44:16.275398Z",
     "start_time": "2020-07-05T15:44:16.267420Z"
    },
    "scrolled": false
   },
   "outputs": [
    {
     "data": {
      "text/plain": [
       "date              2018/1/5\n",
       "time               9:30 PM\n",
       "temp                    34\n",
       "humid                   93\n",
       "windspeed                8\n",
       "condition    Mostly Cloudy\n",
       "Name: 2018-01-05 21:00:00, dtype: object"
      ]
     },
     "execution_count": 60,
     "metadata": {},
     "output_type": "execute_result"
    }
   ],
   "source": [
    "weather_DF = weather_DF.resample('30T',label='left').bfill()\n",
    "weather_DF"
   ]
  },
  {
   "cell_type": "markdown",
   "metadata": {},
   "source": [
    "Update 'date' and 'time' with new values"
   ]
  },
  {
   "cell_type": "code",
   "execution_count": 15,
   "metadata": {
    "ExecuteTime": {
     "end_time": "2020-07-05T15:32:31.827842Z",
     "start_time": "2020-07-05T15:32:31.823853Z"
    }
   },
   "outputs": [],
   "source": [
    "def weatherindex_to_datetime(x):\n",
    "    \"\"\"convert weatherindex to datetime\"\"\"\n",
    "    return datetime.datetime.combine(x.date(), datetime.datetime.min.time())\n",
    "def weatherindex_to_time(x):\n",
    "    \"\"\"convert weatherindex to time\"\"\"\n",
    "    return x.time()"
   ]
  },
  {
   "cell_type": "code",
   "execution_count": 115,
   "metadata": {
    "ExecuteTime": {
     "end_time": "2020-07-05T15:59:57.659618Z",
     "start_time": "2020-07-05T15:59:57.642662Z"
    }
   },
   "outputs": [
    {
     "data": {
      "text/plain": [
       "2018-01-01 00:00:00   2018-01-01 00:00:00\n",
       "2018-01-01 00:30:00   2018-01-01 00:30:00\n",
       "2018-01-01 01:00:00   2018-01-01 01:00:00\n",
       "2018-01-01 01:30:00   2018-01-01 01:30:00\n",
       "2018-01-01 02:00:00   2018-01-01 02:00:00\n",
       "                              ...        \n",
       "2018-12-31 21:30:00   2018-12-31 21:30:00\n",
       "2018-12-31 22:00:00   2018-12-31 22:00:00\n",
       "2018-12-31 22:30:00   2018-12-31 22:30:00\n",
       "2018-12-31 23:00:00   2018-12-31 23:00:00\n",
       "2018-12-31 23:30:00   2018-12-31 23:30:00\n",
       "Freq: 30T, Length: 17520, dtype: datetime64[ns]"
      ]
     },
     "execution_count": 115,
     "metadata": {},
     "output_type": "execute_result"
    }
   ],
   "source": [
    "date_pattern = pd.Series(weather_DF.index.to_pydatetime())\n",
    "date_pattern.index = weather_DF.index\n",
    "date_pattern"
   ]
  },
  {
   "cell_type": "code",
   "execution_count": 116,
   "metadata": {
    "ExecuteTime": {
     "end_time": "2020-07-05T16:00:15.293853Z",
     "start_time": "2020-07-05T16:00:15.170144Z"
    }
   },
   "outputs": [
    {
     "data": {
      "text/html": [
       "<div>\n",
       "<style scoped>\n",
       "    .dataframe tbody tr th:only-of-type {\n",
       "        vertical-align: middle;\n",
       "    }\n",
       "\n",
       "    .dataframe tbody tr th {\n",
       "        vertical-align: top;\n",
       "    }\n",
       "\n",
       "    .dataframe thead th {\n",
       "        text-align: right;\n",
       "    }\n",
       "</style>\n",
       "<table border=\"1\" class=\"dataframe\">\n",
       "  <thead>\n",
       "    <tr style=\"text-align: right;\">\n",
       "      <th></th>\n",
       "      <th>date</th>\n",
       "      <th>time</th>\n",
       "      <th>temp</th>\n",
       "      <th>humid</th>\n",
       "      <th>windspeed</th>\n",
       "      <th>condition</th>\n",
       "    </tr>\n",
       "  </thead>\n",
       "  <tbody>\n",
       "    <tr>\n",
       "      <th>2018-01-01 00:00:00</th>\n",
       "      <td>2018-01-01</td>\n",
       "      <td>00:00:00</td>\n",
       "      <td>39</td>\n",
       "      <td>75</td>\n",
       "      <td>16</td>\n",
       "      <td>Partly Cloudy</td>\n",
       "    </tr>\n",
       "    <tr>\n",
       "      <th>2018-01-01 00:30:00</th>\n",
       "      <td>2018-01-01</td>\n",
       "      <td>00:30:00</td>\n",
       "      <td>37</td>\n",
       "      <td>81</td>\n",
       "      <td>14</td>\n",
       "      <td>Partly Cloudy</td>\n",
       "    </tr>\n",
       "    <tr>\n",
       "      <th>2018-01-01 01:00:00</th>\n",
       "      <td>2018-01-01</td>\n",
       "      <td>01:00:00</td>\n",
       "      <td>39</td>\n",
       "      <td>87</td>\n",
       "      <td>29</td>\n",
       "      <td>Light Rain Shower / Windy</td>\n",
       "    </tr>\n",
       "    <tr>\n",
       "      <th>2018-01-01 01:30:00</th>\n",
       "      <td>2018-01-01</td>\n",
       "      <td>01:30:00</td>\n",
       "      <td>41</td>\n",
       "      <td>81</td>\n",
       "      <td>31</td>\n",
       "      <td>Mostly Cloudy / Windy</td>\n",
       "    </tr>\n",
       "    <tr>\n",
       "      <th>2018-01-01 02:00:00</th>\n",
       "      <td>2018-01-01</td>\n",
       "      <td>02:00:00</td>\n",
       "      <td>39</td>\n",
       "      <td>87</td>\n",
       "      <td>26</td>\n",
       "      <td>Light Rain Shower / Windy</td>\n",
       "    </tr>\n",
       "    <tr>\n",
       "      <th>...</th>\n",
       "      <td>...</td>\n",
       "      <td>...</td>\n",
       "      <td>...</td>\n",
       "      <td>...</td>\n",
       "      <td>...</td>\n",
       "      <td>...</td>\n",
       "    </tr>\n",
       "    <tr>\n",
       "      <th>2018-12-31 21:30:00</th>\n",
       "      <td>2018-12-31</td>\n",
       "      <td>21:30:00</td>\n",
       "      <td>48</td>\n",
       "      <td>82</td>\n",
       "      <td>15</td>\n",
       "      <td>Mostly Cloudy</td>\n",
       "    </tr>\n",
       "    <tr>\n",
       "      <th>2018-12-31 22:00:00</th>\n",
       "      <td>2018-12-31</td>\n",
       "      <td>22:00:00</td>\n",
       "      <td>48</td>\n",
       "      <td>82</td>\n",
       "      <td>12</td>\n",
       "      <td>Mostly Cloudy</td>\n",
       "    </tr>\n",
       "    <tr>\n",
       "      <th>2018-12-31 22:30:00</th>\n",
       "      <td>2018-12-31</td>\n",
       "      <td>22:30:00</td>\n",
       "      <td>50</td>\n",
       "      <td>76</td>\n",
       "      <td>13</td>\n",
       "      <td>Mostly Cloudy</td>\n",
       "    </tr>\n",
       "    <tr>\n",
       "      <th>2018-12-31 23:00:00</th>\n",
       "      <td>2018-12-31</td>\n",
       "      <td>23:00:00</td>\n",
       "      <td>48</td>\n",
       "      <td>82</td>\n",
       "      <td>13</td>\n",
       "      <td>Mostly Cloudy</td>\n",
       "    </tr>\n",
       "    <tr>\n",
       "      <th>2018-12-31 23:30:00</th>\n",
       "      <td>2018-12-31</td>\n",
       "      <td>23:30:00</td>\n",
       "      <td>48</td>\n",
       "      <td>82</td>\n",
       "      <td>13</td>\n",
       "      <td>Mostly Cloudy</td>\n",
       "    </tr>\n",
       "  </tbody>\n",
       "</table>\n",
       "<p>17520 rows × 6 columns</p>\n",
       "</div>"
      ],
      "text/plain": [
       "                          date      time  temp  humid  windspeed  \\\n",
       "2018-01-01 00:00:00 2018-01-01  00:00:00    39     75         16   \n",
       "2018-01-01 00:30:00 2018-01-01  00:30:00    37     81         14   \n",
       "2018-01-01 01:00:00 2018-01-01  01:00:00    39     87         29   \n",
       "2018-01-01 01:30:00 2018-01-01  01:30:00    41     81         31   \n",
       "2018-01-01 02:00:00 2018-01-01  02:00:00    39     87         26   \n",
       "...                        ...       ...   ...    ...        ...   \n",
       "2018-12-31 21:30:00 2018-12-31  21:30:00    48     82         15   \n",
       "2018-12-31 22:00:00 2018-12-31  22:00:00    48     82         12   \n",
       "2018-12-31 22:30:00 2018-12-31  22:30:00    50     76         13   \n",
       "2018-12-31 23:00:00 2018-12-31  23:00:00    48     82         13   \n",
       "2018-12-31 23:30:00 2018-12-31  23:30:00    48     82         13   \n",
       "\n",
       "                                     condition  \n",
       "2018-01-01 00:00:00              Partly Cloudy  \n",
       "2018-01-01 00:30:00              Partly Cloudy  \n",
       "2018-01-01 01:00:00  Light Rain Shower / Windy  \n",
       "2018-01-01 01:30:00      Mostly Cloudy / Windy  \n",
       "2018-01-01 02:00:00  Light Rain Shower / Windy  \n",
       "...                                        ...  \n",
       "2018-12-31 21:30:00              Mostly Cloudy  \n",
       "2018-12-31 22:00:00              Mostly Cloudy  \n",
       "2018-12-31 22:30:00              Mostly Cloudy  \n",
       "2018-12-31 23:00:00              Mostly Cloudy  \n",
       "2018-12-31 23:30:00              Mostly Cloudy  \n",
       "\n",
       "[17520 rows x 6 columns]"
      ]
     },
     "execution_count": 116,
     "metadata": {},
     "output_type": "execute_result"
    }
   ],
   "source": [
    "weather_DF.loc[:,\"date\"] = date_pattern.apply(weatherindex_to_datetime)\n",
    "weather_DF.loc[:,\"time\"] = date_pattern.apply(weatherindex_to_time)\n",
    "weather_DF"
   ]
  },
  {
   "cell_type": "code",
   "execution_count": 119,
   "metadata": {
    "ExecuteTime": {
     "end_time": "2020-07-05T16:01:08.911781Z",
     "start_time": "2020-07-05T16:01:08.636519Z"
    }
   },
   "outputs": [],
   "source": [
    "weather_DF.to_csv(\"2018_daily_inserted.csv\")"
   ]
  },
  {
   "cell_type": "markdown",
   "metadata": {},
   "source": [
    "# Select whole year data of line:17 direction:1"
   ]
  },
  {
   "cell_type": "code",
   "execution_count": 18,
   "metadata": {
    "ExecuteTime": {
     "end_time": "2020-07-05T15:37:34.802416Z",
     "start_time": "2020-07-05T15:32:31.999384Z"
    },
    "pycharm": {
     "name": "#%%\n"
    }
   },
   "outputs": [],
   "source": [
    "query = \"\"\"\n",
    "SELECT * FROM busduck.rt_leavetimes_db where TRIPID in \n",
    "(SELECT TRIPID FROM busduck.rt_trips_db where LINEID=\"17\" and DIRECTION = 1);\n",
    "\"\"\"\n",
    "DF = GetData(cur, query)"
   ]
  },
  {
   "cell_type": "code",
   "execution_count": 19,
   "metadata": {
    "ExecuteTime": {
     "end_time": "2020-07-05T15:37:34.820304Z",
     "start_time": "2020-07-05T15:37:34.804346Z"
    }
   },
   "outputs": [
    {
     "data": {
      "text/html": [
       "<div>\n",
       "<style scoped>\n",
       "    .dataframe tbody tr th:only-of-type {\n",
       "        vertical-align: middle;\n",
       "    }\n",
       "\n",
       "    .dataframe tbody tr th {\n",
       "        vertical-align: top;\n",
       "    }\n",
       "\n",
       "    .dataframe thead th {\n",
       "        text-align: right;\n",
       "    }\n",
       "</style>\n",
       "<table border=\"1\" class=\"dataframe\">\n",
       "  <thead>\n",
       "    <tr style=\"text-align: right;\">\n",
       "      <th></th>\n",
       "      <th>DATASOURCE</th>\n",
       "      <th>DAYOFSERVICE</th>\n",
       "      <th>TRIPID</th>\n",
       "      <th>PROGRNUMBER</th>\n",
       "      <th>STOPPOINTID</th>\n",
       "      <th>PLANNEDTIME_ARR</th>\n",
       "      <th>PLANNEDTIME_DEP</th>\n",
       "      <th>ACTUALTIME_ARR</th>\n",
       "      <th>ACTUALTIME_DEP</th>\n",
       "      <th>VEHICLEID</th>\n",
       "      <th>PASSENGERS</th>\n",
       "      <th>PASSENGERSIN</th>\n",
       "      <th>PASSENGERSOUT</th>\n",
       "      <th>DISTANCE</th>\n",
       "      <th>SUPPRESSED</th>\n",
       "      <th>JUSTIFICATIONID</th>\n",
       "      <th>LASTUPDATE</th>\n",
       "      <th>NOTE</th>\n",
       "    </tr>\n",
       "  </thead>\n",
       "  <tbody>\n",
       "    <tr>\n",
       "      <th>0</th>\n",
       "      <td>DB</td>\n",
       "      <td>2018-01-01</td>\n",
       "      <td>5968763</td>\n",
       "      <td>1</td>\n",
       "      <td>1380</td>\n",
       "      <td>50700</td>\n",
       "      <td>50700</td>\n",
       "      <td>50714</td>\n",
       "      <td>50714</td>\n",
       "      <td>2406881</td>\n",
       "      <td>0</td>\n",
       "      <td>0</td>\n",
       "      <td>0</td>\n",
       "      <td>0</td>\n",
       "      <td>0</td>\n",
       "      <td>0</td>\n",
       "      <td>2018-01-08 17:21:10</td>\n",
       "      <td></td>\n",
       "    </tr>\n",
       "    <tr>\n",
       "      <th>1</th>\n",
       "      <td>DB</td>\n",
       "      <td>2018-01-01</td>\n",
       "      <td>5968763</td>\n",
       "      <td>2</td>\n",
       "      <td>1381</td>\n",
       "      <td>50726</td>\n",
       "      <td>50726</td>\n",
       "      <td>50731</td>\n",
       "      <td>50731</td>\n",
       "      <td>2406881</td>\n",
       "      <td>0</td>\n",
       "      <td>0</td>\n",
       "      <td>0</td>\n",
       "      <td>0</td>\n",
       "      <td>0</td>\n",
       "      <td>0</td>\n",
       "      <td>2018-01-08 17:21:10</td>\n",
       "      <td></td>\n",
       "    </tr>\n",
       "    <tr>\n",
       "      <th>2</th>\n",
       "      <td>DB</td>\n",
       "      <td>2018-01-01</td>\n",
       "      <td>5968763</td>\n",
       "      <td>3</td>\n",
       "      <td>1406</td>\n",
       "      <td>50773</td>\n",
       "      <td>50773</td>\n",
       "      <td>50787</td>\n",
       "      <td>50817</td>\n",
       "      <td>2406881</td>\n",
       "      <td>0</td>\n",
       "      <td>0</td>\n",
       "      <td>0</td>\n",
       "      <td>0</td>\n",
       "      <td>0</td>\n",
       "      <td>0</td>\n",
       "      <td>2018-01-08 17:21:10</td>\n",
       "      <td></td>\n",
       "    </tr>\n",
       "    <tr>\n",
       "      <th>3</th>\n",
       "      <td>DB</td>\n",
       "      <td>2018-01-01</td>\n",
       "      <td>5968763</td>\n",
       "      <td>4</td>\n",
       "      <td>1407</td>\n",
       "      <td>50816</td>\n",
       "      <td>50816</td>\n",
       "      <td>50871</td>\n",
       "      <td>50871</td>\n",
       "      <td>2406881</td>\n",
       "      <td>0</td>\n",
       "      <td>0</td>\n",
       "      <td>0</td>\n",
       "      <td>0</td>\n",
       "      <td>0</td>\n",
       "      <td>0</td>\n",
       "      <td>2018-01-08 17:21:10</td>\n",
       "      <td></td>\n",
       "    </tr>\n",
       "    <tr>\n",
       "      <th>4</th>\n",
       "      <td>DB</td>\n",
       "      <td>2018-01-01</td>\n",
       "      <td>5968763</td>\n",
       "      <td>5</td>\n",
       "      <td>1409</td>\n",
       "      <td>50855</td>\n",
       "      <td>50855</td>\n",
       "      <td>50893</td>\n",
       "      <td>50893</td>\n",
       "      <td>2406881</td>\n",
       "      <td>0</td>\n",
       "      <td>0</td>\n",
       "      <td>0</td>\n",
       "      <td>0</td>\n",
       "      <td>0</td>\n",
       "      <td>0</td>\n",
       "      <td>2018-01-08 17:21:10</td>\n",
       "      <td></td>\n",
       "    </tr>\n",
       "  </tbody>\n",
       "</table>\n",
       "</div>"
      ],
      "text/plain": [
       "  DATASOURCE DAYOFSERVICE   TRIPID  PROGRNUMBER STOPPOINTID  PLANNEDTIME_ARR  \\\n",
       "0         DB   2018-01-01  5968763            1        1380            50700   \n",
       "1         DB   2018-01-01  5968763            2        1381            50726   \n",
       "2         DB   2018-01-01  5968763            3        1406            50773   \n",
       "3         DB   2018-01-01  5968763            4        1407            50816   \n",
       "4         DB   2018-01-01  5968763            5        1409            50855   \n",
       "\n",
       "   PLANNEDTIME_DEP  ACTUALTIME_ARR  ACTUALTIME_DEP VEHICLEID  PASSENGERS  \\\n",
       "0            50700           50714           50714   2406881           0   \n",
       "1            50726           50731           50731   2406881           0   \n",
       "2            50773           50787           50817   2406881           0   \n",
       "3            50816           50871           50871   2406881           0   \n",
       "4            50855           50893           50893   2406881           0   \n",
       "\n",
       "   PASSENGERSIN  PASSENGERSOUT  DISTANCE  SUPPRESSED  JUSTIFICATIONID  \\\n",
       "0             0              0         0           0                0   \n",
       "1             0              0         0           0                0   \n",
       "2             0              0         0           0                0   \n",
       "3             0              0         0           0                0   \n",
       "4             0              0         0           0                0   \n",
       "\n",
       "           LASTUPDATE NOTE  \n",
       "0 2018-01-08 17:21:10       \n",
       "1 2018-01-08 17:21:10       \n",
       "2 2018-01-08 17:21:10       \n",
       "3 2018-01-08 17:21:10       \n",
       "4 2018-01-08 17:21:10       "
      ]
     },
     "execution_count": 19,
     "metadata": {},
     "output_type": "execute_result"
    }
   ],
   "source": [
    "DF.head(5)"
   ]
  },
  {
   "cell_type": "code",
   "execution_count": 20,
   "metadata": {
    "ExecuteTime": {
     "end_time": "2020-07-05T15:37:34.854214Z",
     "start_time": "2020-07-05T15:37:34.821301Z"
    }
   },
   "outputs": [
    {
     "data": {
      "text/html": [
       "<div>\n",
       "<style scoped>\n",
       "    .dataframe tbody tr th:only-of-type {\n",
       "        vertical-align: middle;\n",
       "    }\n",
       "\n",
       "    .dataframe tbody tr th {\n",
       "        vertical-align: top;\n",
       "    }\n",
       "\n",
       "    .dataframe thead th {\n",
       "        text-align: right;\n",
       "    }\n",
       "</style>\n",
       "<table border=\"1\" class=\"dataframe\">\n",
       "  <thead>\n",
       "    <tr style=\"text-align: right;\">\n",
       "      <th></th>\n",
       "      <th>DATASOURCE</th>\n",
       "      <th>DAYOFSERVICE</th>\n",
       "      <th>TRIPID</th>\n",
       "      <th>PROGRNUMBER</th>\n",
       "      <th>STOPPOINTID</th>\n",
       "      <th>PLANNEDTIME_ARR</th>\n",
       "      <th>PLANNEDTIME_DEP</th>\n",
       "      <th>ACTUALTIME_ARR</th>\n",
       "      <th>ACTUALTIME_DEP</th>\n",
       "      <th>VEHICLEID</th>\n",
       "      <th>PASSENGERS</th>\n",
       "      <th>PASSENGERSIN</th>\n",
       "      <th>PASSENGERSOUT</th>\n",
       "      <th>DISTANCE</th>\n",
       "      <th>SUPPRESSED</th>\n",
       "      <th>JUSTIFICATIONID</th>\n",
       "      <th>LASTUPDATE</th>\n",
       "      <th>NOTE</th>\n",
       "    </tr>\n",
       "  </thead>\n",
       "  <tbody>\n",
       "    <tr>\n",
       "      <th>582002</th>\n",
       "      <td>DB</td>\n",
       "      <td>2018-12-31</td>\n",
       "      <td>8591872</td>\n",
       "      <td>65</td>\n",
       "      <td>467</td>\n",
       "      <td>65061</td>\n",
       "      <td>65061</td>\n",
       "      <td>65397</td>\n",
       "      <td>65397</td>\n",
       "      <td>2534852</td>\n",
       "      <td>0</td>\n",
       "      <td>0</td>\n",
       "      <td>0</td>\n",
       "      <td>0</td>\n",
       "      <td>0</td>\n",
       "      <td>0</td>\n",
       "      <td>2019-01-16 18:27:21</td>\n",
       "      <td></td>\n",
       "    </tr>\n",
       "    <tr>\n",
       "      <th>582003</th>\n",
       "      <td>DB</td>\n",
       "      <td>2018-12-31</td>\n",
       "      <td>8591872</td>\n",
       "      <td>66</td>\n",
       "      <td>468</td>\n",
       "      <td>65096</td>\n",
       "      <td>65096</td>\n",
       "      <td>65414</td>\n",
       "      <td>65414</td>\n",
       "      <td>2534852</td>\n",
       "      <td>0</td>\n",
       "      <td>0</td>\n",
       "      <td>0</td>\n",
       "      <td>0</td>\n",
       "      <td>0</td>\n",
       "      <td>0</td>\n",
       "      <td>2019-01-16 18:27:21</td>\n",
       "      <td></td>\n",
       "    </tr>\n",
       "    <tr>\n",
       "      <th>582004</th>\n",
       "      <td>DB</td>\n",
       "      <td>2018-12-31</td>\n",
       "      <td>8591872</td>\n",
       "      <td>67</td>\n",
       "      <td>3032</td>\n",
       "      <td>65134</td>\n",
       "      <td>65134</td>\n",
       "      <td>65521</td>\n",
       "      <td>65536</td>\n",
       "      <td>2534852</td>\n",
       "      <td>0</td>\n",
       "      <td>0</td>\n",
       "      <td>0</td>\n",
       "      <td>0</td>\n",
       "      <td>0</td>\n",
       "      <td>0</td>\n",
       "      <td>2019-01-16 18:27:21</td>\n",
       "      <td></td>\n",
       "    </tr>\n",
       "    <tr>\n",
       "      <th>582005</th>\n",
       "      <td>DB</td>\n",
       "      <td>2018-12-31</td>\n",
       "      <td>8591872</td>\n",
       "      <td>68</td>\n",
       "      <td>3033</td>\n",
       "      <td>65180</td>\n",
       "      <td>65180</td>\n",
       "      <td>65600</td>\n",
       "      <td>65600</td>\n",
       "      <td>2534852</td>\n",
       "      <td>0</td>\n",
       "      <td>0</td>\n",
       "      <td>0</td>\n",
       "      <td>0</td>\n",
       "      <td>0</td>\n",
       "      <td>0</td>\n",
       "      <td>2019-01-16 18:27:21</td>\n",
       "      <td></td>\n",
       "    </tr>\n",
       "    <tr>\n",
       "      <th>582006</th>\n",
       "      <td>DB</td>\n",
       "      <td>2018-12-31</td>\n",
       "      <td>8591872</td>\n",
       "      <td>69</td>\n",
       "      <td>3085</td>\n",
       "      <td>65227</td>\n",
       "      <td>65227</td>\n",
       "      <td>65623</td>\n",
       "      <td>65623</td>\n",
       "      <td>2534852</td>\n",
       "      <td>0</td>\n",
       "      <td>0</td>\n",
       "      <td>0</td>\n",
       "      <td>0</td>\n",
       "      <td>0</td>\n",
       "      <td>0</td>\n",
       "      <td>2019-01-16 18:27:21</td>\n",
       "      <td></td>\n",
       "    </tr>\n",
       "  </tbody>\n",
       "</table>\n",
       "</div>"
      ],
      "text/plain": [
       "       DATASOURCE DAYOFSERVICE   TRIPID  PROGRNUMBER STOPPOINTID  \\\n",
       "582002         DB   2018-12-31  8591872           65         467   \n",
       "582003         DB   2018-12-31  8591872           66         468   \n",
       "582004         DB   2018-12-31  8591872           67        3032   \n",
       "582005         DB   2018-12-31  8591872           68        3033   \n",
       "582006         DB   2018-12-31  8591872           69        3085   \n",
       "\n",
       "        PLANNEDTIME_ARR  PLANNEDTIME_DEP  ACTUALTIME_ARR  ACTUALTIME_DEP  \\\n",
       "582002            65061            65061           65397           65397   \n",
       "582003            65096            65096           65414           65414   \n",
       "582004            65134            65134           65521           65536   \n",
       "582005            65180            65180           65600           65600   \n",
       "582006            65227            65227           65623           65623   \n",
       "\n",
       "       VEHICLEID  PASSENGERS  PASSENGERSIN  PASSENGERSOUT  DISTANCE  \\\n",
       "582002   2534852           0             0              0         0   \n",
       "582003   2534852           0             0              0         0   \n",
       "582004   2534852           0             0              0         0   \n",
       "582005   2534852           0             0              0         0   \n",
       "582006   2534852           0             0              0         0   \n",
       "\n",
       "        SUPPRESSED  JUSTIFICATIONID          LASTUPDATE NOTE  \n",
       "582002           0                0 2019-01-16 18:27:21       \n",
       "582003           0                0 2019-01-16 18:27:21       \n",
       "582004           0                0 2019-01-16 18:27:21       \n",
       "582005           0                0 2019-01-16 18:27:21       \n",
       "582006           0                0 2019-01-16 18:27:21       "
      ]
     },
     "execution_count": 20,
     "metadata": {},
     "output_type": "execute_result"
    }
   ],
   "source": [
    "DF.tail(5)"
   ]
  },
  {
   "cell_type": "markdown",
   "metadata": {},
   "source": [
    "# Drop useless columns and duplicate rows and check null"
   ]
  },
  {
   "cell_type": "code",
   "execution_count": 120,
   "metadata": {
    "ExecuteTime": {
     "end_time": "2020-07-05T16:01:20.032945Z",
     "start_time": "2020-07-05T16:01:19.995049Z"
    }
   },
   "outputs": [],
   "source": [
    "unused_cols = [\"DATASOURCE\", \"VEHICLEID\", \"PASSENGERS\", \"PASSENGERSIN\", \"PASSENGERSOUT\",\n",
    "              \"DISTANCE\", \"SUPPRESSED\", \"JUSTIFICATIONID\",\"LASTUPDATE\",\"NOTE\", \"PLANNEDTIME_ARR\", \"PLANNEDTIME_DEP\"]\n",
    "DF_droped = DF.drop(unused_cols, axis=1)"
   ]
  },
  {
   "cell_type": "code",
   "execution_count": 122,
   "metadata": {
    "ExecuteTime": {
     "end_time": "2020-07-05T16:01:41.455789Z",
     "start_time": "2020-07-05T16:01:41.441828Z"
    }
   },
   "outputs": [
    {
     "data": {
      "text/html": [
       "<div>\n",
       "<style scoped>\n",
       "    .dataframe tbody tr th:only-of-type {\n",
       "        vertical-align: middle;\n",
       "    }\n",
       "\n",
       "    .dataframe tbody tr th {\n",
       "        vertical-align: top;\n",
       "    }\n",
       "\n",
       "    .dataframe thead th {\n",
       "        text-align: right;\n",
       "    }\n",
       "</style>\n",
       "<table border=\"1\" class=\"dataframe\">\n",
       "  <thead>\n",
       "    <tr style=\"text-align: right;\">\n",
       "      <th></th>\n",
       "      <th>DAYOFSERVICE</th>\n",
       "      <th>TRIPID</th>\n",
       "      <th>PROGRNUMBER</th>\n",
       "      <th>STOPPOINTID</th>\n",
       "      <th>ACTUALTIME_ARR</th>\n",
       "      <th>ACTUALTIME_DEP</th>\n",
       "    </tr>\n",
       "  </thead>\n",
       "  <tbody>\n",
       "    <tr>\n",
       "      <th>0</th>\n",
       "      <td>2018-01-01</td>\n",
       "      <td>5968763</td>\n",
       "      <td>1</td>\n",
       "      <td>1380</td>\n",
       "      <td>50714</td>\n",
       "      <td>50714</td>\n",
       "    </tr>\n",
       "    <tr>\n",
       "      <th>1</th>\n",
       "      <td>2018-01-01</td>\n",
       "      <td>5968763</td>\n",
       "      <td>2</td>\n",
       "      <td>1381</td>\n",
       "      <td>50731</td>\n",
       "      <td>50731</td>\n",
       "    </tr>\n",
       "    <tr>\n",
       "      <th>2</th>\n",
       "      <td>2018-01-01</td>\n",
       "      <td>5968763</td>\n",
       "      <td>3</td>\n",
       "      <td>1406</td>\n",
       "      <td>50787</td>\n",
       "      <td>50817</td>\n",
       "    </tr>\n",
       "    <tr>\n",
       "      <th>3</th>\n",
       "      <td>2018-01-01</td>\n",
       "      <td>5968763</td>\n",
       "      <td>4</td>\n",
       "      <td>1407</td>\n",
       "      <td>50871</td>\n",
       "      <td>50871</td>\n",
       "    </tr>\n",
       "    <tr>\n",
       "      <th>4</th>\n",
       "      <td>2018-01-01</td>\n",
       "      <td>5968763</td>\n",
       "      <td>5</td>\n",
       "      <td>1409</td>\n",
       "      <td>50893</td>\n",
       "      <td>50893</td>\n",
       "    </tr>\n",
       "    <tr>\n",
       "      <th>...</th>\n",
       "      <td>...</td>\n",
       "      <td>...</td>\n",
       "      <td>...</td>\n",
       "      <td>...</td>\n",
       "      <td>...</td>\n",
       "      <td>...</td>\n",
       "    </tr>\n",
       "    <tr>\n",
       "      <th>582002</th>\n",
       "      <td>2018-12-31</td>\n",
       "      <td>8591872</td>\n",
       "      <td>65</td>\n",
       "      <td>467</td>\n",
       "      <td>65397</td>\n",
       "      <td>65397</td>\n",
       "    </tr>\n",
       "    <tr>\n",
       "      <th>582003</th>\n",
       "      <td>2018-12-31</td>\n",
       "      <td>8591872</td>\n",
       "      <td>66</td>\n",
       "      <td>468</td>\n",
       "      <td>65414</td>\n",
       "      <td>65414</td>\n",
       "    </tr>\n",
       "    <tr>\n",
       "      <th>582004</th>\n",
       "      <td>2018-12-31</td>\n",
       "      <td>8591872</td>\n",
       "      <td>67</td>\n",
       "      <td>3032</td>\n",
       "      <td>65521</td>\n",
       "      <td>65536</td>\n",
       "    </tr>\n",
       "    <tr>\n",
       "      <th>582005</th>\n",
       "      <td>2018-12-31</td>\n",
       "      <td>8591872</td>\n",
       "      <td>68</td>\n",
       "      <td>3033</td>\n",
       "      <td>65600</td>\n",
       "      <td>65600</td>\n",
       "    </tr>\n",
       "    <tr>\n",
       "      <th>582006</th>\n",
       "      <td>2018-12-31</td>\n",
       "      <td>8591872</td>\n",
       "      <td>69</td>\n",
       "      <td>3085</td>\n",
       "      <td>65623</td>\n",
       "      <td>65623</td>\n",
       "    </tr>\n",
       "  </tbody>\n",
       "</table>\n",
       "<p>582007 rows × 6 columns</p>\n",
       "</div>"
      ],
      "text/plain": [
       "       DAYOFSERVICE   TRIPID  PROGRNUMBER STOPPOINTID  ACTUALTIME_ARR  \\\n",
       "0        2018-01-01  5968763            1        1380           50714   \n",
       "1        2018-01-01  5968763            2        1381           50731   \n",
       "2        2018-01-01  5968763            3        1406           50787   \n",
       "3        2018-01-01  5968763            4        1407           50871   \n",
       "4        2018-01-01  5968763            5        1409           50893   \n",
       "...             ...      ...          ...         ...             ...   \n",
       "582002   2018-12-31  8591872           65         467           65397   \n",
       "582003   2018-12-31  8591872           66         468           65414   \n",
       "582004   2018-12-31  8591872           67        3032           65521   \n",
       "582005   2018-12-31  8591872           68        3033           65600   \n",
       "582006   2018-12-31  8591872           69        3085           65623   \n",
       "\n",
       "        ACTUALTIME_DEP  \n",
       "0                50714  \n",
       "1                50731  \n",
       "2                50817  \n",
       "3                50871  \n",
       "4                50893  \n",
       "...                ...  \n",
       "582002           65397  \n",
       "582003           65414  \n",
       "582004           65536  \n",
       "582005           65600  \n",
       "582006           65623  \n",
       "\n",
       "[582007 rows x 6 columns]"
      ]
     },
     "execution_count": 122,
     "metadata": {},
     "output_type": "execute_result"
    }
   ],
   "source": [
    "DF_droped"
   ]
  },
  {
   "cell_type": "code",
   "execution_count": 123,
   "metadata": {
    "ExecuteTime": {
     "end_time": "2020-07-05T16:01:42.192860Z",
     "start_time": "2020-07-05T16:01:41.848739Z"
    }
   },
   "outputs": [
    {
     "data": {
      "text/plain": [
       "0"
      ]
     },
     "execution_count": 123,
     "metadata": {},
     "output_type": "execute_result"
    }
   ],
   "source": [
    "sum(DF_droped.duplicated(keep=False))"
   ]
  },
  {
   "cell_type": "markdown",
   "metadata": {},
   "source": [
    "It shows no duplicate rows"
   ]
  },
  {
   "cell_type": "code",
   "execution_count": 124,
   "metadata": {
    "ExecuteTime": {
     "end_time": "2020-07-05T16:01:42.660568Z",
     "start_time": "2020-07-05T16:01:42.579784Z"
    }
   },
   "outputs": [
    {
     "data": {
      "text/plain": [
       "DAYOFSERVICE      0\n",
       "TRIPID            0\n",
       "PROGRNUMBER       0\n",
       "STOPPOINTID       0\n",
       "ACTUALTIME_ARR    0\n",
       "ACTUALTIME_DEP    0\n",
       "dtype: int64"
      ]
     },
     "execution_count": 124,
     "metadata": {},
     "output_type": "execute_result"
    }
   ],
   "source": [
    "DF_droped.isnull().sum()"
   ]
  },
  {
   "cell_type": "markdown",
   "metadata": {},
   "source": [
    "It shows no null values"
   ]
  },
  {
   "cell_type": "code",
   "execution_count": 125,
   "metadata": {
    "ExecuteTime": {
     "end_time": "2020-07-05T16:01:43.028628Z",
     "start_time": "2020-07-05T16:01:43.024597Z"
    }
   },
   "outputs": [
    {
     "data": {
      "text/plain": [
       "DAYOFSERVICE      datetime64[ns]\n",
       "TRIPID                    object\n",
       "PROGRNUMBER                int64\n",
       "STOPPOINTID               object\n",
       "ACTUALTIME_ARR             int64\n",
       "ACTUALTIME_DEP             int64\n",
       "dtype: object"
      ]
     },
     "execution_count": 125,
     "metadata": {},
     "output_type": "execute_result"
    }
   ],
   "source": [
    "DF_droped.dtypes"
   ]
  },
  {
   "cell_type": "markdown",
   "metadata": {},
   "source": [
    "# Create Customized Columns "
   ]
  },
  {
   "cell_type": "markdown",
   "metadata": {},
   "source": [
    "## Add 'ARR' and 'DEP' converted to time"
   ]
  },
  {
   "cell_type": "code",
   "execution_count": 126,
   "metadata": {
    "ExecuteTime": {
     "end_time": "2020-07-05T16:01:43.396601Z",
     "start_time": "2020-07-05T16:01:43.393609Z"
    }
   },
   "outputs": [],
   "source": [
    "import datetime"
   ]
  },
  {
   "cell_type": "code",
   "execution_count": 127,
   "metadata": {
    "ExecuteTime": {
     "end_time": "2020-07-05T16:01:43.771599Z",
     "start_time": "2020-07-05T16:01:43.766612Z"
    }
   },
   "outputs": [],
   "source": [
    "def seconds_to_timedelta(x):\n",
    "    \"\"\"convert seconds to timedelta\"\"\"\n",
    "    return datetime.timedelta(seconds=x)"
   ]
  },
  {
   "cell_type": "code",
   "execution_count": 128,
   "metadata": {
    "ExecuteTime": {
     "end_time": "2020-07-05T16:01:48.507935Z",
     "start_time": "2020-07-05T16:01:44.137620Z"
    }
   },
   "outputs": [],
   "source": [
    "DF_droped[\"ACTUALTIME_ARR_DATETIME\"] = DF_droped[\"DAYOFSERVICE\"] + DF_droped[\"ACTUALTIME_ARR\"].apply(seconds_to_timedelta)\n",
    "DF_droped[\"ACTUALTIME_DEP_DATETIME\"] = DF_droped[\"DAYOFSERVICE\"] + DF_droped[\"ACTUALTIME_DEP\"].apply(seconds_to_timedelta)"
   ]
  },
  {
   "cell_type": "code",
   "execution_count": 129,
   "metadata": {
    "ExecuteTime": {
     "end_time": "2020-07-05T16:01:48.964713Z",
     "start_time": "2020-07-05T16:01:48.916842Z"
    }
   },
   "outputs": [],
   "source": [
    "DF_droped[\"WEEK_DAY\"] = DF_droped[\"DAYOFSERVICE\"].dt.dayofweek"
   ]
  },
  {
   "cell_type": "code",
   "execution_count": 130,
   "metadata": {
    "ExecuteTime": {
     "end_time": "2020-07-05T16:01:49.364644Z",
     "start_time": "2020-07-05T16:01:49.352676Z"
    }
   },
   "outputs": [
    {
     "data": {
      "text/html": [
       "<div>\n",
       "<style scoped>\n",
       "    .dataframe tbody tr th:only-of-type {\n",
       "        vertical-align: middle;\n",
       "    }\n",
       "\n",
       "    .dataframe tbody tr th {\n",
       "        vertical-align: top;\n",
       "    }\n",
       "\n",
       "    .dataframe thead th {\n",
       "        text-align: right;\n",
       "    }\n",
       "</style>\n",
       "<table border=\"1\" class=\"dataframe\">\n",
       "  <thead>\n",
       "    <tr style=\"text-align: right;\">\n",
       "      <th></th>\n",
       "      <th>DAYOFSERVICE</th>\n",
       "      <th>TRIPID</th>\n",
       "      <th>PROGRNUMBER</th>\n",
       "      <th>STOPPOINTID</th>\n",
       "      <th>ACTUALTIME_ARR</th>\n",
       "      <th>ACTUALTIME_DEP</th>\n",
       "      <th>ACTUALTIME_ARR_DATETIME</th>\n",
       "      <th>ACTUALTIME_DEP_DATETIME</th>\n",
       "      <th>WEEK_DAY</th>\n",
       "    </tr>\n",
       "  </thead>\n",
       "  <tbody>\n",
       "    <tr>\n",
       "      <th>582002</th>\n",
       "      <td>2018-12-31</td>\n",
       "      <td>8591872</td>\n",
       "      <td>65</td>\n",
       "      <td>467</td>\n",
       "      <td>65397</td>\n",
       "      <td>65397</td>\n",
       "      <td>2018-12-31 18:09:57</td>\n",
       "      <td>2018-12-31 18:09:57</td>\n",
       "      <td>0</td>\n",
       "    </tr>\n",
       "    <tr>\n",
       "      <th>582003</th>\n",
       "      <td>2018-12-31</td>\n",
       "      <td>8591872</td>\n",
       "      <td>66</td>\n",
       "      <td>468</td>\n",
       "      <td>65414</td>\n",
       "      <td>65414</td>\n",
       "      <td>2018-12-31 18:10:14</td>\n",
       "      <td>2018-12-31 18:10:14</td>\n",
       "      <td>0</td>\n",
       "    </tr>\n",
       "    <tr>\n",
       "      <th>582004</th>\n",
       "      <td>2018-12-31</td>\n",
       "      <td>8591872</td>\n",
       "      <td>67</td>\n",
       "      <td>3032</td>\n",
       "      <td>65521</td>\n",
       "      <td>65536</td>\n",
       "      <td>2018-12-31 18:12:01</td>\n",
       "      <td>2018-12-31 18:12:16</td>\n",
       "      <td>0</td>\n",
       "    </tr>\n",
       "    <tr>\n",
       "      <th>582005</th>\n",
       "      <td>2018-12-31</td>\n",
       "      <td>8591872</td>\n",
       "      <td>68</td>\n",
       "      <td>3033</td>\n",
       "      <td>65600</td>\n",
       "      <td>65600</td>\n",
       "      <td>2018-12-31 18:13:20</td>\n",
       "      <td>2018-12-31 18:13:20</td>\n",
       "      <td>0</td>\n",
       "    </tr>\n",
       "    <tr>\n",
       "      <th>582006</th>\n",
       "      <td>2018-12-31</td>\n",
       "      <td>8591872</td>\n",
       "      <td>69</td>\n",
       "      <td>3085</td>\n",
       "      <td>65623</td>\n",
       "      <td>65623</td>\n",
       "      <td>2018-12-31 18:13:43</td>\n",
       "      <td>2018-12-31 18:13:43</td>\n",
       "      <td>0</td>\n",
       "    </tr>\n",
       "  </tbody>\n",
       "</table>\n",
       "</div>"
      ],
      "text/plain": [
       "       DAYOFSERVICE   TRIPID  PROGRNUMBER STOPPOINTID  ACTUALTIME_ARR  \\\n",
       "582002   2018-12-31  8591872           65         467           65397   \n",
       "582003   2018-12-31  8591872           66         468           65414   \n",
       "582004   2018-12-31  8591872           67        3032           65521   \n",
       "582005   2018-12-31  8591872           68        3033           65600   \n",
       "582006   2018-12-31  8591872           69        3085           65623   \n",
       "\n",
       "        ACTUALTIME_DEP ACTUALTIME_ARR_DATETIME ACTUALTIME_DEP_DATETIME  \\\n",
       "582002           65397     2018-12-31 18:09:57     2018-12-31 18:09:57   \n",
       "582003           65414     2018-12-31 18:10:14     2018-12-31 18:10:14   \n",
       "582004           65536     2018-12-31 18:12:01     2018-12-31 18:12:16   \n",
       "582005           65600     2018-12-31 18:13:20     2018-12-31 18:13:20   \n",
       "582006           65623     2018-12-31 18:13:43     2018-12-31 18:13:43   \n",
       "\n",
       "        WEEK_DAY  \n",
       "582002         0  \n",
       "582003         0  \n",
       "582004         0  \n",
       "582005         0  \n",
       "582006         0  "
      ]
     },
     "execution_count": 130,
     "metadata": {},
     "output_type": "execute_result"
    }
   ],
   "source": [
    "# WEEKDAY from 0 to 6\n",
    "DF_droped.tail()"
   ]
  },
  {
   "cell_type": "markdown",
   "metadata": {},
   "source": [
    "## Devided into periods according to 'ACTUALTIME_ARR_DATETIME'"
   ]
  },
  {
   "cell_type": "markdown",
   "metadata": {},
   "source": [
    "if time in 2:00 ~ 2:30, the period would be 2:00 <br>\n",
    "if time in 2:30 ~ 3:00, the period would be 2:30"
   ]
  },
  {
   "cell_type": "code",
   "execution_count": 131,
   "metadata": {
    "ExecuteTime": {
     "end_time": "2020-07-05T16:01:49.733658Z",
     "start_time": "2020-07-05T16:01:49.728671Z"
    }
   },
   "outputs": [],
   "source": [
    "def time_to_periods(x):\n",
    "    \"\"\"convert time to periods defined\"\"\"\n",
    "    if x.minute < 30:\n",
    "        m = 0\n",
    "    else:\n",
    "        m = 30\n",
    "    return datetime.time(x.hour,m)"
   ]
  },
  {
   "cell_type": "code",
   "execution_count": 132,
   "metadata": {
    "ExecuteTime": {
     "end_time": "2020-07-05T16:01:50.256261Z",
     "start_time": "2020-07-05T16:01:50.248282Z"
    }
   },
   "outputs": [],
   "source": [
    "ts = pd.Series(1,index=DF_droped[\"ACTUALTIME_ARR_DATETIME\"])"
   ]
  },
  {
   "cell_type": "code",
   "execution_count": 133,
   "metadata": {
    "ExecuteTime": {
     "end_time": "2020-07-05T16:01:52.939323Z",
     "start_time": "2020-07-05T16:01:50.664171Z"
    }
   },
   "outputs": [],
   "source": [
    "DF_droped[\"PERIOD\"] = DF_droped[\"ACTUALTIME_ARR_DATETIME\"].apply(time_to_periods)"
   ]
  },
  {
   "cell_type": "code",
   "execution_count": 134,
   "metadata": {
    "ExecuteTime": {
     "end_time": "2020-07-05T16:01:53.320070Z",
     "start_time": "2020-07-05T16:01:53.314085Z"
    }
   },
   "outputs": [
    {
     "data": {
      "text/plain": [
       "Timestamp('2018-01-01 00:00:00')"
      ]
     },
     "execution_count": 134,
     "metadata": {},
     "output_type": "execute_result"
    }
   ],
   "source": [
    "DF_droped[\"DAYOFSERVICE\"][0]"
   ]
  },
  {
   "cell_type": "markdown",
   "metadata": {},
   "source": [
    "## Merge dataframes 'DF_droped\" and \"weather_DF\""
   ]
  },
  {
   "cell_type": "markdown",
   "metadata": {},
   "source": [
    "Use left outer join to merge them based on : left_on=['DAYOFSERVICE','PERIOD'],  right_on=['date','time']"
   ]
  },
  {
   "cell_type": "code",
   "execution_count": 135,
   "metadata": {
    "ExecuteTime": {
     "end_time": "2020-07-05T16:01:54.893862Z",
     "start_time": "2020-07-05T16:01:53.692076Z"
    }
   },
   "outputs": [],
   "source": [
    "DF_merged = pd.merge(DF_droped, weather_DF, left_on=['DAYOFSERVICE','PERIOD'], \\\n",
    "         right_on=['date','time'], how='left').drop(['date','time'], axis=1)"
   ]
  },
  {
   "cell_type": "code",
   "execution_count": 136,
   "metadata": {
    "ExecuteTime": {
     "end_time": "2020-07-05T16:01:55.275882Z",
     "start_time": "2020-07-05T16:01:55.260880Z"
    }
   },
   "outputs": [
    {
     "data": {
      "text/html": [
       "<div>\n",
       "<style scoped>\n",
       "    .dataframe tbody tr th:only-of-type {\n",
       "        vertical-align: middle;\n",
       "    }\n",
       "\n",
       "    .dataframe tbody tr th {\n",
       "        vertical-align: top;\n",
       "    }\n",
       "\n",
       "    .dataframe thead th {\n",
       "        text-align: right;\n",
       "    }\n",
       "</style>\n",
       "<table border=\"1\" class=\"dataframe\">\n",
       "  <thead>\n",
       "    <tr style=\"text-align: right;\">\n",
       "      <th></th>\n",
       "      <th>DAYOFSERVICE</th>\n",
       "      <th>TRIPID</th>\n",
       "      <th>PROGRNUMBER</th>\n",
       "      <th>STOPPOINTID</th>\n",
       "      <th>ACTUALTIME_ARR</th>\n",
       "      <th>ACTUALTIME_DEP</th>\n",
       "      <th>ACTUALTIME_ARR_DATETIME</th>\n",
       "      <th>ACTUALTIME_DEP_DATETIME</th>\n",
       "      <th>WEEK_DAY</th>\n",
       "      <th>PERIOD</th>\n",
       "      <th>temp</th>\n",
       "      <th>humid</th>\n",
       "      <th>windspeed</th>\n",
       "      <th>condition</th>\n",
       "    </tr>\n",
       "  </thead>\n",
       "  <tbody>\n",
       "    <tr>\n",
       "      <th>0</th>\n",
       "      <td>2018-01-01</td>\n",
       "      <td>5968763</td>\n",
       "      <td>1</td>\n",
       "      <td>1380</td>\n",
       "      <td>50714</td>\n",
       "      <td>50714</td>\n",
       "      <td>2018-01-01 14:05:14</td>\n",
       "      <td>2018-01-01 14:05:14</td>\n",
       "      <td>0</td>\n",
       "      <td>14:00:00</td>\n",
       "      <td>45</td>\n",
       "      <td>81</td>\n",
       "      <td>29</td>\n",
       "      <td>Light Rain Shower / Windy</td>\n",
       "    </tr>\n",
       "    <tr>\n",
       "      <th>1</th>\n",
       "      <td>2018-01-01</td>\n",
       "      <td>5968763</td>\n",
       "      <td>2</td>\n",
       "      <td>1381</td>\n",
       "      <td>50731</td>\n",
       "      <td>50731</td>\n",
       "      <td>2018-01-01 14:05:31</td>\n",
       "      <td>2018-01-01 14:05:31</td>\n",
       "      <td>0</td>\n",
       "      <td>14:00:00</td>\n",
       "      <td>45</td>\n",
       "      <td>81</td>\n",
       "      <td>29</td>\n",
       "      <td>Light Rain Shower / Windy</td>\n",
       "    </tr>\n",
       "    <tr>\n",
       "      <th>2</th>\n",
       "      <td>2018-01-01</td>\n",
       "      <td>5968763</td>\n",
       "      <td>3</td>\n",
       "      <td>1406</td>\n",
       "      <td>50787</td>\n",
       "      <td>50817</td>\n",
       "      <td>2018-01-01 14:06:27</td>\n",
       "      <td>2018-01-01 14:06:57</td>\n",
       "      <td>0</td>\n",
       "      <td>14:00:00</td>\n",
       "      <td>45</td>\n",
       "      <td>81</td>\n",
       "      <td>29</td>\n",
       "      <td>Light Rain Shower / Windy</td>\n",
       "    </tr>\n",
       "    <tr>\n",
       "      <th>3</th>\n",
       "      <td>2018-01-01</td>\n",
       "      <td>5968763</td>\n",
       "      <td>4</td>\n",
       "      <td>1407</td>\n",
       "      <td>50871</td>\n",
       "      <td>50871</td>\n",
       "      <td>2018-01-01 14:07:51</td>\n",
       "      <td>2018-01-01 14:07:51</td>\n",
       "      <td>0</td>\n",
       "      <td>14:00:00</td>\n",
       "      <td>45</td>\n",
       "      <td>81</td>\n",
       "      <td>29</td>\n",
       "      <td>Light Rain Shower / Windy</td>\n",
       "    </tr>\n",
       "    <tr>\n",
       "      <th>4</th>\n",
       "      <td>2018-01-01</td>\n",
       "      <td>5968763</td>\n",
       "      <td>5</td>\n",
       "      <td>1409</td>\n",
       "      <td>50893</td>\n",
       "      <td>50893</td>\n",
       "      <td>2018-01-01 14:08:13</td>\n",
       "      <td>2018-01-01 14:08:13</td>\n",
       "      <td>0</td>\n",
       "      <td>14:00:00</td>\n",
       "      <td>45</td>\n",
       "      <td>81</td>\n",
       "      <td>29</td>\n",
       "      <td>Light Rain Shower / Windy</td>\n",
       "    </tr>\n",
       "  </tbody>\n",
       "</table>\n",
       "</div>"
      ],
      "text/plain": [
       "  DAYOFSERVICE   TRIPID  PROGRNUMBER STOPPOINTID  ACTUALTIME_ARR  \\\n",
       "0   2018-01-01  5968763            1        1380           50714   \n",
       "1   2018-01-01  5968763            2        1381           50731   \n",
       "2   2018-01-01  5968763            3        1406           50787   \n",
       "3   2018-01-01  5968763            4        1407           50871   \n",
       "4   2018-01-01  5968763            5        1409           50893   \n",
       "\n",
       "   ACTUALTIME_DEP ACTUALTIME_ARR_DATETIME ACTUALTIME_DEP_DATETIME  WEEK_DAY  \\\n",
       "0           50714     2018-01-01 14:05:14     2018-01-01 14:05:14         0   \n",
       "1           50731     2018-01-01 14:05:31     2018-01-01 14:05:31         0   \n",
       "2           50817     2018-01-01 14:06:27     2018-01-01 14:06:57         0   \n",
       "3           50871     2018-01-01 14:07:51     2018-01-01 14:07:51         0   \n",
       "4           50893     2018-01-01 14:08:13     2018-01-01 14:08:13         0   \n",
       "\n",
       "     PERIOD  temp  humid  windspeed                  condition  \n",
       "0  14:00:00    45     81         29  Light Rain Shower / Windy  \n",
       "1  14:00:00    45     81         29  Light Rain Shower / Windy  \n",
       "2  14:00:00    45     81         29  Light Rain Shower / Windy  \n",
       "3  14:00:00    45     81         29  Light Rain Shower / Windy  \n",
       "4  14:00:00    45     81         29  Light Rain Shower / Windy  "
      ]
     },
     "execution_count": 136,
     "metadata": {},
     "output_type": "execute_result"
    }
   ],
   "source": [
    "DF_merged.head()"
   ]
  },
  {
   "cell_type": "markdown",
   "metadata": {},
   "source": [
    "## Add 'dwell time' and 'diff time'"
   ]
  },
  {
   "cell_type": "markdown",
   "metadata": {},
   "source": [
    "'dwell time' = \"ACTUALTIME_DEP\" - \"ACTUALTIME_ARR\"\n",
    "'Diff_time' = ACTUALTIME_ARR\" - ACTUALTIME_ARR\".laststop\n",
    "Groupby DAYOFSERVICE and TRIPID"
   ]
  },
  {
   "cell_type": "code",
   "execution_count": 137,
   "metadata": {
    "ExecuteTime": {
     "end_time": "2020-07-05T16:01:55.663803Z",
     "start_time": "2020-07-05T16:01:55.638870Z"
    }
   },
   "outputs": [],
   "source": [
    "DF_merged['DWELLTIME'] = DF_merged[\"ACTUALTIME_DEP\"] - DF_merged[\"ACTUALTIME_ARR\"]"
   ]
  },
  {
   "cell_type": "code",
   "execution_count": 138,
   "metadata": {
    "ExecuteTime": {
     "end_time": "2020-07-05T16:01:56.041834Z",
     "start_time": "2020-07-05T16:01:56.026833Z"
    },
    "scrolled": true
   },
   "outputs": [
    {
     "data": {
      "text/html": [
       "<div>\n",
       "<style scoped>\n",
       "    .dataframe tbody tr th:only-of-type {\n",
       "        vertical-align: middle;\n",
       "    }\n",
       "\n",
       "    .dataframe tbody tr th {\n",
       "        vertical-align: top;\n",
       "    }\n",
       "\n",
       "    .dataframe thead th {\n",
       "        text-align: right;\n",
       "    }\n",
       "</style>\n",
       "<table border=\"1\" class=\"dataframe\">\n",
       "  <thead>\n",
       "    <tr style=\"text-align: right;\">\n",
       "      <th></th>\n",
       "      <th>DAYOFSERVICE</th>\n",
       "      <th>TRIPID</th>\n",
       "      <th>PROGRNUMBER</th>\n",
       "      <th>STOPPOINTID</th>\n",
       "      <th>ACTUALTIME_ARR</th>\n",
       "      <th>ACTUALTIME_DEP</th>\n",
       "      <th>ACTUALTIME_ARR_DATETIME</th>\n",
       "      <th>ACTUALTIME_DEP_DATETIME</th>\n",
       "      <th>WEEK_DAY</th>\n",
       "      <th>PERIOD</th>\n",
       "      <th>temp</th>\n",
       "      <th>humid</th>\n",
       "      <th>windspeed</th>\n",
       "      <th>condition</th>\n",
       "      <th>DWELLTIME</th>\n",
       "    </tr>\n",
       "  </thead>\n",
       "  <tbody>\n",
       "    <tr>\n",
       "      <th>0</th>\n",
       "      <td>2018-01-01</td>\n",
       "      <td>5968763</td>\n",
       "      <td>1</td>\n",
       "      <td>1380</td>\n",
       "      <td>50714</td>\n",
       "      <td>50714</td>\n",
       "      <td>2018-01-01 14:05:14</td>\n",
       "      <td>2018-01-01 14:05:14</td>\n",
       "      <td>0</td>\n",
       "      <td>14:00:00</td>\n",
       "      <td>45</td>\n",
       "      <td>81</td>\n",
       "      <td>29</td>\n",
       "      <td>Light Rain Shower / Windy</td>\n",
       "      <td>0</td>\n",
       "    </tr>\n",
       "    <tr>\n",
       "      <th>1</th>\n",
       "      <td>2018-01-01</td>\n",
       "      <td>5968763</td>\n",
       "      <td>2</td>\n",
       "      <td>1381</td>\n",
       "      <td>50731</td>\n",
       "      <td>50731</td>\n",
       "      <td>2018-01-01 14:05:31</td>\n",
       "      <td>2018-01-01 14:05:31</td>\n",
       "      <td>0</td>\n",
       "      <td>14:00:00</td>\n",
       "      <td>45</td>\n",
       "      <td>81</td>\n",
       "      <td>29</td>\n",
       "      <td>Light Rain Shower / Windy</td>\n",
       "      <td>0</td>\n",
       "    </tr>\n",
       "    <tr>\n",
       "      <th>2</th>\n",
       "      <td>2018-01-01</td>\n",
       "      <td>5968763</td>\n",
       "      <td>3</td>\n",
       "      <td>1406</td>\n",
       "      <td>50787</td>\n",
       "      <td>50817</td>\n",
       "      <td>2018-01-01 14:06:27</td>\n",
       "      <td>2018-01-01 14:06:57</td>\n",
       "      <td>0</td>\n",
       "      <td>14:00:00</td>\n",
       "      <td>45</td>\n",
       "      <td>81</td>\n",
       "      <td>29</td>\n",
       "      <td>Light Rain Shower / Windy</td>\n",
       "      <td>30</td>\n",
       "    </tr>\n",
       "    <tr>\n",
       "      <th>3</th>\n",
       "      <td>2018-01-01</td>\n",
       "      <td>5968763</td>\n",
       "      <td>4</td>\n",
       "      <td>1407</td>\n",
       "      <td>50871</td>\n",
       "      <td>50871</td>\n",
       "      <td>2018-01-01 14:07:51</td>\n",
       "      <td>2018-01-01 14:07:51</td>\n",
       "      <td>0</td>\n",
       "      <td>14:00:00</td>\n",
       "      <td>45</td>\n",
       "      <td>81</td>\n",
       "      <td>29</td>\n",
       "      <td>Light Rain Shower / Windy</td>\n",
       "      <td>0</td>\n",
       "    </tr>\n",
       "    <tr>\n",
       "      <th>4</th>\n",
       "      <td>2018-01-01</td>\n",
       "      <td>5968763</td>\n",
       "      <td>5</td>\n",
       "      <td>1409</td>\n",
       "      <td>50893</td>\n",
       "      <td>50893</td>\n",
       "      <td>2018-01-01 14:08:13</td>\n",
       "      <td>2018-01-01 14:08:13</td>\n",
       "      <td>0</td>\n",
       "      <td>14:00:00</td>\n",
       "      <td>45</td>\n",
       "      <td>81</td>\n",
       "      <td>29</td>\n",
       "      <td>Light Rain Shower / Windy</td>\n",
       "      <td>0</td>\n",
       "    </tr>\n",
       "  </tbody>\n",
       "</table>\n",
       "</div>"
      ],
      "text/plain": [
       "  DAYOFSERVICE   TRIPID  PROGRNUMBER STOPPOINTID  ACTUALTIME_ARR  \\\n",
       "0   2018-01-01  5968763            1        1380           50714   \n",
       "1   2018-01-01  5968763            2        1381           50731   \n",
       "2   2018-01-01  5968763            3        1406           50787   \n",
       "3   2018-01-01  5968763            4        1407           50871   \n",
       "4   2018-01-01  5968763            5        1409           50893   \n",
       "\n",
       "   ACTUALTIME_DEP ACTUALTIME_ARR_DATETIME ACTUALTIME_DEP_DATETIME  WEEK_DAY  \\\n",
       "0           50714     2018-01-01 14:05:14     2018-01-01 14:05:14         0   \n",
       "1           50731     2018-01-01 14:05:31     2018-01-01 14:05:31         0   \n",
       "2           50817     2018-01-01 14:06:27     2018-01-01 14:06:57         0   \n",
       "3           50871     2018-01-01 14:07:51     2018-01-01 14:07:51         0   \n",
       "4           50893     2018-01-01 14:08:13     2018-01-01 14:08:13         0   \n",
       "\n",
       "     PERIOD  temp  humid  windspeed                  condition  DWELLTIME  \n",
       "0  14:00:00    45     81         29  Light Rain Shower / Windy          0  \n",
       "1  14:00:00    45     81         29  Light Rain Shower / Windy          0  \n",
       "2  14:00:00    45     81         29  Light Rain Shower / Windy         30  \n",
       "3  14:00:00    45     81         29  Light Rain Shower / Windy          0  \n",
       "4  14:00:00    45     81         29  Light Rain Shower / Windy          0  "
      ]
     },
     "execution_count": 138,
     "metadata": {},
     "output_type": "execute_result"
    }
   ],
   "source": [
    "DF_merged.head()"
   ]
  },
  {
   "cell_type": "code",
   "execution_count": 139,
   "metadata": {
    "ExecuteTime": {
     "end_time": "2020-07-05T16:01:58.761660Z",
     "start_time": "2020-07-05T16:01:56.404822Z"
    }
   },
   "outputs": [],
   "source": [
    "DF_merged['DIFFTIME'] = DF_merged.groupby(['DAYOFSERVICE','TRIPID'])['ACTUALTIME_ARR'].apply(lambda x:x.diff(1))"
   ]
  },
  {
   "cell_type": "code",
   "execution_count": 140,
   "metadata": {
    "ExecuteTime": {
     "end_time": "2020-07-05T16:01:59.152477Z",
     "start_time": "2020-07-05T16:01:59.146492Z"
    }
   },
   "outputs": [
    {
     "data": {
      "text/plain": [
       "DAYOFSERVICE               datetime64[ns]\n",
       "TRIPID                             object\n",
       "PROGRNUMBER                         int64\n",
       "STOPPOINTID                        object\n",
       "ACTUALTIME_ARR                      int64\n",
       "ACTUALTIME_DEP                      int64\n",
       "ACTUALTIME_ARR_DATETIME    datetime64[ns]\n",
       "ACTUALTIME_DEP_DATETIME    datetime64[ns]\n",
       "WEEK_DAY                            int64\n",
       "PERIOD                             object\n",
       "temp                                int64\n",
       "humid                               int64\n",
       "windspeed                           int64\n",
       "condition                          object\n",
       "DWELLTIME                           int64\n",
       "DIFFTIME                          float64\n",
       "dtype: object"
      ]
     },
     "execution_count": 140,
     "metadata": {},
     "output_type": "execute_result"
    }
   ],
   "source": [
    "DF_merged.dtypes"
   ]
  },
  {
   "cell_type": "code",
   "execution_count": 141,
   "metadata": {
    "ExecuteTime": {
     "end_time": "2020-07-05T16:02:05.731887Z",
     "start_time": "2020-07-05T16:01:59.517500Z"
    },
    "pycharm": {
     "name": "#%%\n"
    }
   },
   "outputs": [],
   "source": [
    "DF_merged.to_csv(\"ABT.csv\")"
   ]
  }
 ],
 "metadata": {
  "kernelspec": {
   "display_name": "H1_dataanalysis",
   "language": "python",
   "name": "h1_dataanalysis"
  },
  "language_info": {
   "codemirror_mode": {
    "name": "ipython",
    "version": 3
   },
   "file_extension": ".py",
   "mimetype": "text/x-python",
   "name": "python",
   "nbconvert_exporter": "python",
   "pygments_lexer": "ipython3",
   "version": "3.7.6"
  },
  "pycharm": {
   "stem_cell": {
    "cell_type": "raw",
    "metadata": {
     "collapsed": false
    },
    "source": []
   }
  },
  "toc": {
   "base_numbering": 1,
   "nav_menu": {},
   "number_sections": true,
   "sideBar": true,
   "skip_h1_title": false,
   "title_cell": "Table of Contents",
   "title_sidebar": "Contents",
   "toc_cell": false,
   "toc_position": {},
   "toc_section_display": true,
   "toc_window_display": false
  },
  "varInspector": {
   "cols": {
    "lenName": 16,
    "lenType": 16,
    "lenVar": 40
   },
   "kernels_config": {
    "python": {
     "delete_cmd_postfix": "",
     "delete_cmd_prefix": "del ",
     "library": "var_list.py",
     "varRefreshCmd": "print(var_dic_list())"
    },
    "r": {
     "delete_cmd_postfix": ") ",
     "delete_cmd_prefix": "rm(",
     "library": "var_list.r",
     "varRefreshCmd": "cat(var_dic_list()) "
    }
   },
   "types_to_exclude": [
    "module",
    "function",
    "builtin_function_or_method",
    "instance",
    "_Feature"
   ],
   "window_display": false
  }
 },
 "nbformat": 4,
 "nbformat_minor": 1
}
