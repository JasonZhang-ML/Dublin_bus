{
 "cells": [
  {
   "cell_type": "code",
   "execution_count": 2,
   "metadata": {
    "ExecuteTime": {
     "end_time": "2020-06-17T04:16:28.809820Z",
     "start_time": "2020-06-17T04:16:28.585417Z"
    },
    "pycharm": {
     "is_executing": false
    }
   },
   "outputs": [],
   "source": [
    "import numpy as np\n",
    "import pandas as pd\n",
    "import MySQLdb"
   ]
  },
  {
   "cell_type": "code",
   "execution_count": null,
   "outputs": [],
   "source": [
    "# too big too load in python\n",
    "# LeaveTime_DB = pd.read_csv(\"D:/datasets/Dublin_bus/data/rt_leavetimes_DB_2018.txt\", sep=';')\n",
    "# Trips_DB = pd.read_csv(\"D:/datasets/Dublin_bus/data/rt_trips_DB_2018.txt\")\n",
    "# Vehicles_DB = pd.read_csv(\"D:/datasets/Dublin_bus/data/rt_vehicles_DB_2018.txt\")"
   ],
   "metadata": {
    "collapsed": false,
    "pycharm": {
     "name": "#%% \n"
    }
   }
  },
  {
   "cell_type": "code",
   "execution_count": 4,
   "outputs": [],
   "source": [
    "# Connect to mysql\n",
    "cxn = MySQLdb.connect(user='user', password='nUT8+~nYRS/9-i$')\n",
    "cur = cxn.cursor()"
   ],
   "metadata": {
    "collapsed": false,
    "pycharm": {
     "name": "#%%\n",
     "is_executing": false
    }
   }
  },
  {
   "cell_type": "code",
   "execution_count": null,
   "outputs": [],
   "source": [
    "def GetData(cur, query):\n",
    "    # cur.execute('select * from busduck.leavetimes_01 LIMIT 0,10;')\n",
    "    cur.execute(query)\n",
    "    rows = cur.fetchall()\n",
    "    return    pd.DataFrame(rows, columns=[i[0] for i in cur.description])"
   ],
   "metadata": {
    "collapsed": false,
    "pycharm": {
     "name": "#%%\n"
    }
   }
  },
  {
   "cell_type": "code",
   "execution_count": null,
   "outputs": [],
   "source": [
    "query = \"select * from busduck.leavetimes_01 LIMIT 0,5;\"\n",
    "DF = GetData(cur, query)\n",
    "DF"
   ],
   "metadata": {
    "collapsed": false,
    "pycharm": {
     "name": "#%%\n"
    }
   }
  },
  {
   "cell_type": "code",
   "execution_count": null,
   "outputs": [],
   "source": [
    "query = \"select * from busduck.leavetimes_01 LIMIT 0,5;\"\n",
    "Vehicles_DF = GetData(cur, query)\n",
    "DF\n",
    "\n"
   ],
   "metadata": {
    "collapsed": false,
    "pycharm": {
     "name": "#%%\n"
    }
   }
  },
  {
   "cell_type": "code",
   "execution_count": null,
   "outputs": [],
   "source": [
    "\n"
   ],
   "metadata": {
    "collapsed": false,
    "pycharm": {
     "name": "#%%\n"
    }
   }
  },
  {
   "cell_type": "code",
   "execution_count": 42,
   "outputs": [],
   "source": [
    "\n"
   ],
   "metadata": {
    "collapsed": false,
    "pycharm": {
     "name": "#%%\n",
     "is_executing": false
    }
   }
  },
  {
   "cell_type": "code",
   "execution_count": 44,
   "metadata": {
    "ExecuteTime": {
     "start_time": "2020-06-17T04:16:44.167Z"
    },
    "pycharm": {
     "is_executing": false
    }
   },
   "outputs": [
    {
     "data": {
      "text/plain": "  DATASOURCE DAYOFSERVICE   TRIPID  PROGRNUMBER STOPPOINTID  PLANNEDTIME_ARR  \\\n0         DB   2018-01-01  5955277            1        7347            30000   \n1         DB   2018-01-01  5955277            2        3669            30080   \n2         DB   2018-01-01  5955277            3        7349            30138   \n3         DB   2018-01-01  5955277            4        1631            30206   \n4         DB   2018-01-01  5955277            5        1632            30221   \n\n   PLANNEDTIME_DEP  ACTUALTIME_ARR  ACTUALTIME_DEP VEHICLEID  PASSENGERS  \\\n0            30000           30029           30029   1001127           0   \n1            30080           30128           30128   1001127           0   \n2            30138           30182           30182   1001127           0   \n3            30206           30255           30255   1001127           0   \n4            30221           30261           30261   1001127           0   \n\n   PASSENGERSIN  PASSENGERSOUT  DISTANCE  SUPPRESSED  JUSTIFICATIONID  \\\n0             0              0         0           0                0   \n1             0              0         0           0                0   \n2             0              0         0           0                0   \n3             0              0         0           0                0   \n4             0              0         0           0                0   \n\n           LASTUPDATE NOTE  \n0 2018-01-08 17:21:10       \n1 2018-01-08 17:21:10       \n2 2018-01-08 17:21:10       \n3 2018-01-08 17:21:10       \n4 2018-01-08 17:21:10       ",
      "text/html": "<div>\n<style scoped>\n    .dataframe tbody tr th:only-of-type {\n        vertical-align: middle;\n    }\n\n    .dataframe tbody tr th {\n        vertical-align: top;\n    }\n\n    .dataframe thead th {\n        text-align: right;\n    }\n</style>\n<table border=\"1\" class=\"dataframe\">\n  <thead>\n    <tr style=\"text-align: right;\">\n      <th></th>\n      <th>DATASOURCE</th>\n      <th>DAYOFSERVICE</th>\n      <th>TRIPID</th>\n      <th>PROGRNUMBER</th>\n      <th>STOPPOINTID</th>\n      <th>PLANNEDTIME_ARR</th>\n      <th>PLANNEDTIME_DEP</th>\n      <th>ACTUALTIME_ARR</th>\n      <th>ACTUALTIME_DEP</th>\n      <th>VEHICLEID</th>\n      <th>PASSENGERS</th>\n      <th>PASSENGERSIN</th>\n      <th>PASSENGERSOUT</th>\n      <th>DISTANCE</th>\n      <th>SUPPRESSED</th>\n      <th>JUSTIFICATIONID</th>\n      <th>LASTUPDATE</th>\n      <th>NOTE</th>\n    </tr>\n  </thead>\n  <tbody>\n    <tr>\n      <th>0</th>\n      <td>DB</td>\n      <td>2018-01-01</td>\n      <td>5955277</td>\n      <td>1</td>\n      <td>7347</td>\n      <td>30000</td>\n      <td>30000</td>\n      <td>30029</td>\n      <td>30029</td>\n      <td>1001127</td>\n      <td>0</td>\n      <td>0</td>\n      <td>0</td>\n      <td>0</td>\n      <td>0</td>\n      <td>0</td>\n      <td>2018-01-08 17:21:10</td>\n      <td></td>\n    </tr>\n    <tr>\n      <th>1</th>\n      <td>DB</td>\n      <td>2018-01-01</td>\n      <td>5955277</td>\n      <td>2</td>\n      <td>3669</td>\n      <td>30080</td>\n      <td>30080</td>\n      <td>30128</td>\n      <td>30128</td>\n      <td>1001127</td>\n      <td>0</td>\n      <td>0</td>\n      <td>0</td>\n      <td>0</td>\n      <td>0</td>\n      <td>0</td>\n      <td>2018-01-08 17:21:10</td>\n      <td></td>\n    </tr>\n    <tr>\n      <th>2</th>\n      <td>DB</td>\n      <td>2018-01-01</td>\n      <td>5955277</td>\n      <td>3</td>\n      <td>7349</td>\n      <td>30138</td>\n      <td>30138</td>\n      <td>30182</td>\n      <td>30182</td>\n      <td>1001127</td>\n      <td>0</td>\n      <td>0</td>\n      <td>0</td>\n      <td>0</td>\n      <td>0</td>\n      <td>0</td>\n      <td>2018-01-08 17:21:10</td>\n      <td></td>\n    </tr>\n    <tr>\n      <th>3</th>\n      <td>DB</td>\n      <td>2018-01-01</td>\n      <td>5955277</td>\n      <td>4</td>\n      <td>1631</td>\n      <td>30206</td>\n      <td>30206</td>\n      <td>30255</td>\n      <td>30255</td>\n      <td>1001127</td>\n      <td>0</td>\n      <td>0</td>\n      <td>0</td>\n      <td>0</td>\n      <td>0</td>\n      <td>0</td>\n      <td>2018-01-08 17:21:10</td>\n      <td></td>\n    </tr>\n    <tr>\n      <th>4</th>\n      <td>DB</td>\n      <td>2018-01-01</td>\n      <td>5955277</td>\n      <td>5</td>\n      <td>1632</td>\n      <td>30221</td>\n      <td>30221</td>\n      <td>30261</td>\n      <td>30261</td>\n      <td>1001127</td>\n      <td>0</td>\n      <td>0</td>\n      <td>0</td>\n      <td>0</td>\n      <td>0</td>\n      <td>0</td>\n      <td>2018-01-08 17:21:10</td>\n      <td></td>\n    </tr>\n  </tbody>\n</table>\n</div>"
     },
     "metadata": {},
     "output_type": "execute_result",
     "execution_count": 44
    }
   ],
   "source": [
    "query = \"select * from busduck.leavetimes_01 LIMIT 0,5;\"\n",
    "DF = GetData(cur, query)\n",
    "DF"
   ]
  },
  {
   "cell_type": "code",
   "execution_count": 41,
   "metadata": {
    "pycharm": {
     "is_executing": false
    }
   },
   "outputs": [
    {
     "data": {
      "text/plain": "['DATASOURCE',\n 'DAYOFSERVICE',\n 'TRIPID',\n 'PROGRNUMBER',\n 'STOPPOINTID',\n 'PLANNEDTIME_ARR',\n 'PLANNEDTIME_DEP',\n 'ACTUALTIME_ARR',\n 'ACTUALTIME_DEP',\n 'VEHICLEID',\n 'PASSENGERS',\n 'PASSENGERSIN',\n 'PASSENGERSOUT',\n 'DISTANCE',\n 'SUPPRESSED',\n 'JUSTIFICATIONID',\n 'LASTUPDATE',\n 'NOTE']"
     },
     "metadata": {},
     "output_type": "execute_result",
     "execution_count": 41
    }
   ],
   "source": [
    "query = \"select * from busduck.leavetimes_01 LIMIT 0,5;\"\n",
    "Vehicles_DF = GetData(cur, query)\n",
    "DF\n",
    "\n"
   ]
  },
  {
   "cell_type": "code",
   "execution_count": null,
   "outputs": [],
   "source": [
    "\n"
   ],
   "metadata": {
    "collapsed": false,
    "pycharm": {
     "name": "#%%\n"
    }
   }
  }
 ],
 "metadata": {
  "kernelspec": {
   "display_name": "H1_dataanalysis",
   "language": "python",
   "name": "h1_dataanalysis"
  },
  "language_info": {
   "codemirror_mode": {
    "name": "ipython",
    "version": 3
   },
   "file_extension": ".py",
   "mimetype": "text/x-python",
   "name": "python",
   "nbconvert_exporter": "python",
   "pygments_lexer": "ipython3",
   "version": "3.7.6"
  },
  "toc": {
   "base_numbering": 1,
   "nav_menu": {},
   "number_sections": true,
   "sideBar": true,
   "skip_h1_title": false,
   "title_cell": "Table of Contents",
   "title_sidebar": "Contents",
   "toc_cell": false,
   "toc_position": {},
   "toc_section_display": true,
   "toc_window_display": false
  },
  "varInspector": {
   "cols": {
    "lenName": 16,
    "lenType": 16,
    "lenVar": 40
   },
   "kernels_config": {
    "python": {
     "delete_cmd_postfix": "",
     "delete_cmd_prefix": "del ",
     "library": "var_list.py",
     "varRefreshCmd": "print(var_dic_list())"
    },
    "r": {
     "delete_cmd_postfix": ") ",
     "delete_cmd_prefix": "rm(",
     "library": "var_list.r",
     "varRefreshCmd": "cat(var_dic_list()) "
    }
   },
   "types_to_exclude": [
    "module",
    "function",
    "builtin_function_or_method",
    "instance",
    "_Feature"
   ],
   "window_display": false
  },
  "pycharm": {
   "stem_cell": {
    "cell_type": "raw",
    "source": [],
    "metadata": {
     "collapsed": false
    }
   }
  }
 },
 "nbformat": 4,
 "nbformat_minor": 1
}