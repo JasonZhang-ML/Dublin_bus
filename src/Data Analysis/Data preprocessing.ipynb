{
 "cells": [
  {
   "cell_type": "code",
   "execution_count": 2,
   "metadata": {
    "ExecuteTime": {
     "end_time": "2020-07-04T07:09:09.726839Z",
     "start_time": "2020-07-04T07:09:08.885274Z"
    },
    "pycharm": {
     "is_executing": false
    }
   },
   "outputs": [],
   "source": [
    "import numpy as np\n",
    "import pandas as pd\n",
    "import MySQLdb"
   ]
  },
  {
   "cell_type": "code",
   "execution_count": 3,
   "metadata": {
    "ExecuteTime": {
     "end_time": "2020-07-04T07:09:09.742792Z",
     "start_time": "2020-07-04T07:09:09.738802Z"
    },
    "pycharm": {
     "name": "#%% \n"
    }
   },
   "outputs": [],
   "source": [
    "# too big too load in python\n",
    "# LeaveTime_DB = pd.read_csv(\"D:/datasets/Dublin_bus/data/rt_leavetimes_DB_2018.txt\", sep=';')\n",
    "# Trips_DB = pd.read_csv(\"D:/datasets/Dublin_bus/data/rt_trips_DB_2018.txt\")\n",
    "# Vehicles_DB = pd.read_csv(\"D:/datasets/Dublin_bus/data/rt_vehicles_DB_2018.txt\")"
   ]
  },
  {
   "cell_type": "markdown",
   "metadata": {},
   "source": [
    "# Import data and connect to database"
   ]
  },
  {
   "cell_type": "code",
   "execution_count": 4,
   "metadata": {
    "ExecuteTime": {
     "end_time": "2020-07-04T07:09:09.797688Z",
     "start_time": "2020-07-04T07:09:09.764733Z"
    },
    "pycharm": {
     "is_executing": false,
     "name": "#%%\n"
    }
   },
   "outputs": [],
   "source": [
    "# Connect to mysql\n",
    "cxn = MySQLdb.connect(user='user', password='nUT8+~nYRS/9-i$')\n",
    "cur = cxn.cursor()"
   ]
  },
  {
   "cell_type": "code",
   "execution_count": 5,
   "metadata": {
    "ExecuteTime": {
     "end_time": "2020-07-04T07:09:10.513731Z",
     "start_time": "2020-07-04T07:09:10.509742Z"
    },
    "pycharm": {
     "name": "#%%\n"
    }
   },
   "outputs": [],
   "source": [
    "def GetData(cur, query):\n",
    "    # cur.execute('select * from busduck.leavetimes_01 LIMIT 0,10;')\n",
    "    cur.execute(query)\n",
    "    rows = cur.fetchall()\n",
    "    return    pd.DataFrame(rows, columns=[i[0] for i in cur.description])"
   ]
  },
  {
   "cell_type": "code",
   "execution_count": 208,
   "metadata": {
    "ExecuteTime": {
     "end_time": "2020-07-04T09:40:57.867412Z",
     "start_time": "2020-07-04T09:40:57.698836Z"
    }
   },
   "outputs": [],
   "source": [
    "weather_DF = pd.read_csv(\"D:/datasets/Dublin_bus/2018_daily.csv\")"
   ]
  },
  {
   "cell_type": "code",
   "execution_count": 209,
   "metadata": {
    "ExecuteTime": {
     "end_time": "2020-07-04T09:40:57.940191Z",
     "start_time": "2020-07-04T09:40:57.931215Z"
    }
   },
   "outputs": [
    {
     "data": {
      "text/html": [
       "<div>\n",
       "<style scoped>\n",
       "    .dataframe tbody tr th:only-of-type {\n",
       "        vertical-align: middle;\n",
       "    }\n",
       "\n",
       "    .dataframe tbody tr th {\n",
       "        vertical-align: top;\n",
       "    }\n",
       "\n",
       "    .dataframe thead th {\n",
       "        text-align: right;\n",
       "    }\n",
       "</style>\n",
       "<table border=\"1\" class=\"dataframe\">\n",
       "  <thead>\n",
       "    <tr style=\"text-align: right;\">\n",
       "      <th></th>\n",
       "      <th>date</th>\n",
       "      <th>time</th>\n",
       "      <th>temp</th>\n",
       "      <th>humid</th>\n",
       "      <th>windspeed</th>\n",
       "      <th>condition</th>\n",
       "    </tr>\n",
       "  </thead>\n",
       "  <tbody>\n",
       "    <tr>\n",
       "      <th>17142</th>\n",
       "      <td>2018/12/31</td>\n",
       "      <td>9:30 PM</td>\n",
       "      <td>48</td>\n",
       "      <td>82</td>\n",
       "      <td>15</td>\n",
       "      <td>Mostly Cloudy</td>\n",
       "    </tr>\n",
       "    <tr>\n",
       "      <th>17143</th>\n",
       "      <td>2018/12/31</td>\n",
       "      <td>10:00 PM</td>\n",
       "      <td>48</td>\n",
       "      <td>82</td>\n",
       "      <td>12</td>\n",
       "      <td>Mostly Cloudy</td>\n",
       "    </tr>\n",
       "    <tr>\n",
       "      <th>17144</th>\n",
       "      <td>2018/12/31</td>\n",
       "      <td>10:30 PM</td>\n",
       "      <td>50</td>\n",
       "      <td>76</td>\n",
       "      <td>13</td>\n",
       "      <td>Mostly Cloudy</td>\n",
       "    </tr>\n",
       "    <tr>\n",
       "      <th>17145</th>\n",
       "      <td>2018/12/31</td>\n",
       "      <td>11:00 PM</td>\n",
       "      <td>48</td>\n",
       "      <td>82</td>\n",
       "      <td>13</td>\n",
       "      <td>Mostly Cloudy</td>\n",
       "    </tr>\n",
       "    <tr>\n",
       "      <th>17146</th>\n",
       "      <td>2018/12/31</td>\n",
       "      <td>11:30 PM</td>\n",
       "      <td>48</td>\n",
       "      <td>82</td>\n",
       "      <td>13</td>\n",
       "      <td>Mostly Cloudy</td>\n",
       "    </tr>\n",
       "  </tbody>\n",
       "</table>\n",
       "</div>"
      ],
      "text/plain": [
       "             date      time  temp  humid  windspeed      condition\n",
       "17142  2018/12/31   9:30 PM    48     82         15  Mostly Cloudy\n",
       "17143  2018/12/31  10:00 PM    48     82         12  Mostly Cloudy\n",
       "17144  2018/12/31  10:30 PM    50     76         13  Mostly Cloudy\n",
       "17145  2018/12/31  11:00 PM    48     82         13  Mostly Cloudy\n",
       "17146  2018/12/31  11:30 PM    48     82         13  Mostly Cloudy"
      ]
     },
     "execution_count": 209,
     "metadata": {},
     "output_type": "execute_result"
    }
   ],
   "source": [
    "weather_DF.tail()"
   ]
  },
  {
   "cell_type": "markdown",
   "metadata": {},
   "source": [
    "## Convert column types"
   ]
  },
  {
   "cell_type": "code",
   "execution_count": 211,
   "metadata": {
    "ExecuteTime": {
     "end_time": "2020-07-04T09:40:58.749966Z",
     "start_time": "2020-07-04T09:40:58.744980Z"
    }
   },
   "outputs": [],
   "source": [
    "# convert to datetime\n",
    "def date_to_datetime(x):\n",
    "    \"\"\"convert seconds to timedelta\"\"\"\n",
    "    return datetime.datetime.strptime(x, \"%Y/%m/%d\")"
   ]
  },
  {
   "cell_type": "code",
   "execution_count": 212,
   "metadata": {
    "ExecuteTime": {
     "end_time": "2020-07-04T09:40:58.957115Z",
     "start_time": "2020-07-04T09:40:58.952127Z"
    }
   },
   "outputs": [],
   "source": [
    "# convert 24 hours formate\n",
    "def time12_to_time24(x):\n",
    "    \"\"\"convert seconds to timedelta\"\"\"\n",
    "    return datetime.datetime.strptime(x, \"%I:%M %p\").time()"
   ]
  },
  {
   "cell_type": "code",
   "execution_count": 213,
   "metadata": {
    "ExecuteTime": {
     "end_time": "2020-07-04T09:40:59.901152Z",
     "start_time": "2020-07-04T09:40:59.562041Z"
    }
   },
   "outputs": [],
   "source": [
    "weather_DF[\"date\"] = weather_DF[\"date\"].apply(date_to_datetime)\n",
    "weather_DF[\"time\"] = weather_DF[\"time\"].apply(time12_to_time24)"
   ]
  },
  {
   "cell_type": "code",
   "execution_count": 215,
   "metadata": {
    "ExecuteTime": {
     "end_time": "2020-07-04T09:41:05.641560Z",
     "start_time": "2020-07-04T09:41:05.633581Z"
    }
   },
   "outputs": [
    {
     "data": {
      "text/html": [
       "<div>\n",
       "<style scoped>\n",
       "    .dataframe tbody tr th:only-of-type {\n",
       "        vertical-align: middle;\n",
       "    }\n",
       "\n",
       "    .dataframe tbody tr th {\n",
       "        vertical-align: top;\n",
       "    }\n",
       "\n",
       "    .dataframe thead th {\n",
       "        text-align: right;\n",
       "    }\n",
       "</style>\n",
       "<table border=\"1\" class=\"dataframe\">\n",
       "  <thead>\n",
       "    <tr style=\"text-align: right;\">\n",
       "      <th></th>\n",
       "      <th>date</th>\n",
       "      <th>time</th>\n",
       "      <th>temp</th>\n",
       "      <th>humid</th>\n",
       "      <th>windspeed</th>\n",
       "      <th>condition</th>\n",
       "    </tr>\n",
       "  </thead>\n",
       "  <tbody>\n",
       "    <tr>\n",
       "      <th>0</th>\n",
       "      <td>2018-01-01</td>\n",
       "      <td>00:00:00</td>\n",
       "      <td>39</td>\n",
       "      <td>75</td>\n",
       "      <td>16</td>\n",
       "      <td>Partly Cloudy</td>\n",
       "    </tr>\n",
       "    <tr>\n",
       "      <th>1</th>\n",
       "      <td>2018-01-01</td>\n",
       "      <td>00:30:00</td>\n",
       "      <td>37</td>\n",
       "      <td>81</td>\n",
       "      <td>14</td>\n",
       "      <td>Partly Cloudy</td>\n",
       "    </tr>\n",
       "    <tr>\n",
       "      <th>2</th>\n",
       "      <td>2018-01-01</td>\n",
       "      <td>01:00:00</td>\n",
       "      <td>39</td>\n",
       "      <td>87</td>\n",
       "      <td>29</td>\n",
       "      <td>Light Rain Shower / Windy</td>\n",
       "    </tr>\n",
       "    <tr>\n",
       "      <th>3</th>\n",
       "      <td>2018-01-01</td>\n",
       "      <td>01:30:00</td>\n",
       "      <td>41</td>\n",
       "      <td>81</td>\n",
       "      <td>31</td>\n",
       "      <td>Mostly Cloudy / Windy</td>\n",
       "    </tr>\n",
       "    <tr>\n",
       "      <th>4</th>\n",
       "      <td>2018-01-01</td>\n",
       "      <td>02:00:00</td>\n",
       "      <td>39</td>\n",
       "      <td>87</td>\n",
       "      <td>26</td>\n",
       "      <td>Light Rain Shower / Windy</td>\n",
       "    </tr>\n",
       "  </tbody>\n",
       "</table>\n",
       "</div>"
      ],
      "text/plain": [
       "        date      time  temp  humid  windspeed                  condition\n",
       "0 2018-01-01  00:00:00    39     75         16              Partly Cloudy\n",
       "1 2018-01-01  00:30:00    37     81         14              Partly Cloudy\n",
       "2 2018-01-01  01:00:00    39     87         29  Light Rain Shower / Windy\n",
       "3 2018-01-01  01:30:00    41     81         31      Mostly Cloudy / Windy\n",
       "4 2018-01-01  02:00:00    39     87         26  Light Rain Shower / Windy"
      ]
     },
     "execution_count": 215,
     "metadata": {},
     "output_type": "execute_result"
    }
   ],
   "source": [
    "weather_DF.head()"
   ]
  },
  {
   "cell_type": "code",
   "execution_count": 202,
   "metadata": {
    "ExecuteTime": {
     "end_time": "2020-07-04T09:39:57.231559Z",
     "start_time": "2020-07-04T09:39:57.226572Z"
    }
   },
   "outputs": [
    {
     "data": {
      "text/plain": [
       "date         datetime64[ns]\n",
       "time                 object\n",
       "temp                  int64\n",
       "humid                 int64\n",
       "windspeed             int64\n",
       "condition            object\n",
       "dtype: object"
      ]
     },
     "execution_count": 202,
     "metadata": {},
     "output_type": "execute_result"
    }
   ],
   "source": [
    "weather_DF.dtypes"
   ]
  },
  {
   "cell_type": "markdown",
   "metadata": {},
   "source": [
    "# Select whole year data of line:17 direction:1"
   ]
  },
  {
   "cell_type": "code",
   "execution_count": 13,
   "metadata": {
    "ExecuteTime": {
     "end_time": "2020-07-04T07:17:47.073612Z",
     "start_time": "2020-07-04T07:12:44.045078Z"
    },
    "pycharm": {
     "name": "#%%\n"
    }
   },
   "outputs": [
    {
     "data": {
      "text/html": [
       "<div>\n",
       "<style scoped>\n",
       "    .dataframe tbody tr th:only-of-type {\n",
       "        vertical-align: middle;\n",
       "    }\n",
       "\n",
       "    .dataframe tbody tr th {\n",
       "        vertical-align: top;\n",
       "    }\n",
       "\n",
       "    .dataframe thead th {\n",
       "        text-align: right;\n",
       "    }\n",
       "</style>\n",
       "<table border=\"1\" class=\"dataframe\">\n",
       "  <thead>\n",
       "    <tr style=\"text-align: right;\">\n",
       "      <th></th>\n",
       "      <th>DATASOURCE</th>\n",
       "      <th>DAYOFSERVICE</th>\n",
       "      <th>TRIPID</th>\n",
       "      <th>PROGRNUMBER</th>\n",
       "      <th>STOPPOINTID</th>\n",
       "      <th>PLANNEDTIME_ARR</th>\n",
       "      <th>PLANNEDTIME_DEP</th>\n",
       "      <th>ACTUALTIME_ARR</th>\n",
       "      <th>ACTUALTIME_DEP</th>\n",
       "      <th>VEHICLEID</th>\n",
       "      <th>PASSENGERS</th>\n",
       "      <th>PASSENGERSIN</th>\n",
       "      <th>PASSENGERSOUT</th>\n",
       "      <th>DISTANCE</th>\n",
       "      <th>SUPPRESSED</th>\n",
       "      <th>JUSTIFICATIONID</th>\n",
       "      <th>LASTUPDATE</th>\n",
       "      <th>NOTE</th>\n",
       "    </tr>\n",
       "  </thead>\n",
       "  <tbody>\n",
       "    <tr>\n",
       "      <th>0</th>\n",
       "      <td>DB</td>\n",
       "      <td>2018-01-01</td>\n",
       "      <td>5968763</td>\n",
       "      <td>1</td>\n",
       "      <td>1380</td>\n",
       "      <td>50700</td>\n",
       "      <td>50700</td>\n",
       "      <td>50714</td>\n",
       "      <td>50714</td>\n",
       "      <td>2406881</td>\n",
       "      <td>0</td>\n",
       "      <td>0</td>\n",
       "      <td>0</td>\n",
       "      <td>0</td>\n",
       "      <td>0</td>\n",
       "      <td>0</td>\n",
       "      <td>2018-01-08 17:21:10</td>\n",
       "      <td></td>\n",
       "    </tr>\n",
       "    <tr>\n",
       "      <th>1</th>\n",
       "      <td>DB</td>\n",
       "      <td>2018-01-01</td>\n",
       "      <td>5968763</td>\n",
       "      <td>2</td>\n",
       "      <td>1381</td>\n",
       "      <td>50726</td>\n",
       "      <td>50726</td>\n",
       "      <td>50731</td>\n",
       "      <td>50731</td>\n",
       "      <td>2406881</td>\n",
       "      <td>0</td>\n",
       "      <td>0</td>\n",
       "      <td>0</td>\n",
       "      <td>0</td>\n",
       "      <td>0</td>\n",
       "      <td>0</td>\n",
       "      <td>2018-01-08 17:21:10</td>\n",
       "      <td></td>\n",
       "    </tr>\n",
       "    <tr>\n",
       "      <th>2</th>\n",
       "      <td>DB</td>\n",
       "      <td>2018-01-01</td>\n",
       "      <td>5968763</td>\n",
       "      <td>3</td>\n",
       "      <td>1406</td>\n",
       "      <td>50773</td>\n",
       "      <td>50773</td>\n",
       "      <td>50787</td>\n",
       "      <td>50817</td>\n",
       "      <td>2406881</td>\n",
       "      <td>0</td>\n",
       "      <td>0</td>\n",
       "      <td>0</td>\n",
       "      <td>0</td>\n",
       "      <td>0</td>\n",
       "      <td>0</td>\n",
       "      <td>2018-01-08 17:21:10</td>\n",
       "      <td></td>\n",
       "    </tr>\n",
       "    <tr>\n",
       "      <th>3</th>\n",
       "      <td>DB</td>\n",
       "      <td>2018-01-01</td>\n",
       "      <td>5968763</td>\n",
       "      <td>4</td>\n",
       "      <td>1407</td>\n",
       "      <td>50816</td>\n",
       "      <td>50816</td>\n",
       "      <td>50871</td>\n",
       "      <td>50871</td>\n",
       "      <td>2406881</td>\n",
       "      <td>0</td>\n",
       "      <td>0</td>\n",
       "      <td>0</td>\n",
       "      <td>0</td>\n",
       "      <td>0</td>\n",
       "      <td>0</td>\n",
       "      <td>2018-01-08 17:21:10</td>\n",
       "      <td></td>\n",
       "    </tr>\n",
       "    <tr>\n",
       "      <th>4</th>\n",
       "      <td>DB</td>\n",
       "      <td>2018-01-01</td>\n",
       "      <td>5968763</td>\n",
       "      <td>5</td>\n",
       "      <td>1409</td>\n",
       "      <td>50855</td>\n",
       "      <td>50855</td>\n",
       "      <td>50893</td>\n",
       "      <td>50893</td>\n",
       "      <td>2406881</td>\n",
       "      <td>0</td>\n",
       "      <td>0</td>\n",
       "      <td>0</td>\n",
       "      <td>0</td>\n",
       "      <td>0</td>\n",
       "      <td>0</td>\n",
       "      <td>2018-01-08 17:21:10</td>\n",
       "      <td></td>\n",
       "    </tr>\n",
       "    <tr>\n",
       "      <th>...</th>\n",
       "      <td>...</td>\n",
       "      <td>...</td>\n",
       "      <td>...</td>\n",
       "      <td>...</td>\n",
       "      <td>...</td>\n",
       "      <td>...</td>\n",
       "      <td>...</td>\n",
       "      <td>...</td>\n",
       "      <td>...</td>\n",
       "      <td>...</td>\n",
       "      <td>...</td>\n",
       "      <td>...</td>\n",
       "      <td>...</td>\n",
       "      <td>...</td>\n",
       "      <td>...</td>\n",
       "      <td>...</td>\n",
       "      <td>...</td>\n",
       "      <td>...</td>\n",
       "    </tr>\n",
       "    <tr>\n",
       "      <th>582002</th>\n",
       "      <td>DB</td>\n",
       "      <td>2018-12-31</td>\n",
       "      <td>8591872</td>\n",
       "      <td>65</td>\n",
       "      <td>467</td>\n",
       "      <td>65061</td>\n",
       "      <td>65061</td>\n",
       "      <td>65397</td>\n",
       "      <td>65397</td>\n",
       "      <td>2534852</td>\n",
       "      <td>0</td>\n",
       "      <td>0</td>\n",
       "      <td>0</td>\n",
       "      <td>0</td>\n",
       "      <td>0</td>\n",
       "      <td>0</td>\n",
       "      <td>2019-01-16 18:27:21</td>\n",
       "      <td></td>\n",
       "    </tr>\n",
       "    <tr>\n",
       "      <th>582003</th>\n",
       "      <td>DB</td>\n",
       "      <td>2018-12-31</td>\n",
       "      <td>8591872</td>\n",
       "      <td>66</td>\n",
       "      <td>468</td>\n",
       "      <td>65096</td>\n",
       "      <td>65096</td>\n",
       "      <td>65414</td>\n",
       "      <td>65414</td>\n",
       "      <td>2534852</td>\n",
       "      <td>0</td>\n",
       "      <td>0</td>\n",
       "      <td>0</td>\n",
       "      <td>0</td>\n",
       "      <td>0</td>\n",
       "      <td>0</td>\n",
       "      <td>2019-01-16 18:27:21</td>\n",
       "      <td></td>\n",
       "    </tr>\n",
       "    <tr>\n",
       "      <th>582004</th>\n",
       "      <td>DB</td>\n",
       "      <td>2018-12-31</td>\n",
       "      <td>8591872</td>\n",
       "      <td>67</td>\n",
       "      <td>3032</td>\n",
       "      <td>65134</td>\n",
       "      <td>65134</td>\n",
       "      <td>65521</td>\n",
       "      <td>65536</td>\n",
       "      <td>2534852</td>\n",
       "      <td>0</td>\n",
       "      <td>0</td>\n",
       "      <td>0</td>\n",
       "      <td>0</td>\n",
       "      <td>0</td>\n",
       "      <td>0</td>\n",
       "      <td>2019-01-16 18:27:21</td>\n",
       "      <td></td>\n",
       "    </tr>\n",
       "    <tr>\n",
       "      <th>582005</th>\n",
       "      <td>DB</td>\n",
       "      <td>2018-12-31</td>\n",
       "      <td>8591872</td>\n",
       "      <td>68</td>\n",
       "      <td>3033</td>\n",
       "      <td>65180</td>\n",
       "      <td>65180</td>\n",
       "      <td>65600</td>\n",
       "      <td>65600</td>\n",
       "      <td>2534852</td>\n",
       "      <td>0</td>\n",
       "      <td>0</td>\n",
       "      <td>0</td>\n",
       "      <td>0</td>\n",
       "      <td>0</td>\n",
       "      <td>0</td>\n",
       "      <td>2019-01-16 18:27:21</td>\n",
       "      <td></td>\n",
       "    </tr>\n",
       "    <tr>\n",
       "      <th>582006</th>\n",
       "      <td>DB</td>\n",
       "      <td>2018-12-31</td>\n",
       "      <td>8591872</td>\n",
       "      <td>69</td>\n",
       "      <td>3085</td>\n",
       "      <td>65227</td>\n",
       "      <td>65227</td>\n",
       "      <td>65623</td>\n",
       "      <td>65623</td>\n",
       "      <td>2534852</td>\n",
       "      <td>0</td>\n",
       "      <td>0</td>\n",
       "      <td>0</td>\n",
       "      <td>0</td>\n",
       "      <td>0</td>\n",
       "      <td>0</td>\n",
       "      <td>2019-01-16 18:27:21</td>\n",
       "      <td></td>\n",
       "    </tr>\n",
       "  </tbody>\n",
       "</table>\n",
       "<p>582007 rows × 18 columns</p>\n",
       "</div>"
      ],
      "text/plain": [
       "       DATASOURCE DAYOFSERVICE   TRIPID  PROGRNUMBER STOPPOINTID  \\\n",
       "0              DB   2018-01-01  5968763            1        1380   \n",
       "1              DB   2018-01-01  5968763            2        1381   \n",
       "2              DB   2018-01-01  5968763            3        1406   \n",
       "3              DB   2018-01-01  5968763            4        1407   \n",
       "4              DB   2018-01-01  5968763            5        1409   \n",
       "...           ...          ...      ...          ...         ...   \n",
       "582002         DB   2018-12-31  8591872           65         467   \n",
       "582003         DB   2018-12-31  8591872           66         468   \n",
       "582004         DB   2018-12-31  8591872           67        3032   \n",
       "582005         DB   2018-12-31  8591872           68        3033   \n",
       "582006         DB   2018-12-31  8591872           69        3085   \n",
       "\n",
       "        PLANNEDTIME_ARR  PLANNEDTIME_DEP  ACTUALTIME_ARR  ACTUALTIME_DEP  \\\n",
       "0                 50700            50700           50714           50714   \n",
       "1                 50726            50726           50731           50731   \n",
       "2                 50773            50773           50787           50817   \n",
       "3                 50816            50816           50871           50871   \n",
       "4                 50855            50855           50893           50893   \n",
       "...                 ...              ...             ...             ...   \n",
       "582002            65061            65061           65397           65397   \n",
       "582003            65096            65096           65414           65414   \n",
       "582004            65134            65134           65521           65536   \n",
       "582005            65180            65180           65600           65600   \n",
       "582006            65227            65227           65623           65623   \n",
       "\n",
       "       VEHICLEID  PASSENGERS  PASSENGERSIN  PASSENGERSOUT  DISTANCE  \\\n",
       "0        2406881           0             0              0         0   \n",
       "1        2406881           0             0              0         0   \n",
       "2        2406881           0             0              0         0   \n",
       "3        2406881           0             0              0         0   \n",
       "4        2406881           0             0              0         0   \n",
       "...          ...         ...           ...            ...       ...   \n",
       "582002   2534852           0             0              0         0   \n",
       "582003   2534852           0             0              0         0   \n",
       "582004   2534852           0             0              0         0   \n",
       "582005   2534852           0             0              0         0   \n",
       "582006   2534852           0             0              0         0   \n",
       "\n",
       "        SUPPRESSED  JUSTIFICATIONID          LASTUPDATE NOTE  \n",
       "0                0                0 2018-01-08 17:21:10       \n",
       "1                0                0 2018-01-08 17:21:10       \n",
       "2                0                0 2018-01-08 17:21:10       \n",
       "3                0                0 2018-01-08 17:21:10       \n",
       "4                0                0 2018-01-08 17:21:10       \n",
       "...            ...              ...                 ...  ...  \n",
       "582002           0                0 2019-01-16 18:27:21       \n",
       "582003           0                0 2019-01-16 18:27:21       \n",
       "582004           0                0 2019-01-16 18:27:21       \n",
       "582005           0                0 2019-01-16 18:27:21       \n",
       "582006           0                0 2019-01-16 18:27:21       \n",
       "\n",
       "[582007 rows x 18 columns]"
      ]
     },
     "execution_count": 13,
     "metadata": {},
     "output_type": "execute_result"
    }
   ],
   "source": [
    "query = \"\"\"\n",
    "SELECT * FROM busduck.rt_leavetimes_db where TRIPID in \n",
    "(SELECT TRIPID FROM busduck.rt_trips_db where LINEID=\"17\" and DIRECTION = 1);\n",
    "\"\"\"\n",
    "DF = GetData(cur, query)"
   ]
  },
  {
   "cell_type": "code",
   "execution_count": 15,
   "metadata": {
    "ExecuteTime": {
     "end_time": "2020-07-04T07:20:50.077528Z",
     "start_time": "2020-07-04T07:20:50.062529Z"
    }
   },
   "outputs": [
    {
     "data": {
      "text/html": [
       "<div>\n",
       "<style scoped>\n",
       "    .dataframe tbody tr th:only-of-type {\n",
       "        vertical-align: middle;\n",
       "    }\n",
       "\n",
       "    .dataframe tbody tr th {\n",
       "        vertical-align: top;\n",
       "    }\n",
       "\n",
       "    .dataframe thead th {\n",
       "        text-align: right;\n",
       "    }\n",
       "</style>\n",
       "<table border=\"1\" class=\"dataframe\">\n",
       "  <thead>\n",
       "    <tr style=\"text-align: right;\">\n",
       "      <th></th>\n",
       "      <th>DATASOURCE</th>\n",
       "      <th>DAYOFSERVICE</th>\n",
       "      <th>TRIPID</th>\n",
       "      <th>PROGRNUMBER</th>\n",
       "      <th>STOPPOINTID</th>\n",
       "      <th>PLANNEDTIME_ARR</th>\n",
       "      <th>PLANNEDTIME_DEP</th>\n",
       "      <th>ACTUALTIME_ARR</th>\n",
       "      <th>ACTUALTIME_DEP</th>\n",
       "      <th>VEHICLEID</th>\n",
       "      <th>PASSENGERS</th>\n",
       "      <th>PASSENGERSIN</th>\n",
       "      <th>PASSENGERSOUT</th>\n",
       "      <th>DISTANCE</th>\n",
       "      <th>SUPPRESSED</th>\n",
       "      <th>JUSTIFICATIONID</th>\n",
       "      <th>LASTUPDATE</th>\n",
       "      <th>NOTE</th>\n",
       "    </tr>\n",
       "  </thead>\n",
       "  <tbody>\n",
       "    <tr>\n",
       "      <th>0</th>\n",
       "      <td>DB</td>\n",
       "      <td>2018-01-01</td>\n",
       "      <td>5968763</td>\n",
       "      <td>1</td>\n",
       "      <td>1380</td>\n",
       "      <td>50700</td>\n",
       "      <td>50700</td>\n",
       "      <td>50714</td>\n",
       "      <td>50714</td>\n",
       "      <td>2406881</td>\n",
       "      <td>0</td>\n",
       "      <td>0</td>\n",
       "      <td>0</td>\n",
       "      <td>0</td>\n",
       "      <td>0</td>\n",
       "      <td>0</td>\n",
       "      <td>2018-01-08 17:21:10</td>\n",
       "      <td></td>\n",
       "    </tr>\n",
       "    <tr>\n",
       "      <th>1</th>\n",
       "      <td>DB</td>\n",
       "      <td>2018-01-01</td>\n",
       "      <td>5968763</td>\n",
       "      <td>2</td>\n",
       "      <td>1381</td>\n",
       "      <td>50726</td>\n",
       "      <td>50726</td>\n",
       "      <td>50731</td>\n",
       "      <td>50731</td>\n",
       "      <td>2406881</td>\n",
       "      <td>0</td>\n",
       "      <td>0</td>\n",
       "      <td>0</td>\n",
       "      <td>0</td>\n",
       "      <td>0</td>\n",
       "      <td>0</td>\n",
       "      <td>2018-01-08 17:21:10</td>\n",
       "      <td></td>\n",
       "    </tr>\n",
       "    <tr>\n",
       "      <th>2</th>\n",
       "      <td>DB</td>\n",
       "      <td>2018-01-01</td>\n",
       "      <td>5968763</td>\n",
       "      <td>3</td>\n",
       "      <td>1406</td>\n",
       "      <td>50773</td>\n",
       "      <td>50773</td>\n",
       "      <td>50787</td>\n",
       "      <td>50817</td>\n",
       "      <td>2406881</td>\n",
       "      <td>0</td>\n",
       "      <td>0</td>\n",
       "      <td>0</td>\n",
       "      <td>0</td>\n",
       "      <td>0</td>\n",
       "      <td>0</td>\n",
       "      <td>2018-01-08 17:21:10</td>\n",
       "      <td></td>\n",
       "    </tr>\n",
       "    <tr>\n",
       "      <th>3</th>\n",
       "      <td>DB</td>\n",
       "      <td>2018-01-01</td>\n",
       "      <td>5968763</td>\n",
       "      <td>4</td>\n",
       "      <td>1407</td>\n",
       "      <td>50816</td>\n",
       "      <td>50816</td>\n",
       "      <td>50871</td>\n",
       "      <td>50871</td>\n",
       "      <td>2406881</td>\n",
       "      <td>0</td>\n",
       "      <td>0</td>\n",
       "      <td>0</td>\n",
       "      <td>0</td>\n",
       "      <td>0</td>\n",
       "      <td>0</td>\n",
       "      <td>2018-01-08 17:21:10</td>\n",
       "      <td></td>\n",
       "    </tr>\n",
       "    <tr>\n",
       "      <th>4</th>\n",
       "      <td>DB</td>\n",
       "      <td>2018-01-01</td>\n",
       "      <td>5968763</td>\n",
       "      <td>5</td>\n",
       "      <td>1409</td>\n",
       "      <td>50855</td>\n",
       "      <td>50855</td>\n",
       "      <td>50893</td>\n",
       "      <td>50893</td>\n",
       "      <td>2406881</td>\n",
       "      <td>0</td>\n",
       "      <td>0</td>\n",
       "      <td>0</td>\n",
       "      <td>0</td>\n",
       "      <td>0</td>\n",
       "      <td>0</td>\n",
       "      <td>2018-01-08 17:21:10</td>\n",
       "      <td></td>\n",
       "    </tr>\n",
       "  </tbody>\n",
       "</table>\n",
       "</div>"
      ],
      "text/plain": [
       "  DATASOURCE DAYOFSERVICE   TRIPID  PROGRNUMBER STOPPOINTID  PLANNEDTIME_ARR  \\\n",
       "0         DB   2018-01-01  5968763            1        1380            50700   \n",
       "1         DB   2018-01-01  5968763            2        1381            50726   \n",
       "2         DB   2018-01-01  5968763            3        1406            50773   \n",
       "3         DB   2018-01-01  5968763            4        1407            50816   \n",
       "4         DB   2018-01-01  5968763            5        1409            50855   \n",
       "\n",
       "   PLANNEDTIME_DEP  ACTUALTIME_ARR  ACTUALTIME_DEP VEHICLEID  PASSENGERS  \\\n",
       "0            50700           50714           50714   2406881           0   \n",
       "1            50726           50731           50731   2406881           0   \n",
       "2            50773           50787           50817   2406881           0   \n",
       "3            50816           50871           50871   2406881           0   \n",
       "4            50855           50893           50893   2406881           0   \n",
       "\n",
       "   PASSENGERSIN  PASSENGERSOUT  DISTANCE  SUPPRESSED  JUSTIFICATIONID  \\\n",
       "0             0              0         0           0                0   \n",
       "1             0              0         0           0                0   \n",
       "2             0              0         0           0                0   \n",
       "3             0              0         0           0                0   \n",
       "4             0              0         0           0                0   \n",
       "\n",
       "           LASTUPDATE NOTE  \n",
       "0 2018-01-08 17:21:10       \n",
       "1 2018-01-08 17:21:10       \n",
       "2 2018-01-08 17:21:10       \n",
       "3 2018-01-08 17:21:10       \n",
       "4 2018-01-08 17:21:10       "
      ]
     },
     "execution_count": 15,
     "metadata": {},
     "output_type": "execute_result"
    }
   ],
   "source": [
    "DF.head(5)"
   ]
  },
  {
   "cell_type": "code",
   "execution_count": 14,
   "metadata": {
    "ExecuteTime": {
     "end_time": "2020-07-04T07:20:41.682721Z",
     "start_time": "2020-07-04T07:20:41.667761Z"
    }
   },
   "outputs": [
    {
     "data": {
      "text/html": [
       "<div>\n",
       "<style scoped>\n",
       "    .dataframe tbody tr th:only-of-type {\n",
       "        vertical-align: middle;\n",
       "    }\n",
       "\n",
       "    .dataframe tbody tr th {\n",
       "        vertical-align: top;\n",
       "    }\n",
       "\n",
       "    .dataframe thead th {\n",
       "        text-align: right;\n",
       "    }\n",
       "</style>\n",
       "<table border=\"1\" class=\"dataframe\">\n",
       "  <thead>\n",
       "    <tr style=\"text-align: right;\">\n",
       "      <th></th>\n",
       "      <th>DATASOURCE</th>\n",
       "      <th>DAYOFSERVICE</th>\n",
       "      <th>TRIPID</th>\n",
       "      <th>PROGRNUMBER</th>\n",
       "      <th>STOPPOINTID</th>\n",
       "      <th>PLANNEDTIME_ARR</th>\n",
       "      <th>PLANNEDTIME_DEP</th>\n",
       "      <th>ACTUALTIME_ARR</th>\n",
       "      <th>ACTUALTIME_DEP</th>\n",
       "      <th>VEHICLEID</th>\n",
       "      <th>PASSENGERS</th>\n",
       "      <th>PASSENGERSIN</th>\n",
       "      <th>PASSENGERSOUT</th>\n",
       "      <th>DISTANCE</th>\n",
       "      <th>SUPPRESSED</th>\n",
       "      <th>JUSTIFICATIONID</th>\n",
       "      <th>LASTUPDATE</th>\n",
       "      <th>NOTE</th>\n",
       "    </tr>\n",
       "  </thead>\n",
       "  <tbody>\n",
       "    <tr>\n",
       "      <th>582002</th>\n",
       "      <td>DB</td>\n",
       "      <td>2018-12-31</td>\n",
       "      <td>8591872</td>\n",
       "      <td>65</td>\n",
       "      <td>467</td>\n",
       "      <td>65061</td>\n",
       "      <td>65061</td>\n",
       "      <td>65397</td>\n",
       "      <td>65397</td>\n",
       "      <td>2534852</td>\n",
       "      <td>0</td>\n",
       "      <td>0</td>\n",
       "      <td>0</td>\n",
       "      <td>0</td>\n",
       "      <td>0</td>\n",
       "      <td>0</td>\n",
       "      <td>2019-01-16 18:27:21</td>\n",
       "      <td></td>\n",
       "    </tr>\n",
       "    <tr>\n",
       "      <th>582003</th>\n",
       "      <td>DB</td>\n",
       "      <td>2018-12-31</td>\n",
       "      <td>8591872</td>\n",
       "      <td>66</td>\n",
       "      <td>468</td>\n",
       "      <td>65096</td>\n",
       "      <td>65096</td>\n",
       "      <td>65414</td>\n",
       "      <td>65414</td>\n",
       "      <td>2534852</td>\n",
       "      <td>0</td>\n",
       "      <td>0</td>\n",
       "      <td>0</td>\n",
       "      <td>0</td>\n",
       "      <td>0</td>\n",
       "      <td>0</td>\n",
       "      <td>2019-01-16 18:27:21</td>\n",
       "      <td></td>\n",
       "    </tr>\n",
       "    <tr>\n",
       "      <th>582004</th>\n",
       "      <td>DB</td>\n",
       "      <td>2018-12-31</td>\n",
       "      <td>8591872</td>\n",
       "      <td>67</td>\n",
       "      <td>3032</td>\n",
       "      <td>65134</td>\n",
       "      <td>65134</td>\n",
       "      <td>65521</td>\n",
       "      <td>65536</td>\n",
       "      <td>2534852</td>\n",
       "      <td>0</td>\n",
       "      <td>0</td>\n",
       "      <td>0</td>\n",
       "      <td>0</td>\n",
       "      <td>0</td>\n",
       "      <td>0</td>\n",
       "      <td>2019-01-16 18:27:21</td>\n",
       "      <td></td>\n",
       "    </tr>\n",
       "    <tr>\n",
       "      <th>582005</th>\n",
       "      <td>DB</td>\n",
       "      <td>2018-12-31</td>\n",
       "      <td>8591872</td>\n",
       "      <td>68</td>\n",
       "      <td>3033</td>\n",
       "      <td>65180</td>\n",
       "      <td>65180</td>\n",
       "      <td>65600</td>\n",
       "      <td>65600</td>\n",
       "      <td>2534852</td>\n",
       "      <td>0</td>\n",
       "      <td>0</td>\n",
       "      <td>0</td>\n",
       "      <td>0</td>\n",
       "      <td>0</td>\n",
       "      <td>0</td>\n",
       "      <td>2019-01-16 18:27:21</td>\n",
       "      <td></td>\n",
       "    </tr>\n",
       "    <tr>\n",
       "      <th>582006</th>\n",
       "      <td>DB</td>\n",
       "      <td>2018-12-31</td>\n",
       "      <td>8591872</td>\n",
       "      <td>69</td>\n",
       "      <td>3085</td>\n",
       "      <td>65227</td>\n",
       "      <td>65227</td>\n",
       "      <td>65623</td>\n",
       "      <td>65623</td>\n",
       "      <td>2534852</td>\n",
       "      <td>0</td>\n",
       "      <td>0</td>\n",
       "      <td>0</td>\n",
       "      <td>0</td>\n",
       "      <td>0</td>\n",
       "      <td>0</td>\n",
       "      <td>2019-01-16 18:27:21</td>\n",
       "      <td></td>\n",
       "    </tr>\n",
       "  </tbody>\n",
       "</table>\n",
       "</div>"
      ],
      "text/plain": [
       "       DATASOURCE DAYOFSERVICE   TRIPID  PROGRNUMBER STOPPOINTID  \\\n",
       "582002         DB   2018-12-31  8591872           65         467   \n",
       "582003         DB   2018-12-31  8591872           66         468   \n",
       "582004         DB   2018-12-31  8591872           67        3032   \n",
       "582005         DB   2018-12-31  8591872           68        3033   \n",
       "582006         DB   2018-12-31  8591872           69        3085   \n",
       "\n",
       "        PLANNEDTIME_ARR  PLANNEDTIME_DEP  ACTUALTIME_ARR  ACTUALTIME_DEP  \\\n",
       "582002            65061            65061           65397           65397   \n",
       "582003            65096            65096           65414           65414   \n",
       "582004            65134            65134           65521           65536   \n",
       "582005            65180            65180           65600           65600   \n",
       "582006            65227            65227           65623           65623   \n",
       "\n",
       "       VEHICLEID  PASSENGERS  PASSENGERSIN  PASSENGERSOUT  DISTANCE  \\\n",
       "582002   2534852           0             0              0         0   \n",
       "582003   2534852           0             0              0         0   \n",
       "582004   2534852           0             0              0         0   \n",
       "582005   2534852           0             0              0         0   \n",
       "582006   2534852           0             0              0         0   \n",
       "\n",
       "        SUPPRESSED  JUSTIFICATIONID          LASTUPDATE NOTE  \n",
       "582002           0                0 2019-01-16 18:27:21       \n",
       "582003           0                0 2019-01-16 18:27:21       \n",
       "582004           0                0 2019-01-16 18:27:21       \n",
       "582005           0                0 2019-01-16 18:27:21       \n",
       "582006           0                0 2019-01-16 18:27:21       "
      ]
     },
     "execution_count": 14,
     "metadata": {},
     "output_type": "execute_result"
    }
   ],
   "source": [
    "DF.tail(5)"
   ]
  },
  {
   "cell_type": "markdown",
   "metadata": {},
   "source": [
    "# Drop useless columns and duplicate rows and check null"
   ]
  },
  {
   "cell_type": "code",
   "execution_count": 46,
   "metadata": {
    "ExecuteTime": {
     "end_time": "2020-07-04T08:00:14.868074Z",
     "start_time": "2020-07-04T08:00:14.828181Z"
    }
   },
   "outputs": [],
   "source": [
    "unused_cols = [\"DATASOURCE\", \"VEHICLEID\", \"PASSENGERS\", \"PASSENGERSIN\", \"PASSENGERSOUT\",\n",
    "              \"DISTANCE\", \"SUPPRESSED\", \"JUSTIFICATIONID\",\"LASTUPDATE\",\"NOTE\", \"PLANNEDTIME_ARR\", \"PLANNEDTIME_DEP\"]\n",
    "DF_droped = DF.drop(unused_cols, axis=1)"
   ]
  },
  {
   "cell_type": "code",
   "execution_count": 47,
   "metadata": {
    "ExecuteTime": {
     "end_time": "2020-07-04T08:00:15.769698Z",
     "start_time": "2020-07-04T08:00:15.757729Z"
    }
   },
   "outputs": [
    {
     "data": {
      "text/html": [
       "<div>\n",
       "<style scoped>\n",
       "    .dataframe tbody tr th:only-of-type {\n",
       "        vertical-align: middle;\n",
       "    }\n",
       "\n",
       "    .dataframe tbody tr th {\n",
       "        vertical-align: top;\n",
       "    }\n",
       "\n",
       "    .dataframe thead th {\n",
       "        text-align: right;\n",
       "    }\n",
       "</style>\n",
       "<table border=\"1\" class=\"dataframe\">\n",
       "  <thead>\n",
       "    <tr style=\"text-align: right;\">\n",
       "      <th></th>\n",
       "      <th>DAYOFSERVICE</th>\n",
       "      <th>TRIPID</th>\n",
       "      <th>PROGRNUMBER</th>\n",
       "      <th>STOPPOINTID</th>\n",
       "      <th>ACTUALTIME_ARR</th>\n",
       "      <th>ACTUALTIME_DEP</th>\n",
       "    </tr>\n",
       "  </thead>\n",
       "  <tbody>\n",
       "    <tr>\n",
       "      <th>0</th>\n",
       "      <td>2018-01-01</td>\n",
       "      <td>5968763</td>\n",
       "      <td>1</td>\n",
       "      <td>1380</td>\n",
       "      <td>50714</td>\n",
       "      <td>50714</td>\n",
       "    </tr>\n",
       "    <tr>\n",
       "      <th>1</th>\n",
       "      <td>2018-01-01</td>\n",
       "      <td>5968763</td>\n",
       "      <td>2</td>\n",
       "      <td>1381</td>\n",
       "      <td>50731</td>\n",
       "      <td>50731</td>\n",
       "    </tr>\n",
       "    <tr>\n",
       "      <th>2</th>\n",
       "      <td>2018-01-01</td>\n",
       "      <td>5968763</td>\n",
       "      <td>3</td>\n",
       "      <td>1406</td>\n",
       "      <td>50787</td>\n",
       "      <td>50817</td>\n",
       "    </tr>\n",
       "    <tr>\n",
       "      <th>3</th>\n",
       "      <td>2018-01-01</td>\n",
       "      <td>5968763</td>\n",
       "      <td>4</td>\n",
       "      <td>1407</td>\n",
       "      <td>50871</td>\n",
       "      <td>50871</td>\n",
       "    </tr>\n",
       "    <tr>\n",
       "      <th>4</th>\n",
       "      <td>2018-01-01</td>\n",
       "      <td>5968763</td>\n",
       "      <td>5</td>\n",
       "      <td>1409</td>\n",
       "      <td>50893</td>\n",
       "      <td>50893</td>\n",
       "    </tr>\n",
       "    <tr>\n",
       "      <th>...</th>\n",
       "      <td>...</td>\n",
       "      <td>...</td>\n",
       "      <td>...</td>\n",
       "      <td>...</td>\n",
       "      <td>...</td>\n",
       "      <td>...</td>\n",
       "    </tr>\n",
       "    <tr>\n",
       "      <th>582002</th>\n",
       "      <td>2018-12-31</td>\n",
       "      <td>8591872</td>\n",
       "      <td>65</td>\n",
       "      <td>467</td>\n",
       "      <td>65397</td>\n",
       "      <td>65397</td>\n",
       "    </tr>\n",
       "    <tr>\n",
       "      <th>582003</th>\n",
       "      <td>2018-12-31</td>\n",
       "      <td>8591872</td>\n",
       "      <td>66</td>\n",
       "      <td>468</td>\n",
       "      <td>65414</td>\n",
       "      <td>65414</td>\n",
       "    </tr>\n",
       "    <tr>\n",
       "      <th>582004</th>\n",
       "      <td>2018-12-31</td>\n",
       "      <td>8591872</td>\n",
       "      <td>67</td>\n",
       "      <td>3032</td>\n",
       "      <td>65521</td>\n",
       "      <td>65536</td>\n",
       "    </tr>\n",
       "    <tr>\n",
       "      <th>582005</th>\n",
       "      <td>2018-12-31</td>\n",
       "      <td>8591872</td>\n",
       "      <td>68</td>\n",
       "      <td>3033</td>\n",
       "      <td>65600</td>\n",
       "      <td>65600</td>\n",
       "    </tr>\n",
       "    <tr>\n",
       "      <th>582006</th>\n",
       "      <td>2018-12-31</td>\n",
       "      <td>8591872</td>\n",
       "      <td>69</td>\n",
       "      <td>3085</td>\n",
       "      <td>65623</td>\n",
       "      <td>65623</td>\n",
       "    </tr>\n",
       "  </tbody>\n",
       "</table>\n",
       "<p>582007 rows × 6 columns</p>\n",
       "</div>"
      ],
      "text/plain": [
       "       DAYOFSERVICE   TRIPID  PROGRNUMBER STOPPOINTID  ACTUALTIME_ARR  \\\n",
       "0        2018-01-01  5968763            1        1380           50714   \n",
       "1        2018-01-01  5968763            2        1381           50731   \n",
       "2        2018-01-01  5968763            3        1406           50787   \n",
       "3        2018-01-01  5968763            4        1407           50871   \n",
       "4        2018-01-01  5968763            5        1409           50893   \n",
       "...             ...      ...          ...         ...             ...   \n",
       "582002   2018-12-31  8591872           65         467           65397   \n",
       "582003   2018-12-31  8591872           66         468           65414   \n",
       "582004   2018-12-31  8591872           67        3032           65521   \n",
       "582005   2018-12-31  8591872           68        3033           65600   \n",
       "582006   2018-12-31  8591872           69        3085           65623   \n",
       "\n",
       "        ACTUALTIME_DEP  \n",
       "0                50714  \n",
       "1                50731  \n",
       "2                50817  \n",
       "3                50871  \n",
       "4                50893  \n",
       "...                ...  \n",
       "582002           65397  \n",
       "582003           65414  \n",
       "582004           65536  \n",
       "582005           65600  \n",
       "582006           65623  \n",
       "\n",
       "[582007 rows x 6 columns]"
      ]
     },
     "execution_count": 47,
     "metadata": {},
     "output_type": "execute_result"
    }
   ],
   "source": [
    "DF_droped"
   ]
  },
  {
   "cell_type": "code",
   "execution_count": 48,
   "metadata": {
    "ExecuteTime": {
     "end_time": "2020-07-04T08:00:17.945419Z",
     "start_time": "2020-07-04T08:00:17.664130Z"
    }
   },
   "outputs": [
    {
     "data": {
      "text/plain": [
       "0"
      ]
     },
     "execution_count": 48,
     "metadata": {},
     "output_type": "execute_result"
    }
   ],
   "source": [
    "sum(DF_droped.duplicated(keep=False))"
   ]
  },
  {
   "cell_type": "markdown",
   "metadata": {},
   "source": [
    "It shows no duplicate rows"
   ]
  },
  {
   "cell_type": "code",
   "execution_count": 49,
   "metadata": {
    "ExecuteTime": {
     "end_time": "2020-07-04T08:00:18.543450Z",
     "start_time": "2020-07-04T08:00:18.470602Z"
    }
   },
   "outputs": [
    {
     "data": {
      "text/plain": [
       "DAYOFSERVICE      0\n",
       "TRIPID            0\n",
       "PROGRNUMBER       0\n",
       "STOPPOINTID       0\n",
       "ACTUALTIME_ARR    0\n",
       "ACTUALTIME_DEP    0\n",
       "dtype: int64"
      ]
     },
     "execution_count": 49,
     "metadata": {},
     "output_type": "execute_result"
    }
   ],
   "source": [
    "DF_droped.isnull().sum()"
   ]
  },
  {
   "cell_type": "markdown",
   "metadata": {},
   "source": [
    "It shows no null values"
   ]
  },
  {
   "cell_type": "code",
   "execution_count": 50,
   "metadata": {
    "ExecuteTime": {
     "end_time": "2020-07-04T08:00:20.877520Z",
     "start_time": "2020-07-04T08:00:20.870540Z"
    }
   },
   "outputs": [
    {
     "data": {
      "text/plain": [
       "DAYOFSERVICE      datetime64[ns]\n",
       "TRIPID                    object\n",
       "PROGRNUMBER                int64\n",
       "STOPPOINTID               object\n",
       "ACTUALTIME_ARR             int64\n",
       "ACTUALTIME_DEP             int64\n",
       "dtype: object"
      ]
     },
     "execution_count": 50,
     "metadata": {},
     "output_type": "execute_result"
    }
   ],
   "source": [
    "DF_droped.dtypes"
   ]
  },
  {
   "cell_type": "markdown",
   "metadata": {},
   "source": [
    "# Create Customized Columns "
   ]
  },
  {
   "cell_type": "markdown",
   "metadata": {},
   "source": [
    "## Add 'ARR' and 'DEP' converted to time"
   ]
  },
  {
   "cell_type": "code",
   "execution_count": 113,
   "metadata": {
    "ExecuteTime": {
     "end_time": "2020-07-04T08:37:45.358252Z",
     "start_time": "2020-07-04T08:37:45.353264Z"
    }
   },
   "outputs": [
    {
     "data": {
      "text/plain": [
       "datetime.timedelta(seconds=50700)"
      ]
     },
     "execution_count": 113,
     "metadata": {},
     "output_type": "execute_result"
    }
   ],
   "source": [
    "import datetime"
   ]
  },
  {
   "cell_type": "code",
   "execution_count": 54,
   "metadata": {
    "ExecuteTime": {
     "end_time": "2020-07-04T08:05:26.317731Z",
     "start_time": "2020-07-04T08:05:26.314738Z"
    }
   },
   "outputs": [],
   "source": [
    "def seconds_to_timedelta(x):\n",
    "    \"\"\"convert seconds to timedelta\"\"\"\n",
    "    return datetime.timedelta(seconds=x)"
   ]
  },
  {
   "cell_type": "code",
   "execution_count": 58,
   "metadata": {
    "ExecuteTime": {
     "end_time": "2020-07-04T08:06:33.495689Z",
     "start_time": "2020-07-04T08:06:29.386527Z"
    }
   },
   "outputs": [],
   "source": [
    "DF_droped[\"ACTUALTIME_ARR_DATETIME\"] = DF_droped[\"DAYOFSERVICE\"] + DF_droped[\"ACTUALTIME_ARR\"].apply(seconds_to_timedelta)\n",
    "DF_droped[\"ACTUALTIME_DEP_DATETIME\"] = DF_droped[\"DAYOFSERVICE\"] + DF_droped[\"ACTUALTIME_DEP\"].apply(seconds_to_timedelta)"
   ]
  },
  {
   "cell_type": "code",
   "execution_count": 108,
   "metadata": {
    "ExecuteTime": {
     "end_time": "2020-07-04T08:34:43.650018Z",
     "start_time": "2020-07-04T08:34:43.602148Z"
    }
   },
   "outputs": [],
   "source": [
    "DF_droped[\"WEEK_DAY\"] = DF_droped[\"DAYOFSERVICE\"].dt.dayofweek"
   ]
  },
  {
   "cell_type": "code",
   "execution_count": 109,
   "metadata": {
    "ExecuteTime": {
     "end_time": "2020-07-04T08:34:49.533579Z",
     "start_time": "2020-07-04T08:34:49.518619Z"
    }
   },
   "outputs": [
    {
     "data": {
      "text/html": [
       "<div>\n",
       "<style scoped>\n",
       "    .dataframe tbody tr th:only-of-type {\n",
       "        vertical-align: middle;\n",
       "    }\n",
       "\n",
       "    .dataframe tbody tr th {\n",
       "        vertical-align: top;\n",
       "    }\n",
       "\n",
       "    .dataframe thead th {\n",
       "        text-align: right;\n",
       "    }\n",
       "</style>\n",
       "<table border=\"1\" class=\"dataframe\">\n",
       "  <thead>\n",
       "    <tr style=\"text-align: right;\">\n",
       "      <th></th>\n",
       "      <th>DAYOFSERVICE</th>\n",
       "      <th>TRIPID</th>\n",
       "      <th>PROGRNUMBER</th>\n",
       "      <th>STOPPOINTID</th>\n",
       "      <th>ACTUALTIME_ARR</th>\n",
       "      <th>ACTUALTIME_DEP</th>\n",
       "      <th>ACTUALTIME_ARR_DATETIME</th>\n",
       "      <th>ACTUALTIME_DEP_DATETIME</th>\n",
       "      <th>WEEK_DAY</th>\n",
       "    </tr>\n",
       "  </thead>\n",
       "  <tbody>\n",
       "    <tr>\n",
       "      <th>582002</th>\n",
       "      <td>2018-12-31</td>\n",
       "      <td>8591872</td>\n",
       "      <td>65</td>\n",
       "      <td>467</td>\n",
       "      <td>65397</td>\n",
       "      <td>65397</td>\n",
       "      <td>2018-12-31 18:09:57</td>\n",
       "      <td>2018-12-31 18:09:57</td>\n",
       "      <td>0</td>\n",
       "    </tr>\n",
       "    <tr>\n",
       "      <th>582003</th>\n",
       "      <td>2018-12-31</td>\n",
       "      <td>8591872</td>\n",
       "      <td>66</td>\n",
       "      <td>468</td>\n",
       "      <td>65414</td>\n",
       "      <td>65414</td>\n",
       "      <td>2018-12-31 18:10:14</td>\n",
       "      <td>2018-12-31 18:10:14</td>\n",
       "      <td>0</td>\n",
       "    </tr>\n",
       "    <tr>\n",
       "      <th>582004</th>\n",
       "      <td>2018-12-31</td>\n",
       "      <td>8591872</td>\n",
       "      <td>67</td>\n",
       "      <td>3032</td>\n",
       "      <td>65521</td>\n",
       "      <td>65536</td>\n",
       "      <td>2018-12-31 18:12:01</td>\n",
       "      <td>2018-12-31 18:12:16</td>\n",
       "      <td>0</td>\n",
       "    </tr>\n",
       "    <tr>\n",
       "      <th>582005</th>\n",
       "      <td>2018-12-31</td>\n",
       "      <td>8591872</td>\n",
       "      <td>68</td>\n",
       "      <td>3033</td>\n",
       "      <td>65600</td>\n",
       "      <td>65600</td>\n",
       "      <td>2018-12-31 18:13:20</td>\n",
       "      <td>2018-12-31 18:13:20</td>\n",
       "      <td>0</td>\n",
       "    </tr>\n",
       "    <tr>\n",
       "      <th>582006</th>\n",
       "      <td>2018-12-31</td>\n",
       "      <td>8591872</td>\n",
       "      <td>69</td>\n",
       "      <td>3085</td>\n",
       "      <td>65623</td>\n",
       "      <td>65623</td>\n",
       "      <td>2018-12-31 18:13:43</td>\n",
       "      <td>2018-12-31 18:13:43</td>\n",
       "      <td>0</td>\n",
       "    </tr>\n",
       "  </tbody>\n",
       "</table>\n",
       "</div>"
      ],
      "text/plain": [
       "       DAYOFSERVICE   TRIPID  PROGRNUMBER STOPPOINTID  ACTUALTIME_ARR  \\\n",
       "582002   2018-12-31  8591872           65         467           65397   \n",
       "582003   2018-12-31  8591872           66         468           65414   \n",
       "582004   2018-12-31  8591872           67        3032           65521   \n",
       "582005   2018-12-31  8591872           68        3033           65600   \n",
       "582006   2018-12-31  8591872           69        3085           65623   \n",
       "\n",
       "        ACTUALTIME_DEP ACTUALTIME_ARR_DATETIME ACTUALTIME_DEP_DATETIME  \\\n",
       "582002           65397     2018-12-31 18:09:57     2018-12-31 18:09:57   \n",
       "582003           65414     2018-12-31 18:10:14     2018-12-31 18:10:14   \n",
       "582004           65536     2018-12-31 18:12:01     2018-12-31 18:12:16   \n",
       "582005           65600     2018-12-31 18:13:20     2018-12-31 18:13:20   \n",
       "582006           65623     2018-12-31 18:13:43     2018-12-31 18:13:43   \n",
       "\n",
       "        WEEK_DAY  \n",
       "582002         0  \n",
       "582003         0  \n",
       "582004         0  \n",
       "582005         0  \n",
       "582006         0  "
      ]
     },
     "execution_count": 109,
     "metadata": {},
     "output_type": "execute_result"
    }
   ],
   "source": [
    "# WEEKDAY from 0 to 6\n",
    "DF_droped.tail()"
   ]
  },
  {
   "cell_type": "markdown",
   "metadata": {},
   "source": [
    "## Devided into periods according to 'ACTUALTIME_ARR_DATETIME'"
   ]
  },
  {
   "cell_type": "markdown",
   "metadata": {},
   "source": [
    "if time in 2:00 ~ 2:30, the period would be 2:00 <br>\n",
    "if time in 2:30 ~ 3:00, the period would be 2:30"
   ]
  },
  {
   "cell_type": "code",
   "execution_count": 157,
   "metadata": {
    "ExecuteTime": {
     "end_time": "2020-07-04T09:21:39.277207Z",
     "start_time": "2020-07-04T09:21:39.273218Z"
    }
   },
   "outputs": [],
   "source": [
    "def time_to_periods(x):\n",
    "    \"\"\"convert time to periods defined\"\"\"\n",
    "    if x.minute < 30:\n",
    "        m = 0\n",
    "    else:\n",
    "        m = 30\n",
    "    return datetime.time(x.hour,m)"
   ]
  },
  {
   "cell_type": "code",
   "execution_count": 158,
   "metadata": {
    "ExecuteTime": {
     "end_time": "2020-07-04T09:21:39.736840Z",
     "start_time": "2020-07-04T09:21:39.730836Z"
    }
   },
   "outputs": [],
   "source": [
    "ts = pd.Series(1,index=DF_droped[\"ACTUALTIME_ARR_DATETIME\"])"
   ]
  },
  {
   "cell_type": "code",
   "execution_count": 159,
   "metadata": {
    "ExecuteTime": {
     "end_time": "2020-07-04T09:21:42.701821Z",
     "start_time": "2020-07-04T09:21:40.714164Z"
    }
   },
   "outputs": [],
   "source": [
    "DF_droped[\"PERIOD\"] = DF_droped[\"ACTUALTIME_ARR_DATETIME\"].apply(time_to_periods)"
   ]
  },
  {
   "cell_type": "code",
   "execution_count": 160,
   "metadata": {
    "ExecuteTime": {
     "end_time": "2020-07-04T09:21:42.839302Z",
     "start_time": "2020-07-04T09:21:42.834358Z"
    }
   },
   "outputs": [
    {
     "data": {
      "text/plain": [
       "Timestamp('2018-01-01 00:00:00')"
      ]
     },
     "execution_count": 160,
     "metadata": {},
     "output_type": "execute_result"
    }
   ],
   "source": [
    "DF_droped[\"DAYOFSERVICE\"][0]"
   ]
  },
  {
   "cell_type": "markdown",
   "metadata": {},
   "source": [
    "## Merge dataframes 'DF_droped\" and \"weather_DF\""
   ]
  },
  {
   "cell_type": "markdown",
   "metadata": {},
   "source": [
    "Use left outer join to merge them based on : left_on=['DAYOFSERVICE','PERIOD'],  right_on=['date','time']"
   ]
  },
  {
   "cell_type": "code",
   "execution_count": 230,
   "metadata": {
    "ExecuteTime": {
     "end_time": "2020-07-04T10:07:27.433966Z",
     "start_time": "2020-07-04T10:07:26.841545Z"
    }
   },
   "outputs": [],
   "source": [
    "DF_merged = pd.merge(DF_droped, weather_DF, left_on=['DAYOFSERVICE','PERIOD'], \\\n",
    "         right_on=['date','time'], how='left').drop(['date','time'], axis=1)"
   ]
  },
  {
   "cell_type": "code",
   "execution_count": 231,
   "metadata": {
    "ExecuteTime": {
     "end_time": "2020-07-04T10:07:40.226764Z",
     "start_time": "2020-07-04T10:07:33.441611Z"
    }
   },
   "outputs": [],
   "source": [
    "DF_merged.to_csv(\"DF_merged.csv\")"
   ]
  },
  {
   "cell_type": "code",
   "execution_count": 232,
   "metadata": {
    "ExecuteTime": {
     "end_time": "2020-07-04T10:07:42.062802Z",
     "start_time": "2020-07-04T10:07:42.047842Z"
    }
   },
   "outputs": [
    {
     "data": {
      "text/html": [
       "<div>\n",
       "<style scoped>\n",
       "    .dataframe tbody tr th:only-of-type {\n",
       "        vertical-align: middle;\n",
       "    }\n",
       "\n",
       "    .dataframe tbody tr th {\n",
       "        vertical-align: top;\n",
       "    }\n",
       "\n",
       "    .dataframe thead th {\n",
       "        text-align: right;\n",
       "    }\n",
       "</style>\n",
       "<table border=\"1\" class=\"dataframe\">\n",
       "  <thead>\n",
       "    <tr style=\"text-align: right;\">\n",
       "      <th></th>\n",
       "      <th>DAYOFSERVICE</th>\n",
       "      <th>TRIPID</th>\n",
       "      <th>PROGRNUMBER</th>\n",
       "      <th>STOPPOINTID</th>\n",
       "      <th>ACTUALTIME_ARR</th>\n",
       "      <th>ACTUALTIME_DEP</th>\n",
       "      <th>ACTUALTIME_ARR_DATETIME</th>\n",
       "      <th>ACTUALTIME_DEP_DATETIME</th>\n",
       "      <th>WEEK_DAY</th>\n",
       "      <th>PERIOD</th>\n",
       "      <th>temp</th>\n",
       "      <th>humid</th>\n",
       "      <th>windspeed</th>\n",
       "      <th>condition</th>\n",
       "    </tr>\n",
       "  </thead>\n",
       "  <tbody>\n",
       "    <tr>\n",
       "      <th>0</th>\n",
       "      <td>2018-01-01</td>\n",
       "      <td>5968763</td>\n",
       "      <td>1</td>\n",
       "      <td>1380</td>\n",
       "      <td>50714</td>\n",
       "      <td>50714</td>\n",
       "      <td>2018-01-01 14:05:14</td>\n",
       "      <td>2018-01-01 14:05:14</td>\n",
       "      <td>0</td>\n",
       "      <td>14:00:00</td>\n",
       "      <td>45.0</td>\n",
       "      <td>81.0</td>\n",
       "      <td>29.0</td>\n",
       "      <td>Light Rain Shower / Windy</td>\n",
       "    </tr>\n",
       "    <tr>\n",
       "      <th>1</th>\n",
       "      <td>2018-01-01</td>\n",
       "      <td>5968763</td>\n",
       "      <td>2</td>\n",
       "      <td>1381</td>\n",
       "      <td>50731</td>\n",
       "      <td>50731</td>\n",
       "      <td>2018-01-01 14:05:31</td>\n",
       "      <td>2018-01-01 14:05:31</td>\n",
       "      <td>0</td>\n",
       "      <td>14:00:00</td>\n",
       "      <td>45.0</td>\n",
       "      <td>81.0</td>\n",
       "      <td>29.0</td>\n",
       "      <td>Light Rain Shower / Windy</td>\n",
       "    </tr>\n",
       "    <tr>\n",
       "      <th>2</th>\n",
       "      <td>2018-01-01</td>\n",
       "      <td>5968763</td>\n",
       "      <td>3</td>\n",
       "      <td>1406</td>\n",
       "      <td>50787</td>\n",
       "      <td>50817</td>\n",
       "      <td>2018-01-01 14:06:27</td>\n",
       "      <td>2018-01-01 14:06:57</td>\n",
       "      <td>0</td>\n",
       "      <td>14:00:00</td>\n",
       "      <td>45.0</td>\n",
       "      <td>81.0</td>\n",
       "      <td>29.0</td>\n",
       "      <td>Light Rain Shower / Windy</td>\n",
       "    </tr>\n",
       "    <tr>\n",
       "      <th>3</th>\n",
       "      <td>2018-01-01</td>\n",
       "      <td>5968763</td>\n",
       "      <td>4</td>\n",
       "      <td>1407</td>\n",
       "      <td>50871</td>\n",
       "      <td>50871</td>\n",
       "      <td>2018-01-01 14:07:51</td>\n",
       "      <td>2018-01-01 14:07:51</td>\n",
       "      <td>0</td>\n",
       "      <td>14:00:00</td>\n",
       "      <td>45.0</td>\n",
       "      <td>81.0</td>\n",
       "      <td>29.0</td>\n",
       "      <td>Light Rain Shower / Windy</td>\n",
       "    </tr>\n",
       "    <tr>\n",
       "      <th>4</th>\n",
       "      <td>2018-01-01</td>\n",
       "      <td>5968763</td>\n",
       "      <td>5</td>\n",
       "      <td>1409</td>\n",
       "      <td>50893</td>\n",
       "      <td>50893</td>\n",
       "      <td>2018-01-01 14:08:13</td>\n",
       "      <td>2018-01-01 14:08:13</td>\n",
       "      <td>0</td>\n",
       "      <td>14:00:00</td>\n",
       "      <td>45.0</td>\n",
       "      <td>81.0</td>\n",
       "      <td>29.0</td>\n",
       "      <td>Light Rain Shower / Windy</td>\n",
       "    </tr>\n",
       "  </tbody>\n",
       "</table>\n",
       "</div>"
      ],
      "text/plain": [
       "  DAYOFSERVICE   TRIPID  PROGRNUMBER STOPPOINTID  ACTUALTIME_ARR  \\\n",
       "0   2018-01-01  5968763            1        1380           50714   \n",
       "1   2018-01-01  5968763            2        1381           50731   \n",
       "2   2018-01-01  5968763            3        1406           50787   \n",
       "3   2018-01-01  5968763            4        1407           50871   \n",
       "4   2018-01-01  5968763            5        1409           50893   \n",
       "\n",
       "   ACTUALTIME_DEP ACTUALTIME_ARR_DATETIME ACTUALTIME_DEP_DATETIME  WEEK_DAY  \\\n",
       "0           50714     2018-01-01 14:05:14     2018-01-01 14:05:14         0   \n",
       "1           50731     2018-01-01 14:05:31     2018-01-01 14:05:31         0   \n",
       "2           50817     2018-01-01 14:06:27     2018-01-01 14:06:57         0   \n",
       "3           50871     2018-01-01 14:07:51     2018-01-01 14:07:51         0   \n",
       "4           50893     2018-01-01 14:08:13     2018-01-01 14:08:13         0   \n",
       "\n",
       "     PERIOD  temp  humid  windspeed                  condition  \n",
       "0  14:00:00  45.0   81.0       29.0  Light Rain Shower / Windy  \n",
       "1  14:00:00  45.0   81.0       29.0  Light Rain Shower / Windy  \n",
       "2  14:00:00  45.0   81.0       29.0  Light Rain Shower / Windy  \n",
       "3  14:00:00  45.0   81.0       29.0  Light Rain Shower / Windy  \n",
       "4  14:00:00  45.0   81.0       29.0  Light Rain Shower / Windy  "
      ]
     },
     "execution_count": 232,
     "metadata": {},
     "output_type": "execute_result"
    }
   ],
   "source": [
    "DF_merged.head()"
   ]
  },
  {
   "cell_type": "code",
   "execution_count": null,
   "metadata": {},
   "outputs": [],
   "source": []
  },
  {
   "cell_type": "code",
   "execution_count": null,
   "metadata": {},
   "outputs": [],
   "source": []
  },
  {
   "cell_type": "code",
   "execution_count": 239,
   "metadata": {
    "ExecuteTime": {
     "end_time": "2020-07-04T10:19:28.294626Z",
     "start_time": "2020-07-04T10:19:28.225862Z"
    }
   },
   "outputs": [
    {
     "data": {
      "text/html": [
       "<div>\n",
       "<style scoped>\n",
       "    .dataframe tbody tr th:only-of-type {\n",
       "        vertical-align: middle;\n",
       "    }\n",
       "\n",
       "    .dataframe tbody tr th {\n",
       "        vertical-align: top;\n",
       "    }\n",
       "\n",
       "    .dataframe thead th {\n",
       "        text-align: right;\n",
       "    }\n",
       "</style>\n",
       "<table border=\"1\" class=\"dataframe\">\n",
       "  <thead>\n",
       "    <tr style=\"text-align: right;\">\n",
       "      <th></th>\n",
       "      <th>DAYOFSERVICE</th>\n",
       "      <th>TRIPID</th>\n",
       "      <th>PROGRNUMBER</th>\n",
       "      <th>STOPPOINTID</th>\n",
       "      <th>ACTUALTIME_ARR</th>\n",
       "      <th>ACTUALTIME_DEP</th>\n",
       "      <th>ACTUALTIME_ARR_DATETIME</th>\n",
       "      <th>ACTUALTIME_DEP_DATETIME</th>\n",
       "      <th>WEEK_DAY</th>\n",
       "      <th>PERIOD</th>\n",
       "      <th>temp</th>\n",
       "      <th>humid</th>\n",
       "      <th>windspeed</th>\n",
       "      <th>condition</th>\n",
       "    </tr>\n",
       "  </thead>\n",
       "  <tbody>\n",
       "    <tr>\n",
       "      <th>0</th>\n",
       "      <td>2018-01-01</td>\n",
       "      <td>5968763</td>\n",
       "      <td>1</td>\n",
       "      <td>1380</td>\n",
       "      <td>50714</td>\n",
       "      <td>50714</td>\n",
       "      <td>2018-01-01 14:05:14</td>\n",
       "      <td>2018-01-01 14:05:14</td>\n",
       "      <td>0</td>\n",
       "      <td>14:00:00</td>\n",
       "      <td>45.0</td>\n",
       "      <td>81.0</td>\n",
       "      <td>29.0</td>\n",
       "      <td>Light Rain Shower / Windy</td>\n",
       "    </tr>\n",
       "    <tr>\n",
       "      <th>1</th>\n",
       "      <td>2018-01-01</td>\n",
       "      <td>5968763</td>\n",
       "      <td>2</td>\n",
       "      <td>1381</td>\n",
       "      <td>50731</td>\n",
       "      <td>50731</td>\n",
       "      <td>2018-01-01 14:05:31</td>\n",
       "      <td>2018-01-01 14:05:31</td>\n",
       "      <td>0</td>\n",
       "      <td>14:00:00</td>\n",
       "      <td>45.0</td>\n",
       "      <td>81.0</td>\n",
       "      <td>29.0</td>\n",
       "      <td>Light Rain Shower / Windy</td>\n",
       "    </tr>\n",
       "    <tr>\n",
       "      <th>2</th>\n",
       "      <td>2018-01-01</td>\n",
       "      <td>5968763</td>\n",
       "      <td>3</td>\n",
       "      <td>1406</td>\n",
       "      <td>50787</td>\n",
       "      <td>50817</td>\n",
       "      <td>2018-01-01 14:06:27</td>\n",
       "      <td>2018-01-01 14:06:57</td>\n",
       "      <td>0</td>\n",
       "      <td>14:00:00</td>\n",
       "      <td>45.0</td>\n",
       "      <td>81.0</td>\n",
       "      <td>29.0</td>\n",
       "      <td>Light Rain Shower / Windy</td>\n",
       "    </tr>\n",
       "    <tr>\n",
       "      <th>3</th>\n",
       "      <td>2018-01-01</td>\n",
       "      <td>5968763</td>\n",
       "      <td>4</td>\n",
       "      <td>1407</td>\n",
       "      <td>50871</td>\n",
       "      <td>50871</td>\n",
       "      <td>2018-01-01 14:07:51</td>\n",
       "      <td>2018-01-01 14:07:51</td>\n",
       "      <td>0</td>\n",
       "      <td>14:00:00</td>\n",
       "      <td>45.0</td>\n",
       "      <td>81.0</td>\n",
       "      <td>29.0</td>\n",
       "      <td>Light Rain Shower / Windy</td>\n",
       "    </tr>\n",
       "    <tr>\n",
       "      <th>4</th>\n",
       "      <td>2018-01-01</td>\n",
       "      <td>5968763</td>\n",
       "      <td>5</td>\n",
       "      <td>1409</td>\n",
       "      <td>50893</td>\n",
       "      <td>50893</td>\n",
       "      <td>2018-01-01 14:08:13</td>\n",
       "      <td>2018-01-01 14:08:13</td>\n",
       "      <td>0</td>\n",
       "      <td>14:00:00</td>\n",
       "      <td>45.0</td>\n",
       "      <td>81.0</td>\n",
       "      <td>29.0</td>\n",
       "      <td>Light Rain Shower / Windy</td>\n",
       "    </tr>\n",
       "    <tr>\n",
       "      <th>...</th>\n",
       "      <td>...</td>\n",
       "      <td>...</td>\n",
       "      <td>...</td>\n",
       "      <td>...</td>\n",
       "      <td>...</td>\n",
       "      <td>...</td>\n",
       "      <td>...</td>\n",
       "      <td>...</td>\n",
       "      <td>...</td>\n",
       "      <td>...</td>\n",
       "      <td>...</td>\n",
       "      <td>...</td>\n",
       "      <td>...</td>\n",
       "      <td>...</td>\n",
       "    </tr>\n",
       "    <tr>\n",
       "      <th>581852</th>\n",
       "      <td>2018-12-31</td>\n",
       "      <td>8591869</td>\n",
       "      <td>43</td>\n",
       "      <td>2893</td>\n",
       "      <td>51999</td>\n",
       "      <td>51999</td>\n",
       "      <td>2018-12-31 14:26:39</td>\n",
       "      <td>2018-12-31 14:26:39</td>\n",
       "      <td>0</td>\n",
       "      <td>14:00:00</td>\n",
       "      <td>50.0</td>\n",
       "      <td>71.0</td>\n",
       "      <td>9.0</td>\n",
       "      <td>Mostly Cloudy</td>\n",
       "    </tr>\n",
       "    <tr>\n",
       "      <th>581853</th>\n",
       "      <td>2018-12-31</td>\n",
       "      <td>8591869</td>\n",
       "      <td>44</td>\n",
       "      <td>2894</td>\n",
       "      <td>52033</td>\n",
       "      <td>52033</td>\n",
       "      <td>2018-12-31 14:27:13</td>\n",
       "      <td>2018-12-31 14:27:13</td>\n",
       "      <td>0</td>\n",
       "      <td>14:00:00</td>\n",
       "      <td>50.0</td>\n",
       "      <td>71.0</td>\n",
       "      <td>9.0</td>\n",
       "      <td>Mostly Cloudy</td>\n",
       "    </tr>\n",
       "    <tr>\n",
       "      <th>581854</th>\n",
       "      <td>2018-12-31</td>\n",
       "      <td>8591869</td>\n",
       "      <td>45</td>\n",
       "      <td>2895</td>\n",
       "      <td>52054</td>\n",
       "      <td>52054</td>\n",
       "      <td>2018-12-31 14:27:34</td>\n",
       "      <td>2018-12-31 14:27:34</td>\n",
       "      <td>0</td>\n",
       "      <td>14:00:00</td>\n",
       "      <td>50.0</td>\n",
       "      <td>71.0</td>\n",
       "      <td>9.0</td>\n",
       "      <td>Mostly Cloudy</td>\n",
       "    </tr>\n",
       "    <tr>\n",
       "      <th>581855</th>\n",
       "      <td>2018-12-31</td>\n",
       "      <td>8591869</td>\n",
       "      <td>46</td>\n",
       "      <td>3012</td>\n",
       "      <td>52096</td>\n",
       "      <td>52096</td>\n",
       "      <td>2018-12-31 14:28:16</td>\n",
       "      <td>2018-12-31 14:28:16</td>\n",
       "      <td>0</td>\n",
       "      <td>14:00:00</td>\n",
       "      <td>50.0</td>\n",
       "      <td>71.0</td>\n",
       "      <td>9.0</td>\n",
       "      <td>Mostly Cloudy</td>\n",
       "    </tr>\n",
       "    <tr>\n",
       "      <th>581856</th>\n",
       "      <td>2018-12-31</td>\n",
       "      <td>8591869</td>\n",
       "      <td>47</td>\n",
       "      <td>861</td>\n",
       "      <td>52178</td>\n",
       "      <td>52186</td>\n",
       "      <td>2018-12-31 14:29:38</td>\n",
       "      <td>2018-12-31 14:29:46</td>\n",
       "      <td>0</td>\n",
       "      <td>14:00:00</td>\n",
       "      <td>50.0</td>\n",
       "      <td>71.0</td>\n",
       "      <td>9.0</td>\n",
       "      <td>Mostly Cloudy</td>\n",
       "    </tr>\n",
       "  </tbody>\n",
       "</table>\n",
       "<p>3106 rows × 14 columns</p>\n",
       "</div>"
      ],
      "text/plain": [
       "       DAYOFSERVICE   TRIPID  PROGRNUMBER STOPPOINTID  ACTUALTIME_ARR  \\\n",
       "0        2018-01-01  5968763            1        1380           50714   \n",
       "1        2018-01-01  5968763            2        1381           50731   \n",
       "2        2018-01-01  5968763            3        1406           50787   \n",
       "3        2018-01-01  5968763            4        1407           50871   \n",
       "4        2018-01-01  5968763            5        1409           50893   \n",
       "...             ...      ...          ...         ...             ...   \n",
       "581852   2018-12-31  8591869           43        2893           51999   \n",
       "581853   2018-12-31  8591869           44        2894           52033   \n",
       "581854   2018-12-31  8591869           45        2895           52054   \n",
       "581855   2018-12-31  8591869           46        3012           52096   \n",
       "581856   2018-12-31  8591869           47         861           52178   \n",
       "\n",
       "        ACTUALTIME_DEP ACTUALTIME_ARR_DATETIME ACTUALTIME_DEP_DATETIME  \\\n",
       "0                50714     2018-01-01 14:05:14     2018-01-01 14:05:14   \n",
       "1                50731     2018-01-01 14:05:31     2018-01-01 14:05:31   \n",
       "2                50817     2018-01-01 14:06:27     2018-01-01 14:06:57   \n",
       "3                50871     2018-01-01 14:07:51     2018-01-01 14:07:51   \n",
       "4                50893     2018-01-01 14:08:13     2018-01-01 14:08:13   \n",
       "...                ...                     ...                     ...   \n",
       "581852           51999     2018-12-31 14:26:39     2018-12-31 14:26:39   \n",
       "581853           52033     2018-12-31 14:27:13     2018-12-31 14:27:13   \n",
       "581854           52054     2018-12-31 14:27:34     2018-12-31 14:27:34   \n",
       "581855           52096     2018-12-31 14:28:16     2018-12-31 14:28:16   \n",
       "581856           52186     2018-12-31 14:29:38     2018-12-31 14:29:46   \n",
       "\n",
       "        WEEK_DAY    PERIOD  temp  humid  windspeed                  condition  \n",
       "0              0  14:00:00  45.0   81.0       29.0  Light Rain Shower / Windy  \n",
       "1              0  14:00:00  45.0   81.0       29.0  Light Rain Shower / Windy  \n",
       "2              0  14:00:00  45.0   81.0       29.0  Light Rain Shower / Windy  \n",
       "3              0  14:00:00  45.0   81.0       29.0  Light Rain Shower / Windy  \n",
       "4              0  14:00:00  45.0   81.0       29.0  Light Rain Shower / Windy  \n",
       "...          ...       ...   ...    ...        ...                        ...  \n",
       "581852         0  14:00:00  50.0   71.0        9.0              Mostly Cloudy  \n",
       "581853         0  14:00:00  50.0   71.0        9.0              Mostly Cloudy  \n",
       "581854         0  14:00:00  50.0   71.0        9.0              Mostly Cloudy  \n",
       "581855         0  14:00:00  50.0   71.0        9.0              Mostly Cloudy  \n",
       "581856         0  14:00:00  50.0   71.0        9.0              Mostly Cloudy  \n",
       "\n",
       "[3106 rows x 14 columns]"
      ]
     },
     "execution_count": 239,
     "metadata": {},
     "output_type": "execute_result"
    }
   ],
   "source": [
    "\n",
    "criteria = \"PERIOD == datetime.time(14, 0) and WEEK_DAY==0\"\n",
    "DF_merged.query(criteria)\n",
    "# DF_droped.loc[DF_droped.eval(criteria)]"
   ]
  },
  {
   "cell_type": "code",
   "execution_count": 149,
   "metadata": {
    "ExecuteTime": {
     "end_time": "2020-07-04T09:03:04.763344Z",
     "start_time": "2020-07-04T09:03:04.715473Z"
    }
   },
   "outputs": [
    {
     "data": {
      "text/plain": [
       "0          True\n",
       "1          True\n",
       "2          True\n",
       "3          True\n",
       "4          True\n",
       "          ...  \n",
       "582002    False\n",
       "582003    False\n",
       "582004    False\n",
       "582005    False\n",
       "582006    False\n",
       "Length: 582007, dtype: bool"
      ]
     },
     "execution_count": 149,
     "metadata": {},
     "output_type": "execute_result"
    }
   ],
   "source": [
    "criteria = \"PERIOD == datetime.time(14, 0) and DAYOFSERVICE == Timestamp('2018-01-01 00:00:00')\"\n",
    "DF_droped.eval(criteria)"
   ]
  },
  {
   "cell_type": "code",
   "execution_count": null,
   "metadata": {},
   "outputs": [],
   "source": []
  },
  {
   "cell_type": "code",
   "execution_count": 24,
   "metadata": {
    "ExecuteTime": {
     "end_time": "2020-07-04T07:36:07.074132Z",
     "start_time": "2020-07-04T07:36:07.015291Z"
    }
   },
   "outputs": [
    {
     "data": {
      "text/plain": [
       "2704"
      ]
     },
     "execution_count": 24,
     "metadata": {},
     "output_type": "execute_result"
    }
   ],
   "source": [
    "trips_l = DF_droped['TRIPID'].unique()\n",
    "len(trips_l)"
   ]
  },
  {
   "cell_type": "code",
   "execution_count": 40,
   "metadata": {
    "ExecuteTime": {
     "end_time": "2020-07-04T07:43:19.596402Z",
     "start_time": "2020-07-04T07:43:19.559442Z"
    }
   },
   "outputs": [
    {
     "data": {
      "text/html": [
       "<div>\n",
       "<style scoped>\n",
       "    .dataframe tbody tr th:only-of-type {\n",
       "        vertical-align: middle;\n",
       "    }\n",
       "\n",
       "    .dataframe tbody tr th {\n",
       "        vertical-align: top;\n",
       "    }\n",
       "\n",
       "    .dataframe thead th {\n",
       "        text-align: right;\n",
       "    }\n",
       "</style>\n",
       "<table border=\"1\" class=\"dataframe\">\n",
       "  <thead>\n",
       "    <tr style=\"text-align: right;\">\n",
       "      <th></th>\n",
       "      <th>DAYOFSERVICE</th>\n",
       "      <th>TRIPID</th>\n",
       "      <th>PROGRNUMBER</th>\n",
       "      <th>STOPPOINTID</th>\n",
       "      <th>PLANNEDTIME_ARR</th>\n",
       "      <th>PLANNEDTIME_DEP</th>\n",
       "      <th>ACTUALTIME_ARR</th>\n",
       "      <th>ACTUALTIME_DEP</th>\n",
       "    </tr>\n",
       "  </thead>\n",
       "  <tbody>\n",
       "    <tr>\n",
       "      <th>0</th>\n",
       "      <td>2018-01-01</td>\n",
       "      <td>5968763</td>\n",
       "      <td>1</td>\n",
       "      <td>1380</td>\n",
       "      <td>50700</td>\n",
       "      <td>50700</td>\n",
       "      <td>50714</td>\n",
       "      <td>50714</td>\n",
       "    </tr>\n",
       "    <tr>\n",
       "      <th>1</th>\n",
       "      <td>2018-01-01</td>\n",
       "      <td>5968763</td>\n",
       "      <td>2</td>\n",
       "      <td>1381</td>\n",
       "      <td>50726</td>\n",
       "      <td>50726</td>\n",
       "      <td>50731</td>\n",
       "      <td>50731</td>\n",
       "    </tr>\n",
       "    <tr>\n",
       "      <th>2</th>\n",
       "      <td>2018-01-01</td>\n",
       "      <td>5968763</td>\n",
       "      <td>3</td>\n",
       "      <td>1406</td>\n",
       "      <td>50773</td>\n",
       "      <td>50773</td>\n",
       "      <td>50787</td>\n",
       "      <td>50817</td>\n",
       "    </tr>\n",
       "    <tr>\n",
       "      <th>3</th>\n",
       "      <td>2018-01-01</td>\n",
       "      <td>5968763</td>\n",
       "      <td>4</td>\n",
       "      <td>1407</td>\n",
       "      <td>50816</td>\n",
       "      <td>50816</td>\n",
       "      <td>50871</td>\n",
       "      <td>50871</td>\n",
       "    </tr>\n",
       "    <tr>\n",
       "      <th>4</th>\n",
       "      <td>2018-01-01</td>\n",
       "      <td>5968763</td>\n",
       "      <td>5</td>\n",
       "      <td>1409</td>\n",
       "      <td>50855</td>\n",
       "      <td>50855</td>\n",
       "      <td>50893</td>\n",
       "      <td>50893</td>\n",
       "    </tr>\n",
       "    <tr>\n",
       "      <th>...</th>\n",
       "      <td>...</td>\n",
       "      <td>...</td>\n",
       "      <td>...</td>\n",
       "      <td>...</td>\n",
       "      <td>...</td>\n",
       "      <td>...</td>\n",
       "      <td>...</td>\n",
       "      <td>...</td>\n",
       "    </tr>\n",
       "    <tr>\n",
       "      <th>61</th>\n",
       "      <td>2018-01-01</td>\n",
       "      <td>5968763</td>\n",
       "      <td>62</td>\n",
       "      <td>467</td>\n",
       "      <td>54148</td>\n",
       "      <td>54148</td>\n",
       "      <td>53306</td>\n",
       "      <td>53306</td>\n",
       "    </tr>\n",
       "    <tr>\n",
       "      <th>62</th>\n",
       "      <td>2018-01-01</td>\n",
       "      <td>5968763</td>\n",
       "      <td>63</td>\n",
       "      <td>468</td>\n",
       "      <td>54205</td>\n",
       "      <td>54205</td>\n",
       "      <td>53324</td>\n",
       "      <td>53324</td>\n",
       "    </tr>\n",
       "    <tr>\n",
       "      <th>63</th>\n",
       "      <td>2018-01-01</td>\n",
       "      <td>5968763</td>\n",
       "      <td>64</td>\n",
       "      <td>3032</td>\n",
       "      <td>54266</td>\n",
       "      <td>54266</td>\n",
       "      <td>53413</td>\n",
       "      <td>53413</td>\n",
       "    </tr>\n",
       "    <tr>\n",
       "      <th>64</th>\n",
       "      <td>2018-01-01</td>\n",
       "      <td>5968763</td>\n",
       "      <td>65</td>\n",
       "      <td>3033</td>\n",
       "      <td>54339</td>\n",
       "      <td>54339</td>\n",
       "      <td>53447</td>\n",
       "      <td>53463</td>\n",
       "    </tr>\n",
       "    <tr>\n",
       "      <th>65</th>\n",
       "      <td>2018-01-01</td>\n",
       "      <td>5968763</td>\n",
       "      <td>66</td>\n",
       "      <td>3085</td>\n",
       "      <td>54379</td>\n",
       "      <td>54379</td>\n",
       "      <td>53517</td>\n",
       "      <td>53517</td>\n",
       "    </tr>\n",
       "  </tbody>\n",
       "</table>\n",
       "<p>66 rows × 8 columns</p>\n",
       "</div>"
      ],
      "text/plain": [
       "   DAYOFSERVICE   TRIPID  PROGRNUMBER STOPPOINTID  PLANNEDTIME_ARR  \\\n",
       "0    2018-01-01  5968763            1        1380            50700   \n",
       "1    2018-01-01  5968763            2        1381            50726   \n",
       "2    2018-01-01  5968763            3        1406            50773   \n",
       "3    2018-01-01  5968763            4        1407            50816   \n",
       "4    2018-01-01  5968763            5        1409            50855   \n",
       "..          ...      ...          ...         ...              ...   \n",
       "61   2018-01-01  5968763           62         467            54148   \n",
       "62   2018-01-01  5968763           63         468            54205   \n",
       "63   2018-01-01  5968763           64        3032            54266   \n",
       "64   2018-01-01  5968763           65        3033            54339   \n",
       "65   2018-01-01  5968763           66        3085            54379   \n",
       "\n",
       "    PLANNEDTIME_DEP  ACTUALTIME_ARR  ACTUALTIME_DEP  \n",
       "0             50700           50714           50714  \n",
       "1             50726           50731           50731  \n",
       "2             50773           50787           50817  \n",
       "3             50816           50871           50871  \n",
       "4             50855           50893           50893  \n",
       "..              ...             ...             ...  \n",
       "61            54148           53306           53306  \n",
       "62            54205           53324           53324  \n",
       "63            54266           53413           53413  \n",
       "64            54339           53447           53463  \n",
       "65            54379           53517           53517  \n",
       "\n",
       "[66 rows x 8 columns]"
      ]
     },
     "execution_count": 40,
     "metadata": {},
     "output_type": "execute_result"
    }
   ],
   "source": [
    "DF_droped.query(\"TRIPID == '{}'\".format(trips_l[0]))"
   ]
  },
  {
   "cell_type": "code",
   "execution_count": 39,
   "metadata": {
    "ExecuteTime": {
     "end_time": "2020-07-04T07:43:17.282379Z",
     "start_time": "2020-07-04T07:43:17.278389Z"
    }
   },
   "outputs": [
    {
     "ename": "SyntaxError",
     "evalue": "unexpected EOF while parsing (<ipython-input-39-45600d9256ca>, line 2)",
     "output_type": "error",
     "traceback": [
      "\u001b[1;36m  File \u001b[1;32m\"<ipython-input-39-45600d9256ca>\"\u001b[1;36m, line \u001b[1;32m2\u001b[0m\n\u001b[1;33m    \u001b[0m\n\u001b[1;37m    ^\u001b[0m\n\u001b[1;31mSyntaxError\u001b[0m\u001b[1;31m:\u001b[0m unexpected EOF while parsing\n"
     ]
    }
   ],
   "source": [
    "for t in trips_l:\n",
    "    "
   ]
  },
  {
   "cell_type": "code",
   "execution_count": null,
   "metadata": {},
   "outputs": [],
   "source": []
  },
  {
   "cell_type": "code",
   "execution_count": null,
   "metadata": {},
   "outputs": [],
   "source": []
  },
  {
   "cell_type": "code",
   "execution_count": null,
   "metadata": {},
   "outputs": [],
   "source": []
  },
  {
   "cell_type": "code",
   "execution_count": null,
   "metadata": {},
   "outputs": [],
   "source": []
  },
  {
   "cell_type": "code",
   "execution_count": null,
   "metadata": {},
   "outputs": [],
   "source": []
  },
  {
   "cell_type": "code",
   "execution_count": null,
   "metadata": {},
   "outputs": [],
   "source": [
    "DF_droped.describe(include=\"all\").T"
   ]
  },
  {
   "cell_type": "code",
   "execution_count": 41,
   "metadata": {
    "pycharm": {
     "is_executing": false
    }
   },
   "outputs": [
    {
     "data": {
      "text/plain": [
       "['DATASOURCE',\n",
       " 'DAYOFSERVICE',\n",
       " 'TRIPID',\n",
       " 'PROGRNUMBER',\n",
       " 'STOPPOINTID',\n",
       " 'PLANNEDTIME_ARR',\n",
       " 'PLANNEDTIME_DEP',\n",
       " 'ACTUALTIME_ARR',\n",
       " 'ACTUALTIME_DEP',\n",
       " 'VEHICLEID',\n",
       " 'PASSENGERS',\n",
       " 'PASSENGERSIN',\n",
       " 'PASSENGERSOUT',\n",
       " 'DISTANCE',\n",
       " 'SUPPRESSED',\n",
       " 'JUSTIFICATIONID',\n",
       " 'LASTUPDATE',\n",
       " 'NOTE']"
      ]
     },
     "execution_count": 41,
     "metadata": {},
     "output_type": "execute_result"
    }
   ],
   "source": [
    "query = \"select * from busduck.leavetimes_01 LIMIT 0,5;\"\n",
    "Vehicles_DF = GetData(cur, query)\n",
    "DF\n",
    "\n"
   ]
  },
  {
   "cell_type": "code",
   "execution_count": null,
   "metadata": {
    "pycharm": {
     "name": "#%%\n"
    }
   },
   "outputs": [],
   "source": [
    "\n"
   ]
  }
 ],
 "metadata": {
  "kernelspec": {
   "display_name": "H1_dataanalysis",
   "language": "python",
   "name": "h1_dataanalysis"
  },
  "language_info": {
   "codemirror_mode": {
    "name": "ipython",
    "version": 3
   },
   "file_extension": ".py",
   "mimetype": "text/x-python",
   "name": "python",
   "nbconvert_exporter": "python",
   "pygments_lexer": "ipython3",
   "version": "3.7.6"
  },
  "pycharm": {
   "stem_cell": {
    "cell_type": "raw",
    "metadata": {
     "collapsed": false
    },
    "source": []
   }
  },
  "toc": {
   "base_numbering": 1,
   "nav_menu": {},
   "number_sections": true,
   "sideBar": true,
   "skip_h1_title": false,
   "title_cell": "Table of Contents",
   "title_sidebar": "Contents",
   "toc_cell": false,
   "toc_position": {},
   "toc_section_display": true,
   "toc_window_display": false
  },
  "varInspector": {
   "cols": {
    "lenName": 16,
    "lenType": 16,
    "lenVar": 40
   },
   "kernels_config": {
    "python": {
     "delete_cmd_postfix": "",
     "delete_cmd_prefix": "del ",
     "library": "var_list.py",
     "varRefreshCmd": "print(var_dic_list())"
    },
    "r": {
     "delete_cmd_postfix": ") ",
     "delete_cmd_prefix": "rm(",
     "library": "var_list.r",
     "varRefreshCmd": "cat(var_dic_list()) "
    }
   },
   "types_to_exclude": [
    "module",
    "function",
    "builtin_function_or_method",
    "instance",
    "_Feature"
   ],
   "window_display": false
  }
 },
 "nbformat": 4,
 "nbformat_minor": 1
}
