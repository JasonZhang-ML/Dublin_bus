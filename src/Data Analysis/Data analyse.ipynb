{
 "cells": [
  {
   "cell_type": "markdown",
   "metadata": {},
   "source": [
    "# import Analytics Base Table"
   ]
  },
  {
   "cell_type": "code",
   "execution_count": 13,
   "metadata": {
    "ExecuteTime": {
     "end_time": "2020-07-05T16:02:43.936612Z",
     "start_time": "2020-07-05T16:02:43.932621Z"
    }
   },
   "outputs": [],
   "source": [
    "import pandas as pd"
   ]
  },
  {
   "cell_type": "code",
   "execution_count": 14,
   "metadata": {
    "ExecuteTime": {
     "end_time": "2020-07-05T16:02:45.596175Z",
     "start_time": "2020-07-05T16:02:44.155028Z"
    }
   },
   "outputs": [],
   "source": [
    "DF = pd.read_csv(\"D:/datasets/Dublin_bus/ABT.csv\").drop(\"Unnamed: 0\", axis=1)"
   ]
  },
  {
   "cell_type": "markdown",
   "metadata": {},
   "source": [
    "## Convert dtypes"
   ]
  },
  {
   "cell_type": "code",
   "execution_count": 15,
   "metadata": {
    "ExecuteTime": {
     "end_time": "2020-07-05T16:02:45.702889Z",
     "start_time": "2020-07-05T16:02:45.695908Z"
    }
   },
   "outputs": [
    {
     "data": {
      "text/plain": [
       "DAYOFSERVICE                object\n",
       "TRIPID                       int64\n",
       "PROGRNUMBER                  int64\n",
       "STOPPOINTID                  int64\n",
       "ACTUALTIME_ARR               int64\n",
       "ACTUALTIME_DEP               int64\n",
       "ACTUALTIME_ARR_DATETIME     object\n",
       "ACTUALTIME_DEP_DATETIME     object\n",
       "WEEK_DAY                     int64\n",
       "PERIOD                      object\n",
       "temp                         int64\n",
       "humid                        int64\n",
       "windspeed                    int64\n",
       "condition                   object\n",
       "DWELLTIME                    int64\n",
       "DIFFTIME                   float64\n",
       "dtype: object"
      ]
     },
     "execution_count": 15,
     "metadata": {},
     "output_type": "execute_result"
    }
   ],
   "source": [
    "DF.dtypes"
   ]
  },
  {
   "cell_type": "code",
   "execution_count": 16,
   "metadata": {
    "ExecuteTime": {
     "end_time": "2020-07-05T16:02:46.701247Z",
     "start_time": "2020-07-05T16:02:45.806613Z"
    }
   },
   "outputs": [],
   "source": [
    "cols_to_datetype = [\"DAYOFSERVICE\",\"ACTUALTIME_ARR_DATETIME\",\"ACTUALTIME_DEP_DATETIME\"]\n",
    "for i in cols_to_datetype:\n",
    "    DF[i] = DF[i].astype('datetime64[ns]')"
   ]
  },
  {
   "cell_type": "code",
   "execution_count": 17,
   "metadata": {
    "ExecuteTime": {
     "end_time": "2020-07-05T16:02:46.978479Z",
     "start_time": "2020-07-05T16:02:46.779012Z"
    }
   },
   "outputs": [],
   "source": [
    "cols_to_cat = [\"TRIPID\",\"PROGRNUMBER\",\"STOPPOINTID\", \"WEEK_DAY\",\"PERIOD\",\"condition\"]\n",
    "for i in cols_to_cat:\n",
    "    DF[i] = DF[i].astype('category')"
   ]
  },
  {
   "cell_type": "code",
   "execution_count": 18,
   "metadata": {
    "ExecuteTime": {
     "end_time": "2020-07-05T16:02:47.087188Z",
     "start_time": "2020-07-05T16:02:47.080206Z"
    }
   },
   "outputs": [
    {
     "data": {
      "text/plain": [
       "DAYOFSERVICE               datetime64[ns]\n",
       "TRIPID                           category\n",
       "PROGRNUMBER                      category\n",
       "STOPPOINTID                      category\n",
       "ACTUALTIME_ARR                      int64\n",
       "ACTUALTIME_DEP                      int64\n",
       "ACTUALTIME_ARR_DATETIME    datetime64[ns]\n",
       "ACTUALTIME_DEP_DATETIME    datetime64[ns]\n",
       "WEEK_DAY                         category\n",
       "PERIOD                           category\n",
       "temp                                int64\n",
       "humid                               int64\n",
       "windspeed                           int64\n",
       "condition                        category\n",
       "DWELLTIME                           int64\n",
       "DIFFTIME                          float64\n",
       "dtype: object"
      ]
     },
     "execution_count": 18,
     "metadata": {},
     "output_type": "execute_result"
    }
   ],
   "source": [
    "DF.dtypes"
   ]
  },
  {
   "cell_type": "code",
   "execution_count": 19,
   "metadata": {
    "ExecuteTime": {
     "end_time": "2020-07-05T16:02:47.217839Z",
     "start_time": "2020-07-05T16:02:47.198890Z"
    },
    "scrolled": true
   },
   "outputs": [
    {
     "data": {
      "text/html": [
       "<div>\n",
       "<style scoped>\n",
       "    .dataframe tbody tr th:only-of-type {\n",
       "        vertical-align: middle;\n",
       "    }\n",
       "\n",
       "    .dataframe tbody tr th {\n",
       "        vertical-align: top;\n",
       "    }\n",
       "\n",
       "    .dataframe thead th {\n",
       "        text-align: right;\n",
       "    }\n",
       "</style>\n",
       "<table border=\"1\" class=\"dataframe\">\n",
       "  <thead>\n",
       "    <tr style=\"text-align: right;\">\n",
       "      <th></th>\n",
       "      <th>DAYOFSERVICE</th>\n",
       "      <th>TRIPID</th>\n",
       "      <th>PROGRNUMBER</th>\n",
       "      <th>STOPPOINTID</th>\n",
       "      <th>ACTUALTIME_ARR</th>\n",
       "      <th>ACTUALTIME_DEP</th>\n",
       "      <th>ACTUALTIME_ARR_DATETIME</th>\n",
       "      <th>ACTUALTIME_DEP_DATETIME</th>\n",
       "      <th>WEEK_DAY</th>\n",
       "      <th>PERIOD</th>\n",
       "      <th>temp</th>\n",
       "      <th>humid</th>\n",
       "      <th>windspeed</th>\n",
       "      <th>condition</th>\n",
       "      <th>DWELLTIME</th>\n",
       "      <th>DIFFTIME</th>\n",
       "    </tr>\n",
       "  </thead>\n",
       "  <tbody>\n",
       "    <tr>\n",
       "      <th>0</th>\n",
       "      <td>2018-01-01</td>\n",
       "      <td>5968763</td>\n",
       "      <td>1</td>\n",
       "      <td>1380</td>\n",
       "      <td>50714</td>\n",
       "      <td>50714</td>\n",
       "      <td>2018-01-01 14:05:14</td>\n",
       "      <td>2018-01-01 14:05:14</td>\n",
       "      <td>0</td>\n",
       "      <td>14:00:00</td>\n",
       "      <td>45</td>\n",
       "      <td>81</td>\n",
       "      <td>29</td>\n",
       "      <td>Light Rain Shower / Windy</td>\n",
       "      <td>0</td>\n",
       "      <td>NaN</td>\n",
       "    </tr>\n",
       "    <tr>\n",
       "      <th>1</th>\n",
       "      <td>2018-01-01</td>\n",
       "      <td>5968763</td>\n",
       "      <td>2</td>\n",
       "      <td>1381</td>\n",
       "      <td>50731</td>\n",
       "      <td>50731</td>\n",
       "      <td>2018-01-01 14:05:31</td>\n",
       "      <td>2018-01-01 14:05:31</td>\n",
       "      <td>0</td>\n",
       "      <td>14:00:00</td>\n",
       "      <td>45</td>\n",
       "      <td>81</td>\n",
       "      <td>29</td>\n",
       "      <td>Light Rain Shower / Windy</td>\n",
       "      <td>0</td>\n",
       "      <td>17.0</td>\n",
       "    </tr>\n",
       "    <tr>\n",
       "      <th>2</th>\n",
       "      <td>2018-01-01</td>\n",
       "      <td>5968763</td>\n",
       "      <td>3</td>\n",
       "      <td>1406</td>\n",
       "      <td>50787</td>\n",
       "      <td>50817</td>\n",
       "      <td>2018-01-01 14:06:27</td>\n",
       "      <td>2018-01-01 14:06:57</td>\n",
       "      <td>0</td>\n",
       "      <td>14:00:00</td>\n",
       "      <td>45</td>\n",
       "      <td>81</td>\n",
       "      <td>29</td>\n",
       "      <td>Light Rain Shower / Windy</td>\n",
       "      <td>30</td>\n",
       "      <td>56.0</td>\n",
       "    </tr>\n",
       "    <tr>\n",
       "      <th>3</th>\n",
       "      <td>2018-01-01</td>\n",
       "      <td>5968763</td>\n",
       "      <td>4</td>\n",
       "      <td>1407</td>\n",
       "      <td>50871</td>\n",
       "      <td>50871</td>\n",
       "      <td>2018-01-01 14:07:51</td>\n",
       "      <td>2018-01-01 14:07:51</td>\n",
       "      <td>0</td>\n",
       "      <td>14:00:00</td>\n",
       "      <td>45</td>\n",
       "      <td>81</td>\n",
       "      <td>29</td>\n",
       "      <td>Light Rain Shower / Windy</td>\n",
       "      <td>0</td>\n",
       "      <td>84.0</td>\n",
       "    </tr>\n",
       "    <tr>\n",
       "      <th>4</th>\n",
       "      <td>2018-01-01</td>\n",
       "      <td>5968763</td>\n",
       "      <td>5</td>\n",
       "      <td>1409</td>\n",
       "      <td>50893</td>\n",
       "      <td>50893</td>\n",
       "      <td>2018-01-01 14:08:13</td>\n",
       "      <td>2018-01-01 14:08:13</td>\n",
       "      <td>0</td>\n",
       "      <td>14:00:00</td>\n",
       "      <td>45</td>\n",
       "      <td>81</td>\n",
       "      <td>29</td>\n",
       "      <td>Light Rain Shower / Windy</td>\n",
       "      <td>0</td>\n",
       "      <td>22.0</td>\n",
       "    </tr>\n",
       "  </tbody>\n",
       "</table>\n",
       "</div>"
      ],
      "text/plain": [
       "  DAYOFSERVICE   TRIPID PROGRNUMBER STOPPOINTID  ACTUALTIME_ARR  \\\n",
       "0   2018-01-01  5968763           1        1380           50714   \n",
       "1   2018-01-01  5968763           2        1381           50731   \n",
       "2   2018-01-01  5968763           3        1406           50787   \n",
       "3   2018-01-01  5968763           4        1407           50871   \n",
       "4   2018-01-01  5968763           5        1409           50893   \n",
       "\n",
       "   ACTUALTIME_DEP ACTUALTIME_ARR_DATETIME ACTUALTIME_DEP_DATETIME WEEK_DAY  \\\n",
       "0           50714     2018-01-01 14:05:14     2018-01-01 14:05:14        0   \n",
       "1           50731     2018-01-01 14:05:31     2018-01-01 14:05:31        0   \n",
       "2           50817     2018-01-01 14:06:27     2018-01-01 14:06:57        0   \n",
       "3           50871     2018-01-01 14:07:51     2018-01-01 14:07:51        0   \n",
       "4           50893     2018-01-01 14:08:13     2018-01-01 14:08:13        0   \n",
       "\n",
       "     PERIOD  temp  humid  windspeed                  condition  DWELLTIME  \\\n",
       "0  14:00:00    45     81         29  Light Rain Shower / Windy          0   \n",
       "1  14:00:00    45     81         29  Light Rain Shower / Windy          0   \n",
       "2  14:00:00    45     81         29  Light Rain Shower / Windy         30   \n",
       "3  14:00:00    45     81         29  Light Rain Shower / Windy          0   \n",
       "4  14:00:00    45     81         29  Light Rain Shower / Windy          0   \n",
       "\n",
       "   DIFFTIME  \n",
       "0       NaN  \n",
       "1      17.0  \n",
       "2      56.0  \n",
       "3      84.0  \n",
       "4      22.0  "
      ]
     },
     "execution_count": 19,
     "metadata": {},
     "output_type": "execute_result"
    }
   ],
   "source": [
    "DF.head()"
   ]
  },
  {
   "cell_type": "code",
   "execution_count": 20,
   "metadata": {
    "ExecuteTime": {
     "end_time": "2020-07-05T16:02:47.748420Z",
     "start_time": "2020-07-05T16:02:47.318569Z"
    },
    "scrolled": true
   },
   "outputs": [
    {
     "data": {
      "text/html": [
       "<div>\n",
       "<style scoped>\n",
       "    .dataframe tbody tr th:only-of-type {\n",
       "        vertical-align: middle;\n",
       "    }\n",
       "\n",
       "    .dataframe tbody tr th {\n",
       "        vertical-align: top;\n",
       "    }\n",
       "\n",
       "    .dataframe thead th {\n",
       "        text-align: right;\n",
       "    }\n",
       "</style>\n",
       "<table border=\"1\" class=\"dataframe\">\n",
       "  <thead>\n",
       "    <tr style=\"text-align: right;\">\n",
       "      <th></th>\n",
       "      <th>count</th>\n",
       "      <th>unique</th>\n",
       "      <th>top</th>\n",
       "      <th>freq</th>\n",
       "      <th>first</th>\n",
       "      <th>last</th>\n",
       "      <th>mean</th>\n",
       "      <th>std</th>\n",
       "      <th>min</th>\n",
       "      <th>25%</th>\n",
       "      <th>50%</th>\n",
       "      <th>75%</th>\n",
       "      <th>max</th>\n",
       "    </tr>\n",
       "  </thead>\n",
       "  <tbody>\n",
       "    <tr>\n",
       "      <th>DAYOFSERVICE</th>\n",
       "      <td>582007</td>\n",
       "      <td>359</td>\n",
       "      <td>2018-05-28 00:00:00</td>\n",
       "      <td>2058</td>\n",
       "      <td>2018-01-01 00:00:00</td>\n",
       "      <td>2018-12-31 00:00:00</td>\n",
       "      <td>NaN</td>\n",
       "      <td>NaN</td>\n",
       "      <td>NaN</td>\n",
       "      <td>NaN</td>\n",
       "      <td>NaN</td>\n",
       "      <td>NaN</td>\n",
       "      <td>NaN</td>\n",
       "    </tr>\n",
       "    <tr>\n",
       "      <th>TRIPID</th>\n",
       "      <td>582007</td>\n",
       "      <td>2704</td>\n",
       "      <td>7.32986e+06</td>\n",
       "      <td>1301</td>\n",
       "      <td>NaT</td>\n",
       "      <td>NaT</td>\n",
       "      <td>NaN</td>\n",
       "      <td>NaN</td>\n",
       "      <td>NaN</td>\n",
       "      <td>NaN</td>\n",
       "      <td>NaN</td>\n",
       "      <td>NaN</td>\n",
       "      <td>NaN</td>\n",
       "    </tr>\n",
       "    <tr>\n",
       "      <th>PROGRNUMBER</th>\n",
       "      <td>582007</td>\n",
       "      <td>69</td>\n",
       "      <td>8</td>\n",
       "      <td>9015</td>\n",
       "      <td>NaT</td>\n",
       "      <td>NaT</td>\n",
       "      <td>NaN</td>\n",
       "      <td>NaN</td>\n",
       "      <td>NaN</td>\n",
       "      <td>NaN</td>\n",
       "      <td>NaN</td>\n",
       "      <td>NaN</td>\n",
       "      <td>NaN</td>\n",
       "    </tr>\n",
       "    <tr>\n",
       "      <th>STOPPOINTID</th>\n",
       "      <td>582007</td>\n",
       "      <td>72</td>\n",
       "      <td>2895</td>\n",
       "      <td>8873</td>\n",
       "      <td>NaT</td>\n",
       "      <td>NaT</td>\n",
       "      <td>NaN</td>\n",
       "      <td>NaN</td>\n",
       "      <td>NaN</td>\n",
       "      <td>NaN</td>\n",
       "      <td>NaN</td>\n",
       "      <td>NaN</td>\n",
       "      <td>NaN</td>\n",
       "    </tr>\n",
       "    <tr>\n",
       "      <th>ACTUALTIME_ARR</th>\n",
       "      <td>582007</td>\n",
       "      <td>NaN</td>\n",
       "      <td>NaN</td>\n",
       "      <td>NaN</td>\n",
       "      <td>NaT</td>\n",
       "      <td>NaT</td>\n",
       "      <td>51236.4</td>\n",
       "      <td>15892.3</td>\n",
       "      <td>24691</td>\n",
       "      <td>36363</td>\n",
       "      <td>50711</td>\n",
       "      <td>63859.5</td>\n",
       "      <td>86329</td>\n",
       "    </tr>\n",
       "    <tr>\n",
       "      <th>ACTUALTIME_DEP</th>\n",
       "      <td>582007</td>\n",
       "      <td>NaN</td>\n",
       "      <td>NaN</td>\n",
       "      <td>NaN</td>\n",
       "      <td>NaT</td>\n",
       "      <td>NaT</td>\n",
       "      <td>51245</td>\n",
       "      <td>15890.5</td>\n",
       "      <td>24691</td>\n",
       "      <td>36375</td>\n",
       "      <td>50719</td>\n",
       "      <td>63870</td>\n",
       "      <td>86329</td>\n",
       "    </tr>\n",
       "    <tr>\n",
       "      <th>ACTUALTIME_ARR_DATETIME</th>\n",
       "      <td>582007</td>\n",
       "      <td>575834</td>\n",
       "      <td>2018-12-06 08:51:20</td>\n",
       "      <td>3</td>\n",
       "      <td>2018-01-01 11:19:52</td>\n",
       "      <td>2018-12-31 22:10:35</td>\n",
       "      <td>NaN</td>\n",
       "      <td>NaN</td>\n",
       "      <td>NaN</td>\n",
       "      <td>NaN</td>\n",
       "      <td>NaN</td>\n",
       "      <td>NaN</td>\n",
       "      <td>NaN</td>\n",
       "    </tr>\n",
       "    <tr>\n",
       "      <th>ACTUALTIME_DEP_DATETIME</th>\n",
       "      <td>582007</td>\n",
       "      <td>576020</td>\n",
       "      <td>2018-10-17 09:24:33</td>\n",
       "      <td>3</td>\n",
       "      <td>2018-01-01 11:19:52</td>\n",
       "      <td>2018-12-31 22:10:35</td>\n",
       "      <td>NaN</td>\n",
       "      <td>NaN</td>\n",
       "      <td>NaN</td>\n",
       "      <td>NaN</td>\n",
       "      <td>NaN</td>\n",
       "      <td>NaN</td>\n",
       "      <td>NaN</td>\n",
       "    </tr>\n",
       "    <tr>\n",
       "      <th>WEEK_DAY</th>\n",
       "      <td>582007</td>\n",
       "      <td>7</td>\n",
       "      <td>1</td>\n",
       "      <td>97443</td>\n",
       "      <td>NaT</td>\n",
       "      <td>NaT</td>\n",
       "      <td>NaN</td>\n",
       "      <td>NaN</td>\n",
       "      <td>NaN</td>\n",
       "      <td>NaN</td>\n",
       "      <td>NaN</td>\n",
       "      <td>NaN</td>\n",
       "      <td>NaN</td>\n",
       "    </tr>\n",
       "    <tr>\n",
       "      <th>PERIOD</th>\n",
       "      <td>582007</td>\n",
       "      <td>35</td>\n",
       "      <td>09:00:00</td>\n",
       "      <td>28425</td>\n",
       "      <td>NaT</td>\n",
       "      <td>NaT</td>\n",
       "      <td>NaN</td>\n",
       "      <td>NaN</td>\n",
       "      <td>NaN</td>\n",
       "      <td>NaN</td>\n",
       "      <td>NaN</td>\n",
       "      <td>NaN</td>\n",
       "      <td>NaN</td>\n",
       "    </tr>\n",
       "    <tr>\n",
       "      <th>temp</th>\n",
       "      <td>582007</td>\n",
       "      <td>NaN</td>\n",
       "      <td>NaN</td>\n",
       "      <td>NaN</td>\n",
       "      <td>NaT</td>\n",
       "      <td>NaT</td>\n",
       "      <td>51.8704</td>\n",
       "      <td>10.0525</td>\n",
       "      <td>23</td>\n",
       "      <td>45</td>\n",
       "      <td>52</td>\n",
       "      <td>59</td>\n",
       "      <td>79</td>\n",
       "    </tr>\n",
       "    <tr>\n",
       "      <th>humid</th>\n",
       "      <td>582007</td>\n",
       "      <td>NaN</td>\n",
       "      <td>NaN</td>\n",
       "      <td>NaN</td>\n",
       "      <td>NaT</td>\n",
       "      <td>NaT</td>\n",
       "      <td>76.7534</td>\n",
       "      <td>13.7928</td>\n",
       "      <td>0</td>\n",
       "      <td>68</td>\n",
       "      <td>77</td>\n",
       "      <td>87</td>\n",
       "      <td>100</td>\n",
       "    </tr>\n",
       "    <tr>\n",
       "      <th>windspeed</th>\n",
       "      <td>582007</td>\n",
       "      <td>NaN</td>\n",
       "      <td>NaN</td>\n",
       "      <td>NaN</td>\n",
       "      <td>NaT</td>\n",
       "      <td>NaT</td>\n",
       "      <td>12.2069</td>\n",
       "      <td>5.84068</td>\n",
       "      <td>0</td>\n",
       "      <td>8</td>\n",
       "      <td>12</td>\n",
       "      <td>15</td>\n",
       "      <td>41</td>\n",
       "    </tr>\n",
       "    <tr>\n",
       "      <th>condition</th>\n",
       "      <td>582007</td>\n",
       "      <td>30</td>\n",
       "      <td>Mostly Cloudy</td>\n",
       "      <td>259620</td>\n",
       "      <td>NaT</td>\n",
       "      <td>NaT</td>\n",
       "      <td>NaN</td>\n",
       "      <td>NaN</td>\n",
       "      <td>NaN</td>\n",
       "      <td>NaN</td>\n",
       "      <td>NaN</td>\n",
       "      <td>NaN</td>\n",
       "      <td>NaN</td>\n",
       "    </tr>\n",
       "    <tr>\n",
       "      <th>DWELLTIME</th>\n",
       "      <td>582007</td>\n",
       "      <td>NaN</td>\n",
       "      <td>NaN</td>\n",
       "      <td>NaN</td>\n",
       "      <td>NaT</td>\n",
       "      <td>NaT</td>\n",
       "      <td>8.54814</td>\n",
       "      <td>20.4187</td>\n",
       "      <td>0</td>\n",
       "      <td>0</td>\n",
       "      <td>0</td>\n",
       "      <td>13</td>\n",
       "      <td>3110</td>\n",
       "    </tr>\n",
       "    <tr>\n",
       "      <th>DIFFTIME</th>\n",
       "      <td>572778</td>\n",
       "      <td>NaN</td>\n",
       "      <td>NaN</td>\n",
       "      <td>NaN</td>\n",
       "      <td>NaT</td>\n",
       "      <td>NaT</td>\n",
       "      <td>58.7483</td>\n",
       "      <td>63.233</td>\n",
       "      <td>-2737</td>\n",
       "      <td>26</td>\n",
       "      <td>43</td>\n",
       "      <td>69</td>\n",
       "      <td>4166</td>\n",
       "    </tr>\n",
       "  </tbody>\n",
       "</table>\n",
       "</div>"
      ],
      "text/plain": [
       "                          count  unique                  top    freq  \\\n",
       "DAYOFSERVICE             582007     359  2018-05-28 00:00:00    2058   \n",
       "TRIPID                   582007    2704          7.32986e+06    1301   \n",
       "PROGRNUMBER              582007      69                    8    9015   \n",
       "STOPPOINTID              582007      72                 2895    8873   \n",
       "ACTUALTIME_ARR           582007     NaN                  NaN     NaN   \n",
       "ACTUALTIME_DEP           582007     NaN                  NaN     NaN   \n",
       "ACTUALTIME_ARR_DATETIME  582007  575834  2018-12-06 08:51:20       3   \n",
       "ACTUALTIME_DEP_DATETIME  582007  576020  2018-10-17 09:24:33       3   \n",
       "WEEK_DAY                 582007       7                    1   97443   \n",
       "PERIOD                   582007      35             09:00:00   28425   \n",
       "temp                     582007     NaN                  NaN     NaN   \n",
       "humid                    582007     NaN                  NaN     NaN   \n",
       "windspeed                582007     NaN                  NaN     NaN   \n",
       "condition                582007      30        Mostly Cloudy  259620   \n",
       "DWELLTIME                582007     NaN                  NaN     NaN   \n",
       "DIFFTIME                 572778     NaN                  NaN     NaN   \n",
       "\n",
       "                                      first                last     mean  \\\n",
       "DAYOFSERVICE            2018-01-01 00:00:00 2018-12-31 00:00:00      NaN   \n",
       "TRIPID                                  NaT                 NaT      NaN   \n",
       "PROGRNUMBER                             NaT                 NaT      NaN   \n",
       "STOPPOINTID                             NaT                 NaT      NaN   \n",
       "ACTUALTIME_ARR                          NaT                 NaT  51236.4   \n",
       "ACTUALTIME_DEP                          NaT                 NaT    51245   \n",
       "ACTUALTIME_ARR_DATETIME 2018-01-01 11:19:52 2018-12-31 22:10:35      NaN   \n",
       "ACTUALTIME_DEP_DATETIME 2018-01-01 11:19:52 2018-12-31 22:10:35      NaN   \n",
       "WEEK_DAY                                NaT                 NaT      NaN   \n",
       "PERIOD                                  NaT                 NaT      NaN   \n",
       "temp                                    NaT                 NaT  51.8704   \n",
       "humid                                   NaT                 NaT  76.7534   \n",
       "windspeed                               NaT                 NaT  12.2069   \n",
       "condition                               NaT                 NaT      NaN   \n",
       "DWELLTIME                               NaT                 NaT  8.54814   \n",
       "DIFFTIME                                NaT                 NaT  58.7483   \n",
       "\n",
       "                             std    min    25%    50%      75%    max  \n",
       "DAYOFSERVICE                 NaN    NaN    NaN    NaN      NaN    NaN  \n",
       "TRIPID                       NaN    NaN    NaN    NaN      NaN    NaN  \n",
       "PROGRNUMBER                  NaN    NaN    NaN    NaN      NaN    NaN  \n",
       "STOPPOINTID                  NaN    NaN    NaN    NaN      NaN    NaN  \n",
       "ACTUALTIME_ARR           15892.3  24691  36363  50711  63859.5  86329  \n",
       "ACTUALTIME_DEP           15890.5  24691  36375  50719    63870  86329  \n",
       "ACTUALTIME_ARR_DATETIME      NaN    NaN    NaN    NaN      NaN    NaN  \n",
       "ACTUALTIME_DEP_DATETIME      NaN    NaN    NaN    NaN      NaN    NaN  \n",
       "WEEK_DAY                     NaN    NaN    NaN    NaN      NaN    NaN  \n",
       "PERIOD                       NaN    NaN    NaN    NaN      NaN    NaN  \n",
       "temp                     10.0525     23     45     52       59     79  \n",
       "humid                    13.7928      0     68     77       87    100  \n",
       "windspeed                5.84068      0      8     12       15     41  \n",
       "condition                    NaN    NaN    NaN    NaN      NaN    NaN  \n",
       "DWELLTIME                20.4187      0      0      0       13   3110  \n",
       "DIFFTIME                  63.233  -2737     26     43       69   4166  "
      ]
     },
     "execution_count": 20,
     "metadata": {},
     "output_type": "execute_result"
    }
   ],
   "source": [
    "DF.describe(include=\"all\").T"
   ]
  },
  {
   "cell_type": "markdown",
   "metadata": {},
   "source": [
    "# Descriptive Statistics\n",
    "## continuous features"
   ]
  },
  {
   "cell_type": "code",
   "execution_count": 21,
   "metadata": {
    "ExecuteTime": {
     "end_time": "2020-07-05T16:02:51.981440Z",
     "start_time": "2020-07-05T16:02:51.977449Z"
    }
   },
   "outputs": [],
   "source": [
    "cols_cat = [\"WEEK_DAY\",\"PERIOD\",\"condition\"]\n",
    "cols_con = [\"temp\", \"humid\", \"windspeed\", \"DWELLTIME\", \"DIFFTIME\"] # DIFFTIME is target"
   ]
  },
  {
   "cell_type": "code",
   "execution_count": 22,
   "metadata": {
    "ExecuteTime": {
     "end_time": "2020-07-05T16:02:52.473166Z",
     "start_time": "2020-07-05T16:02:52.197860Z"
    },
    "scrolled": true
   },
   "outputs": [
    {
     "data": {
      "text/html": [
       "<div>\n",
       "<style scoped>\n",
       "    .dataframe tbody tr th:only-of-type {\n",
       "        vertical-align: middle;\n",
       "    }\n",
       "\n",
       "    .dataframe tbody tr th {\n",
       "        vertical-align: top;\n",
       "    }\n",
       "\n",
       "    .dataframe thead th {\n",
       "        text-align: right;\n",
       "    }\n",
       "</style>\n",
       "<table border=\"1\" class=\"dataframe\">\n",
       "  <thead>\n",
       "    <tr style=\"text-align: right;\">\n",
       "      <th></th>\n",
       "      <th>count</th>\n",
       "      <th>mean</th>\n",
       "      <th>std</th>\n",
       "      <th>min</th>\n",
       "      <th>25%</th>\n",
       "      <th>50%</th>\n",
       "      <th>75%</th>\n",
       "      <th>max</th>\n",
       "      <th>%missing</th>\n",
       "      <th>card</th>\n",
       "    </tr>\n",
       "  </thead>\n",
       "  <tbody>\n",
       "    <tr>\n",
       "      <th>temp</th>\n",
       "      <td>582007.0</td>\n",
       "      <td>51.870436</td>\n",
       "      <td>10.052519</td>\n",
       "      <td>23.0</td>\n",
       "      <td>45.0</td>\n",
       "      <td>52.0</td>\n",
       "      <td>59.0</td>\n",
       "      <td>79.0</td>\n",
       "      <td>0.00000</td>\n",
       "      <td>32</td>\n",
       "    </tr>\n",
       "    <tr>\n",
       "      <th>humid</th>\n",
       "      <td>582007.0</td>\n",
       "      <td>76.753400</td>\n",
       "      <td>13.792823</td>\n",
       "      <td>0.0</td>\n",
       "      <td>68.0</td>\n",
       "      <td>77.0</td>\n",
       "      <td>87.0</td>\n",
       "      <td>100.0</td>\n",
       "      <td>0.00000</td>\n",
       "      <td>64</td>\n",
       "    </tr>\n",
       "    <tr>\n",
       "      <th>windspeed</th>\n",
       "      <td>582007.0</td>\n",
       "      <td>12.206943</td>\n",
       "      <td>5.840677</td>\n",
       "      <td>0.0</td>\n",
       "      <td>8.0</td>\n",
       "      <td>12.0</td>\n",
       "      <td>15.0</td>\n",
       "      <td>41.0</td>\n",
       "      <td>0.00000</td>\n",
       "      <td>35</td>\n",
       "    </tr>\n",
       "    <tr>\n",
       "      <th>DWELLTIME</th>\n",
       "      <td>582007.0</td>\n",
       "      <td>8.548136</td>\n",
       "      <td>20.418713</td>\n",
       "      <td>0.0</td>\n",
       "      <td>0.0</td>\n",
       "      <td>0.0</td>\n",
       "      <td>13.0</td>\n",
       "      <td>3110.0</td>\n",
       "      <td>0.00000</td>\n",
       "      <td>453</td>\n",
       "    </tr>\n",
       "    <tr>\n",
       "      <th>DIFFTIME</th>\n",
       "      <td>572778.0</td>\n",
       "      <td>58.748274</td>\n",
       "      <td>63.233015</td>\n",
       "      <td>-2737.0</td>\n",
       "      <td>26.0</td>\n",
       "      <td>43.0</td>\n",
       "      <td>69.0</td>\n",
       "      <td>4166.0</td>\n",
       "      <td>1.58572</td>\n",
       "      <td>957</td>\n",
       "    </tr>\n",
       "  </tbody>\n",
       "</table>\n",
       "</div>"
      ],
      "text/plain": [
       "              count       mean        std     min   25%   50%   75%     max  \\\n",
       "temp       582007.0  51.870436  10.052519    23.0  45.0  52.0  59.0    79.0   \n",
       "humid      582007.0  76.753400  13.792823     0.0  68.0  77.0  87.0   100.0   \n",
       "windspeed  582007.0  12.206943   5.840677     0.0   8.0  12.0  15.0    41.0   \n",
       "DWELLTIME  582007.0   8.548136  20.418713     0.0   0.0   0.0  13.0  3110.0   \n",
       "DIFFTIME   572778.0  58.748274  63.233015 -2737.0  26.0  43.0  69.0  4166.0   \n",
       "\n",
       "           %missing  card  \n",
       "temp        0.00000    32  \n",
       "humid       0.00000    64  \n",
       "windspeed   0.00000    35  \n",
       "DWELLTIME   0.00000   453  \n",
       "DIFFTIME    1.58572   957  "
      ]
     },
     "execution_count": 22,
     "metadata": {},
     "output_type": "execute_result"
    }
   ],
   "source": [
    "DF_describe_con = DF[cols_con].describe().T\n",
    "missing = 100 * (DF[cols_con].isnull().sum()/DF.shape[0])\n",
    "card = DF[cols_con].nunique()\n",
    "DF_describe_con = pd.concat([DF_describe_con, pd.DataFrame(missing, columns=['%missing']), pd.DataFrame(card, columns=['card'])], axis=1)\n",
    "\n",
    "del(missing)\n",
    "del(card)\n",
    "DF_describe_con"
   ]
  },
  {
   "cell_type": "code",
   "execution_count": 12,
   "metadata": {
    "ExecuteTime": {
     "end_time": "2020-07-05T15:38:56.032131Z",
     "start_time": "2020-07-05T15:38:56.016124Z"
    }
   },
   "outputs": [
    {
     "data": {
      "text/html": [
       "<div>\n",
       "<style scoped>\n",
       "    .dataframe tbody tr th:only-of-type {\n",
       "        vertical-align: middle;\n",
       "    }\n",
       "\n",
       "    .dataframe tbody tr th {\n",
       "        vertical-align: top;\n",
       "    }\n",
       "\n",
       "    .dataframe thead th {\n",
       "        text-align: right;\n",
       "    }\n",
       "</style>\n",
       "<table border=\"1\" class=\"dataframe\">\n",
       "  <thead>\n",
       "    <tr style=\"text-align: right;\">\n",
       "      <th></th>\n",
       "      <th>DAYOFSERVICE</th>\n",
       "      <th>PERIOD</th>\n",
       "    </tr>\n",
       "  </thead>\n",
       "  <tbody>\n",
       "    <tr>\n",
       "      <th>6502</th>\n",
       "      <td>2018-01-05</td>\n",
       "      <td>21:00:00</td>\n",
       "    </tr>\n",
       "    <tr>\n",
       "      <th>6503</th>\n",
       "      <td>2018-01-05</td>\n",
       "      <td>21:00:00</td>\n",
       "    </tr>\n",
       "    <tr>\n",
       "      <th>6504</th>\n",
       "      <td>2018-01-05</td>\n",
       "      <td>21:00:00</td>\n",
       "    </tr>\n",
       "    <tr>\n",
       "      <th>6505</th>\n",
       "      <td>2018-01-05</td>\n",
       "      <td>21:00:00</td>\n",
       "    </tr>\n",
       "    <tr>\n",
       "      <th>6506</th>\n",
       "      <td>2018-01-05</td>\n",
       "      <td>21:00:00</td>\n",
       "    </tr>\n",
       "    <tr>\n",
       "      <th>...</th>\n",
       "      <td>...</td>\n",
       "      <td>...</td>\n",
       "    </tr>\n",
       "    <tr>\n",
       "      <th>548896</th>\n",
       "      <td>2018-12-06</td>\n",
       "      <td>17:30:00</td>\n",
       "    </tr>\n",
       "    <tr>\n",
       "      <th>548897</th>\n",
       "      <td>2018-12-06</td>\n",
       "      <td>17:30:00</td>\n",
       "    </tr>\n",
       "    <tr>\n",
       "      <th>548898</th>\n",
       "      <td>2018-12-06</td>\n",
       "      <td>17:30:00</td>\n",
       "    </tr>\n",
       "    <tr>\n",
       "      <th>548899</th>\n",
       "      <td>2018-12-06</td>\n",
       "      <td>17:30:00</td>\n",
       "    </tr>\n",
       "    <tr>\n",
       "      <th>548900</th>\n",
       "      <td>2018-12-06</td>\n",
       "      <td>17:30:00</td>\n",
       "    </tr>\n",
       "  </tbody>\n",
       "</table>\n",
       "<p>15288 rows × 2 columns</p>\n",
       "</div>"
      ],
      "text/plain": [
       "       DAYOFSERVICE    PERIOD\n",
       "6502     2018-01-05  21:00:00\n",
       "6503     2018-01-05  21:00:00\n",
       "6504     2018-01-05  21:00:00\n",
       "6505     2018-01-05  21:00:00\n",
       "6506     2018-01-05  21:00:00\n",
       "...             ...       ...\n",
       "548896   2018-12-06  17:30:00\n",
       "548897   2018-12-06  17:30:00\n",
       "548898   2018-12-06  17:30:00\n",
       "548899   2018-12-06  17:30:00\n",
       "548900   2018-12-06  17:30:00\n",
       "\n",
       "[15288 rows x 2 columns]"
      ]
     },
     "execution_count": 12,
     "metadata": {},
     "output_type": "execute_result"
    }
   ],
   "source": [
    "DF.loc[DF[\"temp\"].isnull(),[\"DAYOFSERVICE\",\"PERIOD\"]]"
   ]
  },
  {
   "cell_type": "code",
   "execution_count": null,
   "metadata": {
    "ExecuteTime": {
     "end_time": "2020-07-05T12:22:06.960872Z",
     "start_time": "2020-07-05T12:22:06.902963Z"
    }
   },
   "outputs": [],
   "source": [
    "DF.loc[DF[\"temp\"].isnull(),[\"DAYOFSERVICE\",\"PERIOD\"]].values.ravel('K')"
   ]
  },
  {
   "cell_type": "code",
   "execution_count": null,
   "metadata": {
    "ExecuteTime": {
     "end_time": "2020-07-05T12:22:43.735388Z",
     "start_time": "2020-07-05T12:22:43.729342Z"
    }
   },
   "outputs": [],
   "source": [
    "DF.loc[DF[\"temp\"].isnull(),\"DAYOFSERVICE\"].unique()"
   ]
  },
  {
   "cell_type": "code",
   "execution_count": null,
   "metadata": {},
   "outputs": [],
   "source": [
    "df_table_continuous = df_converted[continuous_columns].describe().T\n",
    "continuous_missing = 100 * (df_converted[continuous_columns].isnull().sum()/df_converted.shape[0])\n",
    "continuous_card = df_converted[continuous_columns].nunique()\n",
    "\n",
    "# continuous_missing and cardinality\n",
    "df_continuous_missing = pd.DataFrame(continuous_missing, columns=['%missing'])\n",
    "df_continuous_card = pd.DataFrame(continuous_card, columns=['card'])\n",
    "df_table_continuous = pd.concat([df_table_continuous, df_continuous_missing, df_continuous_card], axis=1)\n",
    "df_table_continuous"
   ]
  },
  {
   "cell_type": "code",
   "execution_count": null,
   "metadata": {},
   "outputs": [],
   "source": []
  },
  {
   "cell_type": "code",
   "execution_count": null,
   "metadata": {},
   "outputs": [],
   "source": []
  },
  {
   "cell_type": "code",
   "execution_count": null,
   "metadata": {},
   "outputs": [],
   "source": []
  },
  {
   "cell_type": "code",
   "execution_count": null,
   "metadata": {},
   "outputs": [],
   "source": []
  },
  {
   "cell_type": "markdown",
   "metadata": {},
   "source": [
    "## Handle Data issues"
   ]
  },
  {
   "cell_type": "code",
   "execution_count": null,
   "metadata": {},
   "outputs": [],
   "source": []
  },
  {
   "cell_type": "code",
   "execution_count": null,
   "metadata": {
    "ExecuteTime": {
     "end_time": "2020-07-05T07:44:25.344043Z",
     "start_time": "2020-07-05T07:44:25.319068Z"
    },
    "scrolled": false
   },
   "outputs": [],
   "source": [
    "criteries = \"DIFFTIME>=4000\"\n",
    "DF[DF.eval(criteries)]"
   ]
  },
  {
   "cell_type": "code",
   "execution_count": null,
   "metadata": {
    "ExecuteTime": {
     "end_time": "2020-07-05T07:44:40.673704Z",
     "start_time": "2020-07-05T07:44:40.654755Z"
    }
   },
   "outputs": [],
   "source": [
    "DF.loc[84180:84190]"
   ]
  },
  {
   "cell_type": "code",
   "execution_count": null,
   "metadata": {
    "ExecuteTime": {
     "end_time": "2020-07-05T07:45:15.930340Z",
     "start_time": "2020-07-05T07:45:15.909356Z"
    }
   },
   "outputs": [],
   "source": [
    "criteries = \"DIFFTIME<0\"\n",
    "DF[DF.eval(criteries)]"
   ]
  },
  {
   "cell_type": "code",
   "execution_count": null,
   "metadata": {
    "ExecuteTime": {
     "end_time": "2020-07-05T07:45:51.222699Z",
     "start_time": "2020-07-05T07:45:51.203748Z"
    }
   },
   "outputs": [],
   "source": [
    "DF.loc[117515:117523]"
   ]
  },
  {
   "cell_type": "code",
   "execution_count": null,
   "metadata": {
    "ExecuteTime": {
     "end_time": "2020-07-05T07:43:03.501453Z",
     "start_time": "2020-07-05T07:43:03.466585Z"
    }
   },
   "outputs": [],
   "source": [
    "criteries = \"TRIPID=='6265084'\"\n",
    "DF[DF.eval(criteries)].to_csv(\"test5.csv\")"
   ]
  },
  {
   "cell_type": "code",
   "execution_count": null,
   "metadata": {
    "ExecuteTime": {
     "end_time": "2020-07-05T07:44:58.909800Z",
     "start_time": "2020-07-05T07:44:58.886829Z"
    }
   },
   "outputs": [],
   "source": [
    "criteries = \"DIFFTIME==0\"\n",
    "DF[DF.eval(criteries)]"
   ]
  },
  {
   "cell_type": "code",
   "execution_count": null,
   "metadata": {
    "ExecuteTime": {
     "end_time": "2020-07-05T07:38:03.430753Z",
     "start_time": "2020-07-05T07:38:03.412787Z"
    },
    "scrolled": true
   },
   "outputs": [],
   "source": [
    "DF.loc[111360:111370]"
   ]
  },
  {
   "cell_type": "code",
   "execution_count": null,
   "metadata": {
    "ExecuteTime": {
     "end_time": "2020-07-05T07:44:25.344043Z",
     "start_time": "2020-07-05T07:44:25.319068Z"
    },
    "scrolled": true
   },
   "outputs": [],
   "source": [
    "criteries = \"DIFFTIME>=4000\"\n",
    "DF[DF.eval(criteries)]"
   ]
  },
  {
   "cell_type": "code",
   "execution_count": null,
   "metadata": {
    "ExecuteTime": {
     "end_time": "2020-07-05T07:44:40.673704Z",
     "start_time": "2020-07-05T07:44:40.654755Z"
    }
   },
   "outputs": [],
   "source": [
    "DF.loc[84180:84190]"
   ]
  },
  {
   "cell_type": "code",
   "execution_count": null,
   "metadata": {
    "ExecuteTime": {
     "end_time": "2020-07-05T07:45:15.930340Z",
     "start_time": "2020-07-05T07:45:15.909356Z"
    }
   },
   "outputs": [],
   "source": [
    "criteries = \"DIFFTIME<0\"\n",
    "DF[DF.eval(criteries)]"
   ]
  },
  {
   "cell_type": "code",
   "execution_count": null,
   "metadata": {
    "ExecuteTime": {
     "end_time": "2020-07-05T07:45:51.222699Z",
     "start_time": "2020-07-05T07:45:51.203748Z"
    }
   },
   "outputs": [],
   "source": [
    "DF.loc[117515:117523]"
   ]
  },
  {
   "cell_type": "code",
   "execution_count": null,
   "metadata": {
    "ExecuteTime": {
     "end_time": "2020-07-05T07:43:03.501453Z",
     "start_time": "2020-07-05T07:43:03.466585Z"
    }
   },
   "outputs": [],
   "source": [
    "criteries = \"TRIPID=='6265084'\"\n",
    "DF[DF.eval(criteries)].to_csv(\"test5.csv\")"
   ]
  },
  {
   "cell_type": "code",
   "execution_count": null,
   "metadata": {
    "ExecuteTime": {
     "end_time": "2020-07-05T07:44:58.909800Z",
     "start_time": "2020-07-05T07:44:58.886829Z"
    }
   },
   "outputs": [],
   "source": [
    "criteries = \"DIFFTIME==0\"\n",
    "DF[DF.eval(criteries)]"
   ]
  },
  {
   "cell_type": "code",
   "execution_count": null,
   "metadata": {
    "ExecuteTime": {
     "end_time": "2020-07-05T07:38:03.430753Z",
     "start_time": "2020-07-05T07:38:03.412787Z"
    },
    "scrolled": true
   },
   "outputs": [],
   "source": [
    "DF.loc[111360:111370]"
   ]
  },
  {
   "cell_type": "code",
   "execution_count": null,
   "metadata": {},
   "outputs": [],
   "source": [
    "criteries = \"DIFFTIME>=4000\"\n",
    "DF[DF.eval(criteries)]\n",
    "\n",
    "DF.loc[84180:84190]\n",
    "\n",
    "criteries = \"DIFFTIME<0\"\n",
    "DF[DF.eval(criteries)]\n",
    "\n",
    "DF.loc[117515:117523]\n",
    "\n",
    "criteries = \"TRIPID=='6265084'\"\n",
    "DF[DF.eval(criteries)].to_csv(\"test5.csv\")\n",
    "\n",
    "criteries = \"DIFFTIME==0\"\n",
    "DF[DF.eval(criteries)]\n",
    "\n",
    "DF.loc[111360:111370]"
   ]
  },
  {
   "cell_type": "code",
   "execution_count": null,
   "metadata": {},
   "outputs": [],
   "source": []
  },
  {
   "cell_type": "code",
   "execution_count": null,
   "metadata": {},
   "outputs": [],
   "source": []
  }
 ],
 "metadata": {
  "kernelspec": {
   "display_name": "H1_dataanalysis",
   "language": "python",
   "name": "h1_dataanalysis"
  },
  "language_info": {
   "codemirror_mode": {
    "name": "ipython",
    "version": 3
   },
   "file_extension": ".py",
   "mimetype": "text/x-python",
   "name": "python",
   "nbconvert_exporter": "python",
   "pygments_lexer": "ipython3",
   "version": "3.7.6"
  },
  "toc": {
   "base_numbering": 1,
   "nav_menu": {},
   "number_sections": true,
   "sideBar": true,
   "skip_h1_title": false,
   "title_cell": "Table of Contents",
   "title_sidebar": "Contents",
   "toc_cell": false,
   "toc_position": {},
   "toc_section_display": true,
   "toc_window_display": false
  },
  "varInspector": {
   "cols": {
    "lenName": 16,
    "lenType": 16,
    "lenVar": 40
   },
   "kernels_config": {
    "python": {
     "delete_cmd_postfix": "",
     "delete_cmd_prefix": "del ",
     "library": "var_list.py",
     "varRefreshCmd": "print(var_dic_list())"
    },
    "r": {
     "delete_cmd_postfix": ") ",
     "delete_cmd_prefix": "rm(",
     "library": "var_list.r",
     "varRefreshCmd": "cat(var_dic_list()) "
    }
   },
   "types_to_exclude": [
    "module",
    "function",
    "builtin_function_or_method",
    "instance",
    "_Feature"
   ],
   "window_display": false
  }
 },
 "nbformat": 4,
 "nbformat_minor": 2
}
